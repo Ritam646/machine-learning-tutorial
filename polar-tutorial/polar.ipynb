{
 "cells": [
  {
   "cell_type": "markdown",
   "id": "d14613df",
   "metadata": {},
   "source": [
    "## polar is more faster than pandas . it is same like pandas but it's performance is high"
   ]
  },
  {
   "cell_type": "code",
   "execution_count": 28,
   "id": "7ffa2132",
   "metadata": {},
   "outputs": [],
   "source": [
    "import polars as pl"
   ]
  },
  {
   "cell_type": "code",
   "execution_count": 29,
   "id": "2b4f70fa",
   "metadata": {},
   "outputs": [
    {
     "data": {
      "text/html": [
       "<div><style>\n",
       ".dataframe > thead > tr,\n",
       ".dataframe > tbody > tr {\n",
       "  text-align: right;\n",
       "  white-space: pre-wrap;\n",
       "}\n",
       "</style>\n",
       "<small>shape: (5, 12)</small><table border=\"1\" class=\"dataframe\"><thead><tr><th>PassengerId</th><th>Survived</th><th>Pclass</th><th>Name</th><th>Sex</th><th>Age</th><th>SibSp</th><th>Parch</th><th>Ticket</th><th>Fare</th><th>Cabin</th><th>Embarked</th></tr><tr><td>i64</td><td>i64</td><td>i64</td><td>str</td><td>str</td><td>f64</td><td>i64</td><td>i64</td><td>str</td><td>f64</td><td>str</td><td>str</td></tr></thead><tbody><tr><td>1</td><td>0</td><td>3</td><td>&quot;Braund, Mr. Owen Harris&quot;</td><td>&quot;male&quot;</td><td>22.0</td><td>1</td><td>0</td><td>&quot;A/5 21171&quot;</td><td>7.25</td><td>null</td><td>&quot;S&quot;</td></tr><tr><td>2</td><td>1</td><td>1</td><td>&quot;Cumings, Mrs. John Bradley (Fl…</td><td>&quot;female&quot;</td><td>38.0</td><td>1</td><td>0</td><td>&quot;PC 17599&quot;</td><td>71.2833</td><td>&quot;C85&quot;</td><td>&quot;C&quot;</td></tr><tr><td>3</td><td>1</td><td>3</td><td>&quot;Heikkinen, Miss. Laina&quot;</td><td>&quot;female&quot;</td><td>26.0</td><td>0</td><td>0</td><td>&quot;STON/O2. 3101282&quot;</td><td>7.925</td><td>null</td><td>&quot;S&quot;</td></tr><tr><td>4</td><td>1</td><td>1</td><td>&quot;Futrelle, Mrs. Jacques Heath (…</td><td>&quot;female&quot;</td><td>35.0</td><td>1</td><td>0</td><td>&quot;113803&quot;</td><td>53.1</td><td>&quot;C123&quot;</td><td>&quot;S&quot;</td></tr><tr><td>5</td><td>0</td><td>3</td><td>&quot;Allen, Mr. William Henry&quot;</td><td>&quot;male&quot;</td><td>35.0</td><td>0</td><td>0</td><td>&quot;373450&quot;</td><td>8.05</td><td>null</td><td>&quot;S&quot;</td></tr></tbody></table></div>"
      ],
      "text/plain": [
       "shape: (5, 12)\n",
       "┌─────────────┬──────────┬────────┬───────────────────┬───┬───────────┬─────────┬───────┬──────────┐\n",
       "│ PassengerId ┆ Survived ┆ Pclass ┆ Name              ┆ … ┆ Ticket    ┆ Fare    ┆ Cabin ┆ Embarked │\n",
       "│ ---         ┆ ---      ┆ ---    ┆ ---               ┆   ┆ ---       ┆ ---     ┆ ---   ┆ ---      │\n",
       "│ i64         ┆ i64      ┆ i64    ┆ str               ┆   ┆ str       ┆ f64     ┆ str   ┆ str      │\n",
       "╞═════════════╪══════════╪════════╪═══════════════════╪═══╪═══════════╪═════════╪═══════╪══════════╡\n",
       "│ 1           ┆ 0        ┆ 3      ┆ Braund, Mr. Owen  ┆ … ┆ A/5 21171 ┆ 7.25    ┆ null  ┆ S        │\n",
       "│             ┆          ┆        ┆ Harris            ┆   ┆           ┆         ┆       ┆          │\n",
       "│ 2           ┆ 1        ┆ 1      ┆ Cumings, Mrs.     ┆ … ┆ PC 17599  ┆ 71.2833 ┆ C85   ┆ C        │\n",
       "│             ┆          ┆        ┆ John Bradley (Fl… ┆   ┆           ┆         ┆       ┆          │\n",
       "│ 3           ┆ 1        ┆ 3      ┆ Heikkinen, Miss.  ┆ … ┆ STON/O2.  ┆ 7.925   ┆ null  ┆ S        │\n",
       "│             ┆          ┆        ┆ Laina             ┆   ┆ 3101282   ┆         ┆       ┆          │\n",
       "│ 4           ┆ 1        ┆ 1      ┆ Futrelle, Mrs.    ┆ … ┆ 113803    ┆ 53.1    ┆ C123  ┆ S        │\n",
       "│             ┆          ┆        ┆ Jacques Heath (…  ┆   ┆           ┆         ┆       ┆          │\n",
       "│ 5           ┆ 0        ┆ 3      ┆ Allen, Mr.        ┆ … ┆ 373450    ┆ 8.05    ┆ null  ┆ S        │\n",
       "│             ┆          ┆        ┆ William Henry     ┆   ┆           ┆         ┆       ┆          │\n",
       "└─────────────┴──────────┴────────┴───────────────────┴───┴───────────┴─────────┴───────┴──────────┘"
      ]
     },
     "execution_count": 29,
     "metadata": {},
     "output_type": "execute_result"
    }
   ],
   "source": [
    "df = pl.read_csv('titanic.csv')\n",
    "df.head()"
   ]
  },
  {
   "cell_type": "code",
   "execution_count": 30,
   "id": "ff773db5",
   "metadata": {},
   "outputs": [
    {
     "data": {
      "text/plain": [
       "(891, 12)"
      ]
     },
     "execution_count": 30,
     "metadata": {},
     "output_type": "execute_result"
    }
   ],
   "source": [
    "df.shape"
   ]
  },
  {
   "cell_type": "code",
   "execution_count": 31,
   "id": "e9aada73",
   "metadata": {},
   "outputs": [
    {
     "data": {
      "text/plain": [
       "[Int64,\n",
       " Int64,\n",
       " Int64,\n",
       " String,\n",
       " String,\n",
       " Float64,\n",
       " Int64,\n",
       " Int64,\n",
       " String,\n",
       " Float64,\n",
       " String,\n",
       " String]"
      ]
     },
     "execution_count": 31,
     "metadata": {},
     "output_type": "execute_result"
    }
   ],
   "source": [
    "df.dtypes"
   ]
  },
  {
   "cell_type": "code",
   "execution_count": 32,
   "id": "3617374c",
   "metadata": {},
   "outputs": [
    {
     "data": {
      "text/html": [
       "<div><style>\n",
       ".dataframe > thead > tr,\n",
       ".dataframe > tbody > tr {\n",
       "  text-align: right;\n",
       "  white-space: pre-wrap;\n",
       "}\n",
       "</style>\n",
       "<small>shape: (1, 12)</small><table border=\"1\" class=\"dataframe\"><thead><tr><th>PassengerId</th><th>Survived</th><th>Pclass</th><th>Name</th><th>Sex</th><th>Age</th><th>SibSp</th><th>Parch</th><th>Ticket</th><th>Fare</th><th>Cabin</th><th>Embarked</th></tr><tr><td>i64</td><td>i64</td><td>i64</td><td>str</td><td>str</td><td>f64</td><td>i64</td><td>i64</td><td>str</td><td>f64</td><td>str</td><td>str</td></tr></thead><tbody><tr><td>1</td><td>0</td><td>3</td><td>&quot;Braund, Mr. Owen Harris&quot;</td><td>&quot;male&quot;</td><td>22.0</td><td>1</td><td>0</td><td>&quot;A/5 21171&quot;</td><td>7.25</td><td>null</td><td>&quot;S&quot;</td></tr></tbody></table></div>"
      ],
      "text/plain": [
       "shape: (1, 12)\n",
       "┌─────────────┬──────────┬────────┬──────────────────┬───┬───────────┬──────┬───────┬──────────┐\n",
       "│ PassengerId ┆ Survived ┆ Pclass ┆ Name             ┆ … ┆ Ticket    ┆ Fare ┆ Cabin ┆ Embarked │\n",
       "│ ---         ┆ ---      ┆ ---    ┆ ---              ┆   ┆ ---       ┆ ---  ┆ ---   ┆ ---      │\n",
       "│ i64         ┆ i64      ┆ i64    ┆ str              ┆   ┆ str       ┆ f64  ┆ str   ┆ str      │\n",
       "╞═════════════╪══════════╪════════╪══════════════════╪═══╪═══════════╪══════╪═══════╪══════════╡\n",
       "│ 1           ┆ 0        ┆ 3      ┆ Braund, Mr. Owen ┆ … ┆ A/5 21171 ┆ 7.25 ┆ null  ┆ S        │\n",
       "│             ┆          ┆        ┆ Harris           ┆   ┆           ┆      ┆       ┆          │\n",
       "└─────────────┴──────────┴────────┴──────────────────┴───┴───────────┴──────┴───────┴──────────┘"
      ]
     },
     "execution_count": 32,
     "metadata": {},
     "output_type": "execute_result"
    }
   ],
   "source": [
    "df[0,:]"
   ]
  },
  {
   "cell_type": "code",
   "execution_count": 33,
   "id": "d066a3c9",
   "metadata": {},
   "outputs": [
    {
     "data": {
      "text/html": [
       "<div><style>\n",
       ".dataframe > thead > tr,\n",
       ".dataframe > tbody > tr {\n",
       "  text-align: right;\n",
       "  white-space: pre-wrap;\n",
       "}\n",
       "</style>\n",
       "<small>shape: (1, 2)</small><table border=\"1\" class=\"dataframe\"><thead><tr><th>Pclass</th><th>Name</th></tr><tr><td>i64</td><td>str</td></tr></thead><tbody><tr><td>3</td><td>&quot;Braund, Mr. Owen Harris&quot;</td></tr></tbody></table></div>"
      ],
      "text/plain": [
       "shape: (1, 2)\n",
       "┌────────┬─────────────────────────┐\n",
       "│ Pclass ┆ Name                    │\n",
       "│ ---    ┆ ---                     │\n",
       "│ i64    ┆ str                     │\n",
       "╞════════╪═════════════════════════╡\n",
       "│ 3      ┆ Braund, Mr. Owen Harris │\n",
       "└────────┴─────────────────────────┘"
      ]
     },
     "execution_count": 33,
     "metadata": {},
     "output_type": "execute_result"
    }
   ],
   "source": [
    "df[0,2:4]"
   ]
  },
  {
   "cell_type": "code",
   "execution_count": 34,
   "id": "aaa18516",
   "metadata": {},
   "outputs": [
    {
     "data": {
      "text/html": [
       "<div><style>\n",
       ".dataframe > thead > tr,\n",
       ".dataframe > tbody > tr {\n",
       "  text-align: right;\n",
       "  white-space: pre-wrap;\n",
       "}\n",
       "</style>\n",
       "<small>shape: (2, 3)</small><table border=\"1\" class=\"dataframe\"><thead><tr><th>Pclass</th><th>Name</th><th>Sex</th></tr><tr><td>i64</td><td>str</td><td>str</td></tr></thead><tbody><tr><td>3</td><td>&quot;Braund, Mr. Owen Harris&quot;</td><td>&quot;male&quot;</td></tr><tr><td>1</td><td>&quot;Cumings, Mrs. John Bradley (Fl…</td><td>&quot;female&quot;</td></tr></tbody></table></div>"
      ],
      "text/plain": [
       "shape: (2, 3)\n",
       "┌────────┬─────────────────────────────────┬────────┐\n",
       "│ Pclass ┆ Name                            ┆ Sex    │\n",
       "│ ---    ┆ ---                             ┆ ---    │\n",
       "│ i64    ┆ str                             ┆ str    │\n",
       "╞════════╪═════════════════════════════════╪════════╡\n",
       "│ 3      ┆ Braund, Mr. Owen Harris         ┆ male   │\n",
       "│ 1      ┆ Cumings, Mrs. John Bradley (Fl… ┆ female │\n",
       "└────────┴─────────────────────────────────┴────────┘"
      ]
     },
     "execution_count": 34,
     "metadata": {},
     "output_type": "execute_result"
    }
   ],
   "source": [
    "df[0:2,2:5]"
   ]
  },
  {
   "cell_type": "code",
   "execution_count": 35,
   "id": "a916abae",
   "metadata": {},
   "outputs": [
    {
     "data": {
      "text/html": [
       "<div><style>\n",
       ".dataframe > thead > tr,\n",
       ".dataframe > tbody > tr {\n",
       "  text-align: right;\n",
       "  white-space: pre-wrap;\n",
       "}\n",
       "</style>\n",
       "<small>shape: (5, 12)</small><table border=\"1\" class=\"dataframe\"><thead><tr><th>PassengerId</th><th>Survived</th><th>Pclass</th><th>Name</th><th>Sex</th><th>Age</th><th>SibSp</th><th>Parch</th><th>Ticket</th><th>Fare</th><th>Cabin</th><th>Embarked</th></tr><tr><td>i64</td><td>i64</td><td>i64</td><td>str</td><td>str</td><td>f64</td><td>i64</td><td>i64</td><td>str</td><td>f64</td><td>str</td><td>str</td></tr></thead><tbody><tr><td>854</td><td>1</td><td>1</td><td>&quot;Lines, Miss. Mary Conover&quot;</td><td>&quot;female&quot;</td><td>16.0</td><td>0</td><td>1</td><td>&quot;PC 17592&quot;</td><td>39.4</td><td>&quot;D28&quot;</td><td>&quot;S&quot;</td></tr><tr><td>47</td><td>0</td><td>3</td><td>&quot;Lennon, Mr. Denis&quot;</td><td>&quot;male&quot;</td><td>null</td><td>1</td><td>0</td><td>&quot;370371&quot;</td><td>15.5</td><td>null</td><td>&quot;Q&quot;</td></tr><tr><td>8</td><td>0</td><td>3</td><td>&quot;Palsson, Master. Gosta Leonard&quot;</td><td>&quot;male&quot;</td><td>2.0</td><td>3</td><td>1</td><td>&quot;349909&quot;</td><td>21.075</td><td>null</td><td>&quot;S&quot;</td></tr><tr><td>216</td><td>1</td><td>1</td><td>&quot;Newell, Miss. Madeleine&quot;</td><td>&quot;female&quot;</td><td>31.0</td><td>1</td><td>0</td><td>&quot;35273&quot;</td><td>113.275</td><td>&quot;D36&quot;</td><td>&quot;C&quot;</td></tr><tr><td>118</td><td>0</td><td>2</td><td>&quot;Turpin, Mr. William John Rober…</td><td>&quot;male&quot;</td><td>29.0</td><td>1</td><td>0</td><td>&quot;11668&quot;</td><td>21.0</td><td>null</td><td>&quot;S&quot;</td></tr></tbody></table></div>"
      ],
      "text/plain": [
       "shape: (5, 12)\n",
       "┌─────────────┬──────────┬────────┬────────────────────┬───┬──────────┬─────────┬───────┬──────────┐\n",
       "│ PassengerId ┆ Survived ┆ Pclass ┆ Name               ┆ … ┆ Ticket   ┆ Fare    ┆ Cabin ┆ Embarked │\n",
       "│ ---         ┆ ---      ┆ ---    ┆ ---                ┆   ┆ ---      ┆ ---     ┆ ---   ┆ ---      │\n",
       "│ i64         ┆ i64      ┆ i64    ┆ str                ┆   ┆ str      ┆ f64     ┆ str   ┆ str      │\n",
       "╞═════════════╪══════════╪════════╪════════════════════╪═══╪══════════╪═════════╪═══════╪══════════╡\n",
       "│ 854         ┆ 1        ┆ 1      ┆ Lines, Miss. Mary  ┆ … ┆ PC 17592 ┆ 39.4    ┆ D28   ┆ S        │\n",
       "│             ┆          ┆        ┆ Conover            ┆   ┆          ┆         ┆       ┆          │\n",
       "│ 47          ┆ 0        ┆ 3      ┆ Lennon, Mr. Denis  ┆ … ┆ 370371   ┆ 15.5    ┆ null  ┆ Q        │\n",
       "│ 8           ┆ 0        ┆ 3      ┆ Palsson, Master.   ┆ … ┆ 349909   ┆ 21.075  ┆ null  ┆ S        │\n",
       "│             ┆          ┆        ┆ Gosta Leonard      ┆   ┆          ┆         ┆       ┆          │\n",
       "│ 216         ┆ 1        ┆ 1      ┆ Newell, Miss.      ┆ … ┆ 35273    ┆ 113.275 ┆ D36   ┆ C        │\n",
       "│             ┆          ┆        ┆ Madeleine          ┆   ┆          ┆         ┆       ┆          │\n",
       "│ 118         ┆ 0        ┆ 2      ┆ Turpin, Mr.        ┆ … ┆ 11668    ┆ 21.0    ┆ null  ┆ S        │\n",
       "│             ┆          ┆        ┆ William John       ┆   ┆          ┆         ┆       ┆          │\n",
       "│             ┆          ┆        ┆ Rober…             ┆   ┆          ┆         ┆       ┆          │\n",
       "└─────────────┴──────────┴────────┴────────────────────┴───┴──────────┴─────────┴───────┴──────────┘"
      ]
     },
     "execution_count": 35,
     "metadata": {},
     "output_type": "execute_result"
    }
   ],
   "source": [
    "df.sample(5)"
   ]
  },
  {
   "cell_type": "code",
   "execution_count": 36,
   "id": "0433dc28",
   "metadata": {},
   "outputs": [
    {
     "data": {
      "text/html": [
       "<div><style>\n",
       ".dataframe > thead > tr,\n",
       ".dataframe > tbody > tr {\n",
       "  text-align: right;\n",
       "  white-space: pre-wrap;\n",
       "}\n",
       "</style>\n",
       "<small>shape: (5, 12)</small><table border=\"1\" class=\"dataframe\"><thead><tr><th>PassengerId</th><th>Survived</th><th>Pclass</th><th>Name</th><th>Sex</th><th>Age</th><th>SibSp</th><th>Parch</th><th>Ticket</th><th>Fare</th><th>Cabin</th><th>Embarked</th></tr><tr><td>i64</td><td>i64</td><td>i64</td><td>str</td><td>str</td><td>f64</td><td>i64</td><td>i64</td><td>str</td><td>f64</td><td>str</td><td>str</td></tr></thead><tbody><tr><td>1</td><td>0</td><td>3</td><td>&quot;Braund, Mr. Owen Harris&quot;</td><td>&quot;male&quot;</td><td>22.0</td><td>1</td><td>0</td><td>&quot;A/5 21171&quot;</td><td>7.25</td><td>null</td><td>&quot;S&quot;</td></tr><tr><td>2</td><td>1</td><td>1</td><td>&quot;Cumings, Mrs. John Bradley (Fl…</td><td>&quot;female&quot;</td><td>38.0</td><td>1</td><td>0</td><td>&quot;PC 17599&quot;</td><td>71.2833</td><td>&quot;C85&quot;</td><td>&quot;C&quot;</td></tr><tr><td>3</td><td>1</td><td>3</td><td>&quot;Heikkinen, Miss. Laina&quot;</td><td>&quot;female&quot;</td><td>26.0</td><td>0</td><td>0</td><td>&quot;STON/O2. 3101282&quot;</td><td>7.925</td><td>null</td><td>&quot;S&quot;</td></tr><tr><td>4</td><td>1</td><td>1</td><td>&quot;Futrelle, Mrs. Jacques Heath (…</td><td>&quot;female&quot;</td><td>35.0</td><td>1</td><td>0</td><td>&quot;113803&quot;</td><td>53.1</td><td>&quot;C123&quot;</td><td>&quot;S&quot;</td></tr><tr><td>5</td><td>0</td><td>3</td><td>&quot;Allen, Mr. William Henry&quot;</td><td>&quot;male&quot;</td><td>35.0</td><td>0</td><td>0</td><td>&quot;373450&quot;</td><td>8.05</td><td>null</td><td>&quot;S&quot;</td></tr></tbody></table></div>"
      ],
      "text/plain": [
       "shape: (5, 12)\n",
       "┌─────────────┬──────────┬────────┬───────────────────┬───┬───────────┬─────────┬───────┬──────────┐\n",
       "│ PassengerId ┆ Survived ┆ Pclass ┆ Name              ┆ … ┆ Ticket    ┆ Fare    ┆ Cabin ┆ Embarked │\n",
       "│ ---         ┆ ---      ┆ ---    ┆ ---               ┆   ┆ ---       ┆ ---     ┆ ---   ┆ ---      │\n",
       "│ i64         ┆ i64      ┆ i64    ┆ str               ┆   ┆ str       ┆ f64     ┆ str   ┆ str      │\n",
       "╞═════════════╪══════════╪════════╪═══════════════════╪═══╪═══════════╪═════════╪═══════╪══════════╡\n",
       "│ 1           ┆ 0        ┆ 3      ┆ Braund, Mr. Owen  ┆ … ┆ A/5 21171 ┆ 7.25    ┆ null  ┆ S        │\n",
       "│             ┆          ┆        ┆ Harris            ┆   ┆           ┆         ┆       ┆          │\n",
       "│ 2           ┆ 1        ┆ 1      ┆ Cumings, Mrs.     ┆ … ┆ PC 17599  ┆ 71.2833 ┆ C85   ┆ C        │\n",
       "│             ┆          ┆        ┆ John Bradley (Fl… ┆   ┆           ┆         ┆       ┆          │\n",
       "│ 3           ┆ 1        ┆ 3      ┆ Heikkinen, Miss.  ┆ … ┆ STON/O2.  ┆ 7.925   ┆ null  ┆ S        │\n",
       "│             ┆          ┆        ┆ Laina             ┆   ┆ 3101282   ┆         ┆       ┆          │\n",
       "│ 4           ┆ 1        ┆ 1      ┆ Futrelle, Mrs.    ┆ … ┆ 113803    ┆ 53.1    ┆ C123  ┆ S        │\n",
       "│             ┆          ┆        ┆ Jacques Heath (…  ┆   ┆           ┆         ┆       ┆          │\n",
       "│ 5           ┆ 0        ┆ 3      ┆ Allen, Mr.        ┆ … ┆ 373450    ┆ 8.05    ┆ null  ┆ S        │\n",
       "│             ┆          ┆        ┆ William Henry     ┆   ┆           ┆         ┆       ┆          │\n",
       "└─────────────┴──────────┴────────┴───────────────────┴───┴───────────┴─────────┴───────┴──────────┘"
      ]
     },
     "execution_count": 36,
     "metadata": {},
     "output_type": "execute_result"
    }
   ],
   "source": [
    "df.head()"
   ]
  },
  {
   "cell_type": "code",
   "execution_count": 37,
   "id": "2a3dcd3a",
   "metadata": {},
   "outputs": [
    {
     "data": {
      "text/html": [
       "<div><style>\n",
       ".dataframe > thead > tr,\n",
       ".dataframe > tbody > tr {\n",
       "  text-align: right;\n",
       "  white-space: pre-wrap;\n",
       "}\n",
       "</style>\n",
       "<small>shape: (891,)</small><table border=\"1\" class=\"dataframe\"><thead><tr><th>Name</th></tr><tr><td>str</td></tr></thead><tbody><tr><td>&quot;Braund, Mr. Owen Harris&quot;</td></tr><tr><td>&quot;Cumings, Mrs. John Bradley (Fl…</td></tr><tr><td>&quot;Heikkinen, Miss. Laina&quot;</td></tr><tr><td>&quot;Futrelle, Mrs. Jacques Heath (…</td></tr><tr><td>&quot;Allen, Mr. William Henry&quot;</td></tr><tr><td>&hellip;</td></tr><tr><td>&quot;Montvila, Rev. Juozas&quot;</td></tr><tr><td>&quot;Graham, Miss. Margaret Edith&quot;</td></tr><tr><td>&quot;Johnston, Miss. Catherine Hele…</td></tr><tr><td>&quot;Behr, Mr. Karl Howell&quot;</td></tr><tr><td>&quot;Dooley, Mr. Patrick&quot;</td></tr></tbody></table></div>"
      ],
      "text/plain": [
       "shape: (891,)\n",
       "Series: 'Name' [str]\n",
       "[\n",
       "\t\"Braund, Mr. Owen Harris\"\n",
       "\t\"Cumings, Mrs. John Bradley (Fl…\n",
       "\t\"Heikkinen, Miss. Laina\"\n",
       "\t\"Futrelle, Mrs. Jacques Heath (…\n",
       "\t\"Allen, Mr. William Henry\"\n",
       "\t…\n",
       "\t\"Montvila, Rev. Juozas\"\n",
       "\t\"Graham, Miss. Margaret Edith\"\n",
       "\t\"Johnston, Miss. Catherine Hele…\n",
       "\t\"Behr, Mr. Karl Howell\"\n",
       "\t\"Dooley, Mr. Patrick\"\n",
       "]"
      ]
     },
     "execution_count": 37,
     "metadata": {},
     "output_type": "execute_result"
    }
   ],
   "source": [
    "df['Name']"
   ]
  },
  {
   "cell_type": "code",
   "execution_count": 38,
   "id": "a5ae7010",
   "metadata": {},
   "outputs": [
    {
     "name": "stdout",
     "output_type": "stream",
     "text": [
      "shape: (4, 4)\n",
      "┌────────────────┬────────────┬────────┬────────┐\n",
      "│ name           ┆ birthdate  ┆ weight ┆ height │\n",
      "│ ---            ┆ ---        ┆ ---    ┆ ---    │\n",
      "│ str            ┆ date       ┆ f64    ┆ f64    │\n",
      "╞════════════════╪════════════╪════════╪════════╡\n",
      "│ Alice Archer   ┆ 1997-01-10 ┆ 57.9   ┆ 1.56   │\n",
      "│ Ben Brown      ┆ 1985-02-15 ┆ 72.5   ┆ 1.77   │\n",
      "│ Chloe Cooper   ┆ 1983-03-22 ┆ 53.6   ┆ 1.65   │\n",
      "│ Daniel Donovan ┆ 1981-04-30 ┆ 83.1   ┆ 1.75   │\n",
      "└────────────────┴────────────┴────────┴────────┘\n"
     ]
    }
   ],
   "source": [
    "import datetime as dt\n",
    "\n",
    "df1 = pl.DataFrame(\n",
    "    {\n",
    "        \"name\": [\"Alice Archer\", \"Ben Brown\", \"Chloe Cooper\", \"Daniel Donovan\"],\n",
    "        \"birthdate\": [\n",
    "            dt.date(1997, 1, 10),\n",
    "            dt.date(1985, 2, 15),\n",
    "            dt.date(1983, 3, 22),\n",
    "            dt.date(1981, 4, 30),\n",
    "        ],\n",
    "        \"weight\": [57.9, 72.5, 53.6, 83.1],  # (kg)\n",
    "        \"height\": [1.56, 1.77, 1.65, 1.75],  # (m)\n",
    "    }\n",
    ")\n",
    "\n",
    "print(df1)"
   ]
  },
  {
   "cell_type": "code",
   "execution_count": 39,
   "id": "09222c42",
   "metadata": {},
   "outputs": [],
   "source": [
    "new_df = df.filter(pl.col(\"Sex\") == \"male\")\n"
   ]
  },
  {
   "cell_type": "code",
   "execution_count": 41,
   "id": "87881b36",
   "metadata": {},
   "outputs": [
    {
     "data": {
      "text/html": [
       "<div><style>\n",
       ".dataframe > thead > tr,\n",
       ".dataframe > tbody > tr {\n",
       "  text-align: right;\n",
       "  white-space: pre-wrap;\n",
       "}\n",
       "</style>\n",
       "<small>shape: (64, 12)</small><table border=\"1\" class=\"dataframe\"><thead><tr><th>PassengerId</th><th>Survived</th><th>Pclass</th><th>Name</th><th>Sex</th><th>Age</th><th>SibSp</th><th>Parch</th><th>Ticket</th><th>Fare</th><th>Cabin</th><th>Embarked</th></tr><tr><td>i64</td><td>i64</td><td>i64</td><td>str</td><td>str</td><td>f64</td><td>i64</td><td>i64</td><td>str</td><td>f64</td><td>str</td><td>str</td></tr></thead><tbody><tr><td>7</td><td>0</td><td>1</td><td>&quot;McCarthy, Mr. Timothy J&quot;</td><td>&quot;male&quot;</td><td>54.0</td><td>0</td><td>0</td><td>&quot;17463&quot;</td><td>51.8625</td><td>&quot;E46&quot;</td><td>&quot;S&quot;</td></tr><tr><td>12</td><td>1</td><td>1</td><td>&quot;Bonnell, Miss. Elizabeth&quot;</td><td>&quot;female&quot;</td><td>58.0</td><td>0</td><td>0</td><td>&quot;113783&quot;</td><td>26.55</td><td>&quot;C103&quot;</td><td>&quot;S&quot;</td></tr><tr><td>16</td><td>1</td><td>2</td><td>&quot;Hewlett, Mrs. (Mary D Kingcome…</td><td>&quot;female&quot;</td><td>55.0</td><td>0</td><td>0</td><td>&quot;248706&quot;</td><td>16.0</td><td>null</td><td>&quot;S&quot;</td></tr><tr><td>34</td><td>0</td><td>2</td><td>&quot;Wheadon, Mr. Edward H&quot;</td><td>&quot;male&quot;</td><td>66.0</td><td>0</td><td>0</td><td>&quot;C.A. 24579&quot;</td><td>10.5</td><td>null</td><td>&quot;S&quot;</td></tr><tr><td>55</td><td>0</td><td>1</td><td>&quot;Ostby, Mr. Engelhart Cornelius&quot;</td><td>&quot;male&quot;</td><td>65.0</td><td>0</td><td>1</td><td>&quot;113509&quot;</td><td>61.9792</td><td>&quot;B30&quot;</td><td>&quot;C&quot;</td></tr><tr><td>&hellip;</td><td>&hellip;</td><td>&hellip;</td><td>&hellip;</td><td>&hellip;</td><td>&hellip;</td><td>&hellip;</td><td>&hellip;</td><td>&hellip;</td><td>&hellip;</td><td>&hellip;</td><td>&hellip;</td></tr><tr><td>821</td><td>1</td><td>1</td><td>&quot;Hays, Mrs. Charles Melville (C…</td><td>&quot;female&quot;</td><td>52.0</td><td>1</td><td>1</td><td>&quot;12749&quot;</td><td>93.5</td><td>&quot;B69&quot;</td><td>&quot;S&quot;</td></tr><tr><td>830</td><td>1</td><td>1</td><td>&quot;Stone, Mrs. George Nelson (Mar…</td><td>&quot;female&quot;</td><td>62.0</td><td>0</td><td>0</td><td>&quot;113572&quot;</td><td>80.0</td><td>&quot;B28&quot;</td><td>null</td></tr><tr><td>852</td><td>0</td><td>3</td><td>&quot;Svensson, Mr. Johan&quot;</td><td>&quot;male&quot;</td><td>74.0</td><td>0</td><td>0</td><td>&quot;347060&quot;</td><td>7.775</td><td>null</td><td>&quot;S&quot;</td></tr><tr><td>858</td><td>1</td><td>1</td><td>&quot;Daly, Mr. Peter Denis &quot;</td><td>&quot;male&quot;</td><td>51.0</td><td>0</td><td>0</td><td>&quot;113055&quot;</td><td>26.55</td><td>&quot;E17&quot;</td><td>&quot;S&quot;</td></tr><tr><td>880</td><td>1</td><td>1</td><td>&quot;Potter, Mrs. Thomas Jr (Lily A…</td><td>&quot;female&quot;</td><td>56.0</td><td>0</td><td>1</td><td>&quot;11767&quot;</td><td>83.1583</td><td>&quot;C50&quot;</td><td>&quot;C&quot;</td></tr></tbody></table></div>"
      ],
      "text/plain": [
       "shape: (64, 12)\n",
       "┌─────────────┬──────────┬────────┬──────────────────┬───┬────────────┬─────────┬───────┬──────────┐\n",
       "│ PassengerId ┆ Survived ┆ Pclass ┆ Name             ┆ … ┆ Ticket     ┆ Fare    ┆ Cabin ┆ Embarked │\n",
       "│ ---         ┆ ---      ┆ ---    ┆ ---              ┆   ┆ ---        ┆ ---     ┆ ---   ┆ ---      │\n",
       "│ i64         ┆ i64      ┆ i64    ┆ str              ┆   ┆ str        ┆ f64     ┆ str   ┆ str      │\n",
       "╞═════════════╪══════════╪════════╪══════════════════╪═══╪════════════╪═════════╪═══════╪══════════╡\n",
       "│ 7           ┆ 0        ┆ 1      ┆ McCarthy, Mr.    ┆ … ┆ 17463      ┆ 51.8625 ┆ E46   ┆ S        │\n",
       "│             ┆          ┆        ┆ Timothy J        ┆   ┆            ┆         ┆       ┆          │\n",
       "│ 12          ┆ 1        ┆ 1      ┆ Bonnell, Miss.   ┆ … ┆ 113783     ┆ 26.55   ┆ C103  ┆ S        │\n",
       "│             ┆          ┆        ┆ Elizabeth        ┆   ┆            ┆         ┆       ┆          │\n",
       "│ 16          ┆ 1        ┆ 2      ┆ Hewlett, Mrs.    ┆ … ┆ 248706     ┆ 16.0    ┆ null  ┆ S        │\n",
       "│             ┆          ┆        ┆ (Mary D          ┆   ┆            ┆         ┆       ┆          │\n",
       "│             ┆          ┆        ┆ Kingcome…        ┆   ┆            ┆         ┆       ┆          │\n",
       "│ 34          ┆ 0        ┆ 2      ┆ Wheadon, Mr.     ┆ … ┆ C.A. 24579 ┆ 10.5    ┆ null  ┆ S        │\n",
       "│             ┆          ┆        ┆ Edward H         ┆   ┆            ┆         ┆       ┆          │\n",
       "│ 55          ┆ 0        ┆ 1      ┆ Ostby, Mr.       ┆ … ┆ 113509     ┆ 61.9792 ┆ B30   ┆ C        │\n",
       "│             ┆          ┆        ┆ Engelhart        ┆   ┆            ┆         ┆       ┆          │\n",
       "│             ┆          ┆        ┆ Cornelius        ┆   ┆            ┆         ┆       ┆          │\n",
       "│ …           ┆ …        ┆ …      ┆ …                ┆ … ┆ …          ┆ …       ┆ …     ┆ …        │\n",
       "│ 821         ┆ 1        ┆ 1      ┆ Hays, Mrs.       ┆ … ┆ 12749      ┆ 93.5    ┆ B69   ┆ S        │\n",
       "│             ┆          ┆        ┆ Charles Melville ┆   ┆            ┆         ┆       ┆          │\n",
       "│             ┆          ┆        ┆ (C…              ┆   ┆            ┆         ┆       ┆          │\n",
       "│ 830         ┆ 1        ┆ 1      ┆ Stone, Mrs.      ┆ … ┆ 113572     ┆ 80.0    ┆ B28   ┆ null     │\n",
       "│             ┆          ┆        ┆ George Nelson    ┆   ┆            ┆         ┆       ┆          │\n",
       "│             ┆          ┆        ┆ (Mar…            ┆   ┆            ┆         ┆       ┆          │\n",
       "│ 852         ┆ 0        ┆ 3      ┆ Svensson, Mr.    ┆ … ┆ 347060     ┆ 7.775   ┆ null  ┆ S        │\n",
       "│             ┆          ┆        ┆ Johan            ┆   ┆            ┆         ┆       ┆          │\n",
       "│ 858         ┆ 1        ┆ 1      ┆ Daly, Mr. Peter  ┆ … ┆ 113055     ┆ 26.55   ┆ E17   ┆ S        │\n",
       "│             ┆          ┆        ┆ Denis            ┆   ┆            ┆         ┆       ┆          │\n",
       "│ 880         ┆ 1        ┆ 1      ┆ Potter, Mrs.     ┆ … ┆ 11767      ┆ 83.1583 ┆ C50   ┆ C        │\n",
       "│             ┆          ┆        ┆ Thomas Jr (Lily  ┆   ┆            ┆         ┆       ┆          │\n",
       "│             ┆          ┆        ┆ A…               ┆   ┆            ┆         ┆       ┆          │\n",
       "└─────────────┴──────────┴────────┴──────────────────┴───┴────────────┴─────────┴───────┴──────────┘"
      ]
     },
     "execution_count": 41,
     "metadata": {},
     "output_type": "execute_result"
    }
   ],
   "source": [
    "df.filter(pl.col(\"Age\") > 50)"
   ]
  },
  {
   "cell_type": "code",
   "execution_count": 40,
   "id": "98c885f9",
   "metadata": {},
   "outputs": [
    {
     "data": {
      "text/html": [
       "<div><style>\n",
       ".dataframe > thead > tr,\n",
       ".dataframe > tbody > tr {\n",
       "  text-align: right;\n",
       "  white-space: pre-wrap;\n",
       "}\n",
       "</style>\n",
       "<small>shape: (577, 12)</small><table border=\"1\" class=\"dataframe\"><thead><tr><th>PassengerId</th><th>Survived</th><th>Pclass</th><th>Name</th><th>Sex</th><th>Age</th><th>SibSp</th><th>Parch</th><th>Ticket</th><th>Fare</th><th>Cabin</th><th>Embarked</th></tr><tr><td>i64</td><td>i64</td><td>i64</td><td>str</td><td>str</td><td>f64</td><td>i64</td><td>i64</td><td>str</td><td>f64</td><td>str</td><td>str</td></tr></thead><tbody><tr><td>1</td><td>0</td><td>3</td><td>&quot;Braund, Mr. Owen Harris&quot;</td><td>&quot;male&quot;</td><td>22.0</td><td>1</td><td>0</td><td>&quot;A/5 21171&quot;</td><td>7.25</td><td>null</td><td>&quot;S&quot;</td></tr><tr><td>5</td><td>0</td><td>3</td><td>&quot;Allen, Mr. William Henry&quot;</td><td>&quot;male&quot;</td><td>35.0</td><td>0</td><td>0</td><td>&quot;373450&quot;</td><td>8.05</td><td>null</td><td>&quot;S&quot;</td></tr><tr><td>6</td><td>0</td><td>3</td><td>&quot;Moran, Mr. James&quot;</td><td>&quot;male&quot;</td><td>null</td><td>0</td><td>0</td><td>&quot;330877&quot;</td><td>8.4583</td><td>null</td><td>&quot;Q&quot;</td></tr><tr><td>7</td><td>0</td><td>1</td><td>&quot;McCarthy, Mr. Timothy J&quot;</td><td>&quot;male&quot;</td><td>54.0</td><td>0</td><td>0</td><td>&quot;17463&quot;</td><td>51.8625</td><td>&quot;E46&quot;</td><td>&quot;S&quot;</td></tr><tr><td>8</td><td>0</td><td>3</td><td>&quot;Palsson, Master. Gosta Leonard&quot;</td><td>&quot;male&quot;</td><td>2.0</td><td>3</td><td>1</td><td>&quot;349909&quot;</td><td>21.075</td><td>null</td><td>&quot;S&quot;</td></tr><tr><td>&hellip;</td><td>&hellip;</td><td>&hellip;</td><td>&hellip;</td><td>&hellip;</td><td>&hellip;</td><td>&hellip;</td><td>&hellip;</td><td>&hellip;</td><td>&hellip;</td><td>&hellip;</td><td>&hellip;</td></tr><tr><td>884</td><td>0</td><td>2</td><td>&quot;Banfield, Mr. Frederick James&quot;</td><td>&quot;male&quot;</td><td>28.0</td><td>0</td><td>0</td><td>&quot;C.A./SOTON 34068&quot;</td><td>10.5</td><td>null</td><td>&quot;S&quot;</td></tr><tr><td>885</td><td>0</td><td>3</td><td>&quot;Sutehall, Mr. Henry Jr&quot;</td><td>&quot;male&quot;</td><td>25.0</td><td>0</td><td>0</td><td>&quot;SOTON/OQ 392076&quot;</td><td>7.05</td><td>null</td><td>&quot;S&quot;</td></tr><tr><td>887</td><td>0</td><td>2</td><td>&quot;Montvila, Rev. Juozas&quot;</td><td>&quot;male&quot;</td><td>27.0</td><td>0</td><td>0</td><td>&quot;211536&quot;</td><td>13.0</td><td>null</td><td>&quot;S&quot;</td></tr><tr><td>890</td><td>1</td><td>1</td><td>&quot;Behr, Mr. Karl Howell&quot;</td><td>&quot;male&quot;</td><td>26.0</td><td>0</td><td>0</td><td>&quot;111369&quot;</td><td>30.0</td><td>&quot;C148&quot;</td><td>&quot;C&quot;</td></tr><tr><td>891</td><td>0</td><td>3</td><td>&quot;Dooley, Mr. Patrick&quot;</td><td>&quot;male&quot;</td><td>32.0</td><td>0</td><td>0</td><td>&quot;370376&quot;</td><td>7.75</td><td>null</td><td>&quot;Q&quot;</td></tr></tbody></table></div>"
      ],
      "text/plain": [
       "shape: (577, 12)\n",
       "┌─────────────┬──────────┬────────┬──────────────────┬───┬────────────┬─────────┬───────┬──────────┐\n",
       "│ PassengerId ┆ Survived ┆ Pclass ┆ Name             ┆ … ┆ Ticket     ┆ Fare    ┆ Cabin ┆ Embarked │\n",
       "│ ---         ┆ ---      ┆ ---    ┆ ---              ┆   ┆ ---        ┆ ---     ┆ ---   ┆ ---      │\n",
       "│ i64         ┆ i64      ┆ i64    ┆ str              ┆   ┆ str        ┆ f64     ┆ str   ┆ str      │\n",
       "╞═════════════╪══════════╪════════╪══════════════════╪═══╪════════════╪═════════╪═══════╪══════════╡\n",
       "│ 1           ┆ 0        ┆ 3      ┆ Braund, Mr. Owen ┆ … ┆ A/5 21171  ┆ 7.25    ┆ null  ┆ S        │\n",
       "│             ┆          ┆        ┆ Harris           ┆   ┆            ┆         ┆       ┆          │\n",
       "│ 5           ┆ 0        ┆ 3      ┆ Allen, Mr.       ┆ … ┆ 373450     ┆ 8.05    ┆ null  ┆ S        │\n",
       "│             ┆          ┆        ┆ William Henry    ┆   ┆            ┆         ┆       ┆          │\n",
       "│ 6           ┆ 0        ┆ 3      ┆ Moran, Mr. James ┆ … ┆ 330877     ┆ 8.4583  ┆ null  ┆ Q        │\n",
       "│ 7           ┆ 0        ┆ 1      ┆ McCarthy, Mr.    ┆ … ┆ 17463      ┆ 51.8625 ┆ E46   ┆ S        │\n",
       "│             ┆          ┆        ┆ Timothy J        ┆   ┆            ┆         ┆       ┆          │\n",
       "│ 8           ┆ 0        ┆ 3      ┆ Palsson, Master. ┆ … ┆ 349909     ┆ 21.075  ┆ null  ┆ S        │\n",
       "│             ┆          ┆        ┆ Gosta Leonard    ┆   ┆            ┆         ┆       ┆          │\n",
       "│ …           ┆ …        ┆ …      ┆ …                ┆ … ┆ …          ┆ …       ┆ …     ┆ …        │\n",
       "│ 884         ┆ 0        ┆ 2      ┆ Banfield, Mr.    ┆ … ┆ C.A./SOTON ┆ 10.5    ┆ null  ┆ S        │\n",
       "│             ┆          ┆        ┆ Frederick James  ┆   ┆ 34068      ┆         ┆       ┆          │\n",
       "│ 885         ┆ 0        ┆ 3      ┆ Sutehall, Mr.    ┆ … ┆ SOTON/OQ   ┆ 7.05    ┆ null  ┆ S        │\n",
       "│             ┆          ┆        ┆ Henry Jr         ┆   ┆ 392076     ┆         ┆       ┆          │\n",
       "│ 887         ┆ 0        ┆ 2      ┆ Montvila, Rev.   ┆ … ┆ 211536     ┆ 13.0    ┆ null  ┆ S        │\n",
       "│             ┆          ┆        ┆ Juozas           ┆   ┆            ┆         ┆       ┆          │\n",
       "│ 890         ┆ 1        ┆ 1      ┆ Behr, Mr. Karl   ┆ … ┆ 111369     ┆ 30.0    ┆ C148  ┆ C        │\n",
       "│             ┆          ┆        ┆ Howell           ┆   ┆            ┆         ┆       ┆          │\n",
       "│ 891         ┆ 0        ┆ 3      ┆ Dooley, Mr.      ┆ … ┆ 370376     ┆ 7.75    ┆ null  ┆ Q        │\n",
       "│             ┆          ┆        ┆ Patrick          ┆   ┆            ┆         ┆       ┆          │\n",
       "└─────────────┴──────────┴────────┴──────────────────┴───┴────────────┴─────────┴───────┴──────────┘"
      ]
     },
     "execution_count": 40,
     "metadata": {},
     "output_type": "execute_result"
    }
   ],
   "source": [
    "new_df"
   ]
  },
  {
   "cell_type": "code",
   "execution_count": 46,
   "id": "8d28836a",
   "metadata": {},
   "outputs": [
    {
     "data": {
      "text/html": [
       "<div><style>\n",
       ".dataframe > thead > tr,\n",
       ".dataframe > tbody > tr {\n",
       "  text-align: right;\n",
       "  white-space: pre-wrap;\n",
       "}\n",
       "</style>\n",
       "<small>shape: (891, 3)</small><table border=\"1\" class=\"dataframe\"><thead><tr><th>Name</th><th>Sex</th><th>Age</th></tr><tr><td>str</td><td>str</td><td>f64</td></tr></thead><tbody><tr><td>&quot;Braund, Mr. Owen Harris&quot;</td><td>&quot;male&quot;</td><td>22.0</td></tr><tr><td>&quot;Cumings, Mrs. John Bradley (Fl…</td><td>&quot;female&quot;</td><td>38.0</td></tr><tr><td>&quot;Heikkinen, Miss. Laina&quot;</td><td>&quot;female&quot;</td><td>26.0</td></tr><tr><td>&quot;Futrelle, Mrs. Jacques Heath (…</td><td>&quot;female&quot;</td><td>35.0</td></tr><tr><td>&quot;Allen, Mr. William Henry&quot;</td><td>&quot;male&quot;</td><td>35.0</td></tr><tr><td>&hellip;</td><td>&hellip;</td><td>&hellip;</td></tr><tr><td>&quot;Montvila, Rev. Juozas&quot;</td><td>&quot;male&quot;</td><td>27.0</td></tr><tr><td>&quot;Graham, Miss. Margaret Edith&quot;</td><td>&quot;female&quot;</td><td>19.0</td></tr><tr><td>&quot;Johnston, Miss. Catherine Hele…</td><td>&quot;female&quot;</td><td>null</td></tr><tr><td>&quot;Behr, Mr. Karl Howell&quot;</td><td>&quot;male&quot;</td><td>26.0</td></tr><tr><td>&quot;Dooley, Mr. Patrick&quot;</td><td>&quot;male&quot;</td><td>32.0</td></tr></tbody></table></div>"
      ],
      "text/plain": [
       "shape: (891, 3)\n",
       "┌─────────────────────────────────┬────────┬──────┐\n",
       "│ Name                            ┆ Sex    ┆ Age  │\n",
       "│ ---                             ┆ ---    ┆ ---  │\n",
       "│ str                             ┆ str    ┆ f64  │\n",
       "╞═════════════════════════════════╪════════╪══════╡\n",
       "│ Braund, Mr. Owen Harris         ┆ male   ┆ 22.0 │\n",
       "│ Cumings, Mrs. John Bradley (Fl… ┆ female ┆ 38.0 │\n",
       "│ Heikkinen, Miss. Laina          ┆ female ┆ 26.0 │\n",
       "│ Futrelle, Mrs. Jacques Heath (… ┆ female ┆ 35.0 │\n",
       "│ Allen, Mr. William Henry        ┆ male   ┆ 35.0 │\n",
       "│ …                               ┆ …      ┆ …    │\n",
       "│ Montvila, Rev. Juozas           ┆ male   ┆ 27.0 │\n",
       "│ Graham, Miss. Margaret Edith    ┆ female ┆ 19.0 │\n",
       "│ Johnston, Miss. Catherine Hele… ┆ female ┆ null │\n",
       "│ Behr, Mr. Karl Howell           ┆ male   ┆ 26.0 │\n",
       "│ Dooley, Mr. Patrick             ┆ male   ┆ 32.0 │\n",
       "└─────────────────────────────────┴────────┴──────┘"
      ]
     },
     "execution_count": 46,
     "metadata": {},
     "output_type": "execute_result"
    }
   ],
   "source": [
    "df.select([\"Name\", \"Sex\", \"Age\"])"
   ]
  },
  {
   "cell_type": "code",
   "execution_count": 47,
   "id": "aef4705c",
   "metadata": {},
   "outputs": [
    {
     "data": {
      "text/html": [
       "<div><style>\n",
       ".dataframe > thead > tr,\n",
       ".dataframe > tbody > tr {\n",
       "  text-align: right;\n",
       "  white-space: pre-wrap;\n",
       "}\n",
       "</style>\n",
       "<small>shape: (2, 2)</small><table border=\"1\" class=\"dataframe\"><thead><tr><th>Sex</th><th>Average_Age</th></tr><tr><td>str</td><td>f64</td></tr></thead><tbody><tr><td>&quot;female&quot;</td><td>27.915709</td></tr><tr><td>&quot;male&quot;</td><td>30.726645</td></tr></tbody></table></div>"
      ],
      "text/plain": [
       "shape: (2, 2)\n",
       "┌────────┬─────────────┐\n",
       "│ Sex    ┆ Average_Age │\n",
       "│ ---    ┆ ---         │\n",
       "│ str    ┆ f64         │\n",
       "╞════════╪═════════════╡\n",
       "│ female ┆ 27.915709   │\n",
       "│ male   ┆ 30.726645   │\n",
       "└────────┴─────────────┘"
      ]
     },
     "execution_count": 47,
     "metadata": {},
     "output_type": "execute_result"
    }
   ],
   "source": [
    "df.group_by(\"Sex\").agg([\n",
    "    pl.col(\"Age\").mean().alias(\"Average_Age\")\n",
    "])\n"
   ]
  },
  {
   "cell_type": "code",
   "execution_count": null,
   "id": "6ba1f077",
   "metadata": {},
   "outputs": [],
   "source": []
  }
 ],
 "metadata": {
  "kernelspec": {
   "display_name": "medibot",
   "language": "python",
   "name": "python3"
  },
  "language_info": {
   "codemirror_mode": {
    "name": "ipython",
    "version": 3
   },
   "file_extension": ".py",
   "mimetype": "text/x-python",
   "name": "python",
   "nbconvert_exporter": "python",
   "pygments_lexer": "ipython3",
   "version": "3.12.11"
  }
 },
 "nbformat": 4,
 "nbformat_minor": 5
}
