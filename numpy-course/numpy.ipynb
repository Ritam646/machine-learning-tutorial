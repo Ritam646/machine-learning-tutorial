{
 "cells": [
  {
   "cell_type": "code",
   "execution_count": 154,
   "id": "28c246fc",
   "metadata": {},
   "outputs": [],
   "source": [
    "import numpy as np"
   ]
  },
  {
   "cell_type": "code",
   "execution_count": 155,
   "id": "6b5a149c",
   "metadata": {},
   "outputs": [
    {
     "data": {
      "text/plain": [
       "[1, 2, 3, 4, 5]"
      ]
     },
     "execution_count": 155,
     "metadata": {},
     "output_type": "execute_result"
    }
   ],
   "source": [
    "python_list = [1, 2, 3, 4, 5]\n",
    "python_list"
   ]
  },
  {
   "cell_type": "code",
   "execution_count": 156,
   "id": "7f5913bb",
   "metadata": {},
   "outputs": [
    {
     "name": "stdout",
     "output_type": "stream",
     "text": [
      "[1 2 3 4 5]\n",
      "<class 'numpy.ndarray'>\n"
     ]
    }
   ],
   "source": [
    "numpy_array = np.array([1, 2, 3, 4, 5])\n",
    "print(numpy_array)\n",
    "print(type(numpy_array))"
   ]
  },
  {
   "cell_type": "code",
   "execution_count": 157,
   "id": "8e498a6e",
   "metadata": {},
   "outputs": [
    {
     "name": "stdout",
     "output_type": "stream",
     "text": [
      "[[1 2 3]\n",
      " [4 5 6]]\n"
     ]
    }
   ],
   "source": [
    "arr_2d = np.array([[1, 2, 3], [4, 5, 6]])\n",
    "print(arr_2d)"
   ]
  },
  {
   "cell_type": "code",
   "execution_count": 158,
   "id": "d8ebbefe",
   "metadata": {},
   "outputs": [
    {
     "name": "stdout",
     "output_type": "stream",
     "text": [
      "[[[1 2 3]\n",
      "  [4 5 6]\n",
      "  [7 8 9]]]\n"
     ]
    }
   ],
   "source": [
    "multidimensional_array = np.array([[[1, 2, 3], [4, 5, 6], [7, 8, 9]]])\n",
    "print(multidimensional_array)"
   ]
  },
  {
   "cell_type": "code",
   "execution_count": 159,
   "id": "526d5bb1",
   "metadata": {},
   "outputs": [
    {
     "name": "stdout",
     "output_type": "stream",
     "text": [
      "[0. 0.]\n",
      "[[0. 0. 0.]\n",
      " [0. 0. 0.]]\n"
     ]
    }
   ],
   "source": [
    "#with default values\n",
    "default_array = np.zeros((2, 3))\n",
    "default_array1 = np.zeros(2)\n",
    "print(default_array1)\n",
    "print(default_array)"
   ]
  },
  {
   "cell_type": "code",
   "execution_count": 160,
   "id": "785bd090",
   "metadata": {},
   "outputs": [
    {
     "name": "stdout",
     "output_type": "stream",
     "text": [
      "[[1. 1. 1.]\n",
      " [1. 1. 1.]]\n"
     ]
    }
   ],
   "source": [
    "ones_array = np.ones((2, 3))\n",
    "print(ones_array)"
   ]
  },
  {
   "cell_type": "code",
   "execution_count": 161,
   "id": "78f05d91",
   "metadata": {},
   "outputs": [
    {
     "name": "stdout",
     "output_type": "stream",
     "text": [
      "[[4 4 4]\n",
      " [4 4 4]]\n"
     ]
    }
   ],
   "source": [
    "full_array = np.full((2, 3), 4)\n",
    "print(full_array)"
   ]
  },
  {
   "cell_type": "code",
   "execution_count": 162,
   "id": "dfdb1c1c",
   "metadata": {},
   "outputs": [
    {
     "name": "stdout",
     "output_type": "stream",
     "text": [
      "[0 1 2 3 4 5 6 7 8 9]\n",
      "[2 4 6 8]\n"
     ]
    }
   ],
   "source": [
    "arrange_array = np.arange(10)\n",
    "arrange_array1 = np.arange(2, 10, 2)\n",
    "print(arrange_array)\n",
    "print(arrange_array1)\n"
   ]
  },
  {
   "cell_type": "code",
   "execution_count": 163,
   "id": "78c66040",
   "metadata": {},
   "outputs": [
    {
     "name": "stdout",
     "output_type": "stream",
     "text": [
      "[[1. 0. 0.]\n",
      " [0. 1. 0.]\n",
      " [0. 0. 1.]]\n",
      "[[1. 0. 0. 0. 0.]\n",
      " [0. 1. 0. 0. 0.]\n",
      " [0. 0. 1. 0. 0.]]\n",
      "[[1 0 0 0]\n",
      " [0 1 0 0]\n",
      " [0 0 1 0]\n",
      " [0 0 0 1]]\n",
      "[[0. 1. 0. 0.]\n",
      " [0. 0. 1. 0.]]\n"
     ]
    }
   ],
   "source": [
    "identity_array = np.eye(3)\n",
    "identity_array1 = np.eye(3, 5, k=0)\n",
    "identity_array2 = np.eye(4, dtype=int)\n",
    "identity_array3 = np.eye(2,4, k=1)\n",
    "print(identity_array)\n",
    "print(identity_array1)\n",
    "print(identity_array2)\n",
    "print(identity_array3)"
   ]
  },
  {
   "cell_type": "code",
   "execution_count": 164,
   "id": "8d9116c4",
   "metadata": {},
   "outputs": [
    {
     "data": {
      "text/plain": [
       "array([[1, 2, 3],\n",
       "       [4, 5, 6]])"
      ]
     },
     "execution_count": 164,
     "metadata": {},
     "output_type": "execute_result"
    }
   ],
   "source": [
    "array_2d = np.array([[1, 2, 3], [4, 5, 6]])\n",
    "array_2d\n"
   ]
  },
  {
   "cell_type": "code",
   "execution_count": 165,
   "id": "49f79066",
   "metadata": {},
   "outputs": [
    {
     "data": {
      "text/plain": [
       "(2, 3)"
      ]
     },
     "execution_count": 165,
     "metadata": {},
     "output_type": "execute_result"
    }
   ],
   "source": [
    "array_2d.shape"
   ]
  },
  {
   "cell_type": "code",
   "execution_count": 166,
   "id": "28db03ce",
   "metadata": {},
   "outputs": [
    {
     "data": {
      "text/plain": [
       "6"
      ]
     },
     "execution_count": 166,
     "metadata": {},
     "output_type": "execute_result"
    }
   ],
   "source": [
    "size_of_array = np.array([[10,20,30],[40,50,60]])\n",
    "size_of_array.size"
   ]
  },
  {
   "cell_type": "code",
   "execution_count": 167,
   "id": "cee324ac",
   "metadata": {},
   "outputs": [
    {
     "data": {
      "text/plain": [
       "2"
      ]
     },
     "execution_count": 167,
     "metadata": {},
     "output_type": "execute_result"
    }
   ],
   "source": [
    "size_of_array.ndim #defines the 1d,2d"
   ]
  },
  {
   "cell_type": "code",
   "execution_count": 168,
   "id": "70370dd5",
   "metadata": {},
   "outputs": [
    {
     "data": {
      "text/plain": [
       "dtype('int64')"
      ]
     },
     "execution_count": 168,
     "metadata": {},
     "output_type": "execute_result"
    }
   ],
   "source": [
    "size_of_array.dtype"
   ]
  },
  {
   "cell_type": "code",
   "execution_count": 169,
   "id": "b9889064",
   "metadata": {},
   "outputs": [
    {
     "data": {
      "text/plain": [
       "array([[10., 20., 30.],\n",
       "       [40., 50., 60.]])"
      ]
     },
     "execution_count": 169,
     "metadata": {},
     "output_type": "execute_result"
    }
   ],
   "source": [
    "float_arr = size_of_array.astype(float)\n",
    "float_arr"
   ]
  },
  {
   "cell_type": "code",
   "execution_count": 170,
   "id": "3002d045",
   "metadata": {},
   "outputs": [
    {
     "data": {
      "text/plain": [
       "dtype('float64')"
      ]
     },
     "execution_count": 170,
     "metadata": {},
     "output_type": "execute_result"
    }
   ],
   "source": [
    "float_arr.dtype"
   ]
  },
  {
   "cell_type": "code",
   "execution_count": 171,
   "id": "3d9b4fcd",
   "metadata": {},
   "outputs": [],
   "source": [
    "math_operations = np.array([10,20,30])"
   ]
  },
  {
   "cell_type": "code",
   "execution_count": 172,
   "id": "1a27db1a",
   "metadata": {},
   "outputs": [],
   "source": [
    "add = math_operations + 5"
   ]
  },
  {
   "cell_type": "code",
   "execution_count": 173,
   "id": "483c5985",
   "metadata": {},
   "outputs": [],
   "source": [
    "mul = math_operations * 4"
   ]
  },
  {
   "cell_type": "code",
   "execution_count": 174,
   "id": "6d24174e",
   "metadata": {},
   "outputs": [],
   "source": [
    "arr1 = np.array([10,20,30,40,50])"
   ]
  },
  {
   "cell_type": "code",
   "execution_count": 175,
   "id": "cd64db86",
   "metadata": {},
   "outputs": [
    {
     "data": {
      "text/plain": [
       "np.int64(150)"
      ]
     },
     "execution_count": 175,
     "metadata": {},
     "output_type": "execute_result"
    }
   ],
   "source": [
    "np.sum(arr1)"
   ]
  },
  {
   "cell_type": "code",
   "execution_count": 176,
   "id": "2d646400",
   "metadata": {},
   "outputs": [
    {
     "data": {
      "text/plain": [
       "np.float64(30.0)"
      ]
     },
     "execution_count": 176,
     "metadata": {},
     "output_type": "execute_result"
    }
   ],
   "source": [
    "np.mean(arr1)"
   ]
  },
  {
   "cell_type": "code",
   "execution_count": 177,
   "id": "e1a7110a",
   "metadata": {},
   "outputs": [
    {
     "data": {
      "text/plain": [
       "np.float64(30.0)"
      ]
     },
     "execution_count": 177,
     "metadata": {},
     "output_type": "execute_result"
    }
   ],
   "source": [
    "np.mean(arr1)\n"
   ]
  },
  {
   "cell_type": "code",
   "execution_count": 178,
   "id": "00c44491",
   "metadata": {},
   "outputs": [
    {
     "data": {
      "text/plain": [
       "np.int64(10)"
      ]
     },
     "execution_count": 178,
     "metadata": {},
     "output_type": "execute_result"
    }
   ],
   "source": [
    "np.min(arr1)"
   ]
  },
  {
   "cell_type": "code",
   "execution_count": 179,
   "id": "eb6ac6e6",
   "metadata": {},
   "outputs": [
    {
     "data": {
      "text/plain": [
       "np.int64(50)"
      ]
     },
     "execution_count": 179,
     "metadata": {},
     "output_type": "execute_result"
    }
   ],
   "source": [
    "np.max(arr1)"
   ]
  },
  {
   "cell_type": "code",
   "execution_count": 180,
   "id": "d2cb7c96",
   "metadata": {},
   "outputs": [
    {
     "data": {
      "text/plain": [
       "np.float64(14.142135623730951)"
      ]
     },
     "execution_count": 180,
     "metadata": {},
     "output_type": "execute_result"
    }
   ],
   "source": [
    "np.std(arr1)"
   ]
  },
  {
   "cell_type": "code",
   "execution_count": 181,
   "id": "ab47e0d0",
   "metadata": {},
   "outputs": [
    {
     "data": {
      "text/plain": [
       "np.float64(200.0)"
      ]
     },
     "execution_count": 181,
     "metadata": {},
     "output_type": "execute_result"
    }
   ],
   "source": [
    "np.var(arr1)"
   ]
  },
  {
   "cell_type": "code",
   "execution_count": 182,
   "id": "50abc0b7",
   "metadata": {},
   "outputs": [
    {
     "data": {
      "text/plain": [
       "np.int64(10)"
      ]
     },
     "execution_count": 182,
     "metadata": {},
     "output_type": "execute_result"
    }
   ],
   "source": [
    "indexing = np.array([10,20,30,40,50])\n",
    "indexing[0]"
   ]
  },
  {
   "cell_type": "code",
   "execution_count": 183,
   "id": "cb39e604",
   "metadata": {},
   "outputs": [
    {
     "data": {
      "text/plain": [
       "np.int64(50)"
      ]
     },
     "execution_count": 183,
     "metadata": {},
     "output_type": "execute_result"
    }
   ],
   "source": [
    "indexing[-1]"
   ]
  },
  {
   "cell_type": "code",
   "execution_count": 184,
   "id": "d3a1fb37",
   "metadata": {},
   "outputs": [],
   "source": [
    "slicing = np.array([10,20,30,40,50])"
   ]
  },
  {
   "cell_type": "code",
   "execution_count": 185,
   "id": "76687dd7",
   "metadata": {},
   "outputs": [
    {
     "data": {
      "text/plain": [
       "array([20, 30, 40])"
      ]
     },
     "execution_count": 185,
     "metadata": {},
     "output_type": "execute_result"
    }
   ],
   "source": [
    "slicing[1:4]"
   ]
  },
  {
   "cell_type": "code",
   "execution_count": 186,
   "id": "dbd17a30",
   "metadata": {},
   "outputs": [
    {
     "data": {
      "text/plain": [
       "array([20, 40])"
      ]
     },
     "execution_count": 186,
     "metadata": {},
     "output_type": "execute_result"
    }
   ],
   "source": [
    "slicing[1:4:2]"
   ]
  },
  {
   "cell_type": "code",
   "execution_count": 187,
   "id": "ba5ca27d",
   "metadata": {},
   "outputs": [
    {
     "data": {
      "text/plain": [
       "array([10, 20, 30, 40])"
      ]
     },
     "execution_count": 187,
     "metadata": {},
     "output_type": "execute_result"
    }
   ],
   "source": [
    "slicing[:4]\n"
   ]
  },
  {
   "cell_type": "code",
   "execution_count": 188,
   "id": "916de30f",
   "metadata": {},
   "outputs": [
    {
     "data": {
      "text/plain": [
       "array([10, 30, 50])"
      ]
     },
     "execution_count": 188,
     "metadata": {},
     "output_type": "execute_result"
    }
   ],
   "source": [
    "slicing[::2]"
   ]
  },
  {
   "cell_type": "code",
   "execution_count": 189,
   "id": "fdce0f00",
   "metadata": {},
   "outputs": [
    {
     "data": {
      "text/plain": [
       "array([50, 40, 30, 20, 10])"
      ]
     },
     "execution_count": 189,
     "metadata": {},
     "output_type": "execute_result"
    }
   ],
   "source": [
    "slicing[::-1]#reversing of array"
   ]
  },
  {
   "cell_type": "code",
   "execution_count": 190,
   "id": "75133d08",
   "metadata": {},
   "outputs": [
    {
     "data": {
      "text/plain": [
       "array([10, 30])"
      ]
     },
     "execution_count": 190,
     "metadata": {},
     "output_type": "execute_result"
    }
   ],
   "source": [
    "slicing[:-1:2]"
   ]
  },
  {
   "cell_type": "code",
   "execution_count": 191,
   "id": "101797a5",
   "metadata": {},
   "outputs": [],
   "source": [
    "fancy = np.array([10,20,30,40,50])"
   ]
  },
  {
   "cell_type": "code",
   "execution_count": 192,
   "id": "df6abc1b",
   "metadata": {},
   "outputs": [
    {
     "data": {
      "text/plain": [
       "array([10, 30, 40])"
      ]
     },
     "execution_count": 192,
     "metadata": {},
     "output_type": "execute_result"
    }
   ],
   "source": [
    "fancy[[0,2,3]] #this is another type of indexing"
   ]
  },
  {
   "cell_type": "code",
   "execution_count": 193,
   "id": "9ac3cd50",
   "metadata": {},
   "outputs": [
    {
     "data": {
      "text/plain": [
       "array([30, 40, 50])"
      ]
     },
     "execution_count": 193,
     "metadata": {},
     "output_type": "execute_result"
    }
   ],
   "source": [
    "fancy[fancy>20]"
   ]
  },
  {
   "cell_type": "code",
   "execution_count": 194,
   "id": "8a0a85c0",
   "metadata": {},
   "outputs": [],
   "source": [
    "reshaping = np.array([2,4,6,8,10,12])"
   ]
  },
  {
   "cell_type": "code",
   "execution_count": 195,
   "id": "c83a2575",
   "metadata": {},
   "outputs": [],
   "source": [
    "reshape_arr = reshaping.reshape(2,3) #it affects the original array"
   ]
  },
  {
   "cell_type": "code",
   "execution_count": 196,
   "id": "b5c87550",
   "metadata": {},
   "outputs": [
    {
     "data": {
      "text/plain": [
       "array([[ 2,  4,  6],\n",
       "       [ 8, 10, 12]])"
      ]
     },
     "execution_count": 196,
     "metadata": {},
     "output_type": "execute_result"
    }
   ],
   "source": [
    "reshape_arr"
   ]
  },
  {
   "cell_type": "code",
   "execution_count": 197,
   "id": "fb156974",
   "metadata": {},
   "outputs": [],
   "source": [
    "flattening = np.array([[1,2,3],[4,5,6]])\n",
    "ravel = flattening.ravel() #only view"
   ]
  },
  {
   "cell_type": "code",
   "execution_count": 198,
   "id": "81583fc9",
   "metadata": {},
   "outputs": [
    {
     "data": {
      "text/plain": [
       "array([1, 2, 3, 4, 5, 6])"
      ]
     },
     "execution_count": 198,
     "metadata": {},
     "output_type": "execute_result"
    }
   ],
   "source": [
    "ravel"
   ]
  },
  {
   "cell_type": "code",
   "execution_count": 199,
   "id": "b41553b4",
   "metadata": {},
   "outputs": [],
   "source": [
    "flatten = flattening.flatten() #copy "
   ]
  },
  {
   "cell_type": "code",
   "execution_count": 200,
   "id": "b4dfb346",
   "metadata": {},
   "outputs": [
    {
     "data": {
      "text/plain": [
       "array([1, 2, 3, 4, 5, 6])"
      ]
     },
     "execution_count": 200,
     "metadata": {},
     "output_type": "execute_result"
    }
   ],
   "source": [
    "flatten"
   ]
  },
  {
   "cell_type": "code",
   "execution_count": 201,
   "id": "1693c810",
   "metadata": {},
   "outputs": [
    {
     "data": {
      "text/plain": [
       "array([ 10,  20, 100,  30,  40,  50])"
      ]
     },
     "execution_count": 201,
     "metadata": {},
     "output_type": "execute_result"
    }
   ],
   "source": [
    "inserting = np.array([10,20,30,40,50])\n",
    "inserted_arr = np.insert(inserting, 2,100)\n",
    "inserted_arr"
   ]
  },
  {
   "cell_type": "code",
   "execution_count": 202,
   "id": "bd150f0c",
   "metadata": {},
   "outputs": [
    {
     "data": {
      "text/plain": [
       "array([[1, 2],\n",
       "       [7, 8],\n",
       "       [3, 4]])"
      ]
     },
     "execution_count": 202,
     "metadata": {},
     "output_type": "execute_result"
    }
   ],
   "source": [
    "inserting_2darr = np.array([[1,2],[3,4]])\n",
    "new_arr_2d = np.insert(inserting_2darr,1,[7,8],axis=0)\n",
    "new_arr_2dcolumn = np.insert(inserting_2darr,1,[5,6],axis=1)\n",
    "new_arr_2d"
   ]
  },
  {
   "cell_type": "code",
   "execution_count": 203,
   "id": "eec86486",
   "metadata": {},
   "outputs": [
    {
     "data": {
      "text/plain": [
       "array([[1, 5, 2],\n",
       "       [3, 6, 4]])"
      ]
     },
     "execution_count": 203,
     "metadata": {},
     "output_type": "execute_result"
    }
   ],
   "source": [
    "new_arr_2dcolumn"
   ]
  },
  {
   "cell_type": "code",
   "execution_count": 204,
   "id": "d439bc96",
   "metadata": {},
   "outputs": [
    {
     "data": {
      "text/plain": [
       "array([1, 5, 6, 2, 3, 4])"
      ]
     },
     "execution_count": 204,
     "metadata": {},
     "output_type": "execute_result"
    }
   ],
   "source": [
    "new_arr_2dnone = np.insert(inserting_2darr,1,[5,6],axis=None)\n",
    "new_arr_2dnone"
   ]
  },
  {
   "cell_type": "code",
   "execution_count": 205,
   "id": "6516dfe0",
   "metadata": {},
   "outputs": [
    {
     "data": {
      "text/plain": [
       "array([10, 20, 30, 50, 60, 70])"
      ]
     },
     "execution_count": 205,
     "metadata": {},
     "output_type": "execute_result"
    }
   ],
   "source": [
    "append_of_array = np.array([10,20,30])\n",
    "new_append = np.append(append_of_array, [50,60,70])\n",
    "new_append"
   ]
  },
  {
   "cell_type": "code",
   "execution_count": 206,
   "id": "b2c8e0f9",
   "metadata": {},
   "outputs": [
    {
     "data": {
      "text/plain": [
       "array([[10, 20, 30],\n",
       "       [ 1,  2,  3],\n",
       "       [40, 50, 60],\n",
       "       [ 4,  5,  6]])"
      ]
     },
     "execution_count": 206,
     "metadata": {},
     "output_type": "execute_result"
    }
   ],
   "source": [
    "concatenate_array = np.array([[10,20,30],[1,2,3]])\n",
    "concatenate_arraY = np.array([[40,50,60],[4,5,6]])\n",
    "new_concatenate = np.concatenate((concatenate_array, concatenate_arraY),axis=0)\n",
    "new_concatenate"
   ]
  },
  {
   "cell_type": "code",
   "execution_count": 207,
   "id": "1a23c30d",
   "metadata": {},
   "outputs": [
    {
     "data": {
      "text/plain": [
       "array([[10, 20, 30, 40, 50, 60],\n",
       "       [ 1,  2,  3,  4,  5,  6]])"
      ]
     },
     "execution_count": 207,
     "metadata": {},
     "output_type": "execute_result"
    }
   ],
   "source": [
    "new_concatenate_column = np.concatenate((concatenate_array, concatenate_arraY),axis=1)\n",
    "new_concatenate_column"
   ]
  },
  {
   "cell_type": "code",
   "execution_count": 208,
   "id": "ae5cab3a",
   "metadata": {},
   "outputs": [
    {
     "data": {
      "text/plain": [
       "array([10, 20, 30,  1,  2,  3, 40, 50, 60,  4,  5,  6])"
      ]
     },
     "execution_count": 208,
     "metadata": {},
     "output_type": "execute_result"
    }
   ],
   "source": [
    "new_concatenate_none = np.concatenate((concatenate_array, concatenate_arraY),axis=None)\n",
    "new_concatenate_none"
   ]
  },
  {
   "cell_type": "code",
   "execution_count": 209,
   "id": "dff5df1f",
   "metadata": {},
   "outputs": [
    {
     "data": {
      "text/plain": [
       "array([20, 30])"
      ]
     },
     "execution_count": 209,
     "metadata": {},
     "output_type": "execute_result"
    }
   ],
   "source": [
    "deleting = np.array([10,20,30])\n",
    "new_deleted = np.delete(deleting,0)\n",
    "new_deleted"
   ]
  },
  {
   "cell_type": "code",
   "execution_count": 210,
   "id": "06a499bd",
   "metadata": {},
   "outputs": [
    {
     "data": {
      "text/plain": [
       "array([[10, 30],\n",
       "       [40, 60]])"
      ]
     },
     "execution_count": 210,
     "metadata": {},
     "output_type": "execute_result"
    }
   ],
   "source": [
    "deleting_2darray = np.array([[10,20,30],[40,50,60]])\n",
    "new_deleted = np.delete(deleting_2darray, 1, axis=1)\n",
    "new_deleted"
   ]
  },
  {
   "cell_type": "code",
   "execution_count": 211,
   "id": "161a74d2",
   "metadata": {},
   "outputs": [
    {
     "data": {
      "text/plain": [
       "array([[10, 20, 30]])"
      ]
     },
     "execution_count": 211,
     "metadata": {},
     "output_type": "execute_result"
    }
   ],
   "source": [
    "\n",
    "new_deleted_row = np.delete(deleting_2darray, 1, axis=0)\n",
    "new_deleted_row"
   ]
  },
  {
   "cell_type": "code",
   "execution_count": 212,
   "id": "2a10e28d",
   "metadata": {},
   "outputs": [],
   "source": [
    "stack_arr1 = np.array([1,2,3])\n",
    "stack_arr2 = np.array([4,5,6])\n",
    "\n",
    "normal_stack = np.stack((stack_arr1,stack_arr2))\n",
    "ver_stack = np.vstack(((stack_arr1,stack_arr2)))\n",
    "hori_stack = np.hstack(((stack_arr1,stack_arr2)))"
   ]
  },
  {
   "cell_type": "code",
   "execution_count": 213,
   "id": "e1878c78",
   "metadata": {},
   "outputs": [
    {
     "data": {
      "text/plain": [
       "array([[1, 2, 3],\n",
       "       [4, 5, 6]])"
      ]
     },
     "execution_count": 213,
     "metadata": {},
     "output_type": "execute_result"
    }
   ],
   "source": [
    "normal_stack\n"
   ]
  },
  {
   "cell_type": "code",
   "execution_count": 214,
   "id": "38dd6f5e",
   "metadata": {},
   "outputs": [
    {
     "data": {
      "text/plain": [
       "array([[1, 2, 3],\n",
       "       [4, 5, 6]])"
      ]
     },
     "execution_count": 214,
     "metadata": {},
     "output_type": "execute_result"
    }
   ],
   "source": [
    "ver_stack\n"
   ]
  },
  {
   "cell_type": "code",
   "execution_count": 215,
   "id": "2f16d2ff",
   "metadata": {},
   "outputs": [
    {
     "data": {
      "text/plain": [
       "array([1, 2, 3, 4, 5, 6])"
      ]
     },
     "execution_count": 215,
     "metadata": {},
     "output_type": "execute_result"
    }
   ],
   "source": [
    "hori_stack"
   ]
  },
  {
   "cell_type": "code",
   "execution_count": 216,
   "id": "9f6b7578",
   "metadata": {},
   "outputs": [],
   "source": [
    "splitting = np.array([10,20,30,40,50,60])\n",
    "splitted_arr = np.split(splitting,2)"
   ]
  },
  {
   "cell_type": "code",
   "execution_count": 217,
   "id": "a16df803",
   "metadata": {},
   "outputs": [
    {
     "data": {
      "text/plain": [
       "[array([10, 20, 30]), array([40, 50, 60])]"
      ]
     },
     "execution_count": 217,
     "metadata": {},
     "output_type": "execute_result"
    }
   ],
   "source": [
    "splitted_arr"
   ]
  },
  {
   "cell_type": "code",
   "execution_count": 218,
   "id": "7d3ed002",
   "metadata": {},
   "outputs": [
    {
     "data": {
      "text/plain": [
       "[array([[10],\n",
       "        [40],\n",
       "        [70]]),\n",
       " array([[20],\n",
       "        [50],\n",
       "        [80]]),\n",
       " array([[30],\n",
       "        [60],\n",
       "        [90]])]"
      ]
     },
     "execution_count": 218,
     "metadata": {},
     "output_type": "execute_result"
    }
   ],
   "source": [
    "splitting_2d = np.array([[10,20,30],[40,50,60],[70,80,90]])\n",
    "splitted_arr_hori = np.hsplit(splitting_2d,3)\n",
    "splitted_arr_hori"
   ]
  },
  {
   "cell_type": "code",
   "execution_count": 219,
   "id": "2367076d",
   "metadata": {},
   "outputs": [
    {
     "data": {
      "text/plain": [
       "[array([[10, 20, 30]]), array([[40, 50, 60]]), array([[70, 80, 90]])]"
      ]
     },
     "execution_count": 219,
     "metadata": {},
     "output_type": "execute_result"
    }
   ],
   "source": [
    "splitted_arr_ver = np.vsplit(splitting_2d,3)\n",
    "splitted_arr_ver"
   ]
  },
  {
   "cell_type": "code",
   "execution_count": 220,
   "id": "b9fa3e8f",
   "metadata": {},
   "outputs": [
    {
     "name": "stdout",
     "output_type": "stream",
     "text": [
      "[ 90. 180. 270. 360. 450.]\n"
     ]
    }
   ],
   "source": [
    "prices = np.array([100, 200, 300, 400, 500])\n",
    "discount = 10\n",
    "\n",
    "final_pricesd = prices - (prices * discount / 100)\n",
    "print(final_pricesd)"
   ]
  },
  {
   "cell_type": "code",
   "execution_count": 221,
   "id": "90024a94",
   "metadata": {},
   "outputs": [
    {
     "name": "stdout",
     "output_type": "stream",
     "text": [
      "[ 200  400  600  800 1000]\n"
     ]
    }
   ],
   "source": [
    "arr2 = np.array([100, 200, 300, 400, 500])\n",
    "\n",
    "result = arr2 * 2\n",
    "print(result)"
   ]
  },
  {
   "cell_type": "code",
   "execution_count": 222,
   "id": "5994d428",
   "metadata": {},
   "outputs": [
    {
     "name": "stdout",
     "output_type": "stream",
     "text": [
      "[[11 22 33]\n",
      " [14 25 36]]\n"
     ]
    }
   ],
   "source": [
    "#broadcasting example\n",
    "matrix = np.array([[1, 2,3], [4,5,6]])\n",
    "vector = np.array([10, 20, 30])\n",
    "result_matrix_vector = matrix + vector\n",
    "print(result_matrix_vector) #expands vector to match matrix shape"
   ]
  },
  {
   "cell_type": "code",
   "execution_count": 223,
   "id": "099b44db",
   "metadata": {},
   "outputs": [
    {
     "name": "stdout",
     "output_type": "stream",
     "text": [
      "[11, 22, 33, 44, 55]\n"
     ]
    }
   ],
   "source": [
    "#vectorization example\n",
    "lis1 = [1, 2, 3, 4, 5]\n",
    "lis2 = [10, 20, 30, 40, 50] \n",
    "\n",
    "result = [a + b for a, b in zip(lis1, lis2)] #list comprehension for element-wise addition\n",
    "print(result)  # Output: [11, 22, 33, 44, 55]"
   ]
  },
  {
   "cell_type": "code",
   "execution_count": 224,
   "id": "3129a3c1",
   "metadata": {},
   "outputs": [
    {
     "name": "stdout",
     "output_type": "stream",
     "text": [
      "[5, 3, 7]\n",
      "{'Alice': 5, 'Bob': 3, 'Charlie': 7}\n",
      "{3, 5, 7}\n"
     ]
    }
   ],
   "source": [
    "#list comprehension \n",
    "name = ['Alice', 'Bob', 'Charlie']\n",
    "new_list = [len(n) for n in name]\n",
    "print(new_list)\n",
    "#dictionary comprehension\n",
    "dict_comp = {n: len(n) for n in name}\n",
    "print(dict_comp)\n",
    "# Set comprehension\n",
    "set_comp = {len(n) for n in name}\n",
    "print(set_comp) \n",
    "\n"
   ]
  },
  {
   "cell_type": "code",
   "execution_count": 225,
   "id": "46052be5",
   "metadata": {},
   "outputs": [
    {
     "name": "stdout",
     "output_type": "stream",
     "text": [
      "[11 22 33 44 55]\n",
      "[ -9 -18 -27 -36 -45]\n",
      "[ 10  40  90 160 250]\n",
      "[0.1 0.1 0.1 0.1 0.1]\n"
     ]
    }
   ],
   "source": [
    "arr3 = np.array([1, 2, 3, 4, 5])\n",
    "arr4 = np.array([10, 20, 30, 40, 50])\n",
    "print(arr3 + arr4)\n",
    "print(arr3 - arr4) \n",
    "print(arr3 * arr4)\n",
    "print(arr3 / arr4) "
   ]
  },
  {
   "cell_type": "code",
   "execution_count": 226,
   "id": "52043ab8",
   "metadata": {},
   "outputs": [
    {
     "name": "stdout",
     "output_type": "stream",
     "text": [
      "[False False  True False False]\n",
      "nan\n",
      "12.0\n"
     ]
    }
   ],
   "source": [
    "#handling missing values\n",
    "arr_with_nan = np.array([1, 2, np.nan, 4, 5])\n",
    "print(np.isnan(arr_with_nan))  # Check for NaN values\n",
    "print(np.sum(arr_with_nan))  # Sum without NaN values\n",
    "print(np.nansum(arr_with_nan))  # Sum treating NaN as zero\n"
   ]
  },
  {
   "cell_type": "code",
   "execution_count": 227,
   "id": "51ca4c68",
   "metadata": {},
   "outputs": [
    {
     "name": "stdout",
     "output_type": "stream",
     "text": [
      "[  1.   2. 100.   4.   5.]\n",
      "[1. 2. 3. 4. 5.]\n"
     ]
    }
   ],
   "source": [
    "#replcing nan values with a specific value\n",
    "arr_with_nan1 = np.array([1, 2, np.nan, 4,  5])\n",
    "cleaned_arr = np.nan_to_num(arr_with_nan1,nan=100)  # Replace NaN with 100\n",
    "print(cleaned_arr)\n",
    "#replacing nan values with the mean of the column\n",
    "mean_value = np.nanmean(arr_with_nan1)  # Calculate the mean of non-NaN values\n",
    "arr_with_nan1[np.isnan(arr_with_nan1)] = mean_value  # Replace NaN with mean\n",
    "print(arr_with_nan1)\n"
   ]
  },
  {
   "cell_type": "code",
   "execution_count": 228,
   "id": "9f7ed5aa",
   "metadata": {},
   "outputs": [
    {
     "name": "stdout",
     "output_type": "stream",
     "text": [
      "[False False  True False False]\n",
      "inf\n",
      "[ True  True False  True  True]\n",
      "[  1.   2. 100.   4.   5.]\n"
     ]
    }
   ],
   "source": [
    "#infinity functions\n",
    "arr_with_inf = np.array([1, 2, np.inf, 4, 5])\n",
    "print(np.isinf(arr_with_inf))  # Check for infinite values  \n",
    "print(np.sum(arr_with_inf))  # Sum without infinite values\n",
    "print(np.isfinite(arr_with_inf))  # Check for finite values \n",
    "# Replace infinite values with a specific value\n",
    "cleaned_arr_inf = np.nan_to_num(arr_with_inf, posinf=100, neginf=-100)  # Replace inf with 100 and -inf with -100\n",
    "print(cleaned_arr_inf)"
   ]
  },
  {
   "cell_type": "code",
   "execution_count": 229,
   "id": "71c2aeb6",
   "metadata": {},
   "outputs": [
    {
     "name": "stdout",
     "output_type": "stream",
     "text": [
      "['Less than or equal to 3' 'Greater than 3' 'Less than or equal to 3'\n",
      " 'Greater than 3' 'Greater than 3']\n"
     ]
    }
   ],
   "source": [
    "# Example of using np.where for conditional selection\n",
    "arr5 = np.array([1, 7, 3, 4, 5])\n",
    "condition = arr5 > 3\n",
    "print(np.where(condition, 'Greater than 3', 'Less than or equal to 3'))  # Returns 'Greater than 3' or 'Less than or equal to 3' based on condition\n"
   ]
  },
  {
   "cell_type": "code",
   "execution_count": 230,
   "id": "d87506f3",
   "metadata": {},
   "outputs": [
    {
     "name": "stdout",
     "output_type": "stream",
     "text": [
      "['Less than 3' 'Greater than 3' 'Equal to 3' 'Greater than 3'\n",
      " 'Greater than 3']\n"
     ]
    }
   ],
   "source": [
    "# Example of using np.select for multiple conditions\n",
    "conditions = [arr5 < 3, arr5 == 3, arr5 > 3]\n",
    "choices = ['Less than 3', 'Equal to 3', 'Greater than 3']\n",
    "result = np.select(conditions, choices, default='Unknown')  \n",
    "print(result)"
   ]
  },
  {
   "cell_type": "code",
   "execution_count": 231,
   "id": "885228da",
   "metadata": {},
   "outputs": [
    {
     "name": "stdout",
     "output_type": "stream",
     "text": [
      "[3 3 3 4 5 6 7 7 7 7]\n"
     ]
    }
   ],
   "source": [
    "# Example of using np.clip to limit values within a range\n",
    "arr6 = np.array([1, 2, 3, 4, 5, 6, 7, 8, 9, 10])\n",
    "clipped_arr = np.clip(arr6, 3, 7)  # Values below   \n",
    "# 3 are set to 3, and values above 7 are set to 7\n",
    "print(clipped_arr)"
   ]
  },
  {
   "cell_type": "code",
   "execution_count": 232,
   "id": "c8b8f901",
   "metadata": {},
   "outputs": [
    {
     "name": "stdout",
     "output_type": "stream",
     "text": [
      "[1 2 3 4 5]\n"
     ]
    }
   ],
   "source": [
    "# Example of using np.unique to find unique elements\n",
    "arr7 = np.array([1, 2, 2, 3, 4, 4, 5])\n",
    "unique_elements = np.unique(arr7)  # Find unique elements in the array\n",
    "print(unique_elements)"
   ]
  },
  {
   "cell_type": "code",
   "execution_count": 233,
   "id": "826bfd93",
   "metadata": {},
   "outputs": [
    {
     "name": "stdout",
     "output_type": "stream",
     "text": [
      "[1 2 3 4 5 8]\n"
     ]
    }
   ],
   "source": [
    "# Example of using np.sort to sort an array\n",
    "arr8 = np.array([5, 2, 8, 1, 4, 3])     \n",
    "sorted_arr = np.sort(arr8)  # Sort the array in ascending order\n",
    "print(sorted_arr)"
   ]
  },
  {
   "cell_type": "code",
   "execution_count": 234,
   "id": "6dcf0741",
   "metadata": {},
   "outputs": [
    {
     "name": "stdout",
     "output_type": "stream",
     "text": [
      "[3 1 5 4 0 2]\n"
     ]
    }
   ],
   "source": [
    "# Example of using np.argsort to get indices of sorted elements\n",
    "arr9 = np.array([5, 2, 8, 1, 4, 3])\n",
    "sorted_indices = np.argsort(arr9)  # Get indices that would sort the array  \n",
    "print(sorted_indices)  # Output: [3 1 5 4 0 2] (indices of sorted elements) "
   ]
  },
  {
   "cell_type": "code",
   "execution_count": 235,
   "id": "10b8bbce",
   "metadata": {},
   "outputs": [
    {
     "name": "stdout",
     "output_type": "stream",
     "text": [
      "[0 1 2 3 4 5]\n"
     ]
    }
   ],
   "source": [
    "# Example of using np.searchsorted to find insertion indices\n",
    "arr10 = np.array([1, 3, 5, 7, 9])\n",
    "values_to_insert = np.array([0, 2, 4, 6, 8, 10])\n",
    "insertion_indices = np.searchsorted(arr10, values_to_insert)  # Find indices to insert values\n",
    "print(insertion_indices)  # Output: [0 1 2 3 4 5] (indices where values would be inserted to maintain order) "
   ]
  },
  {
   "cell_type": "code",
   "execution_count": 236,
   "id": "d72185f7",
   "metadata": {},
   "outputs": [
    {
     "name": "stdout",
     "output_type": "stream",
     "text": [
      "X:\n",
      " [[1 2 3]\n",
      " [1 2 3]]\n",
      "Y:\n",
      " [[4 4 4]\n",
      " [5 5 5]]\n"
     ]
    }
   ],
   "source": [
    "# Example of using np.meshgrid to create a grid of coordinates\n",
    "x = np.array([1, 2, 3])     \n",
    "y = np.array([4, 5])\n",
    "X, Y = np.meshgrid(x, y)  # Create a grid of coordinates    \n",
    "print(\"X:\\n\", X)\n",
    "print(\"Y:\\n\", Y)  # Output: X and Y are 2D arrays representing the grid of coordinates"
   ]
  },
  {
   "cell_type": "code",
   "execution_count": 237,
   "id": "ba3f0cea",
   "metadata": {},
   "outputs": [
    {
     "name": "stdout",
     "output_type": "stream",
     "text": [
      "Matrix C:\n",
      " [[19 22]\n",
      " [43 50]]\n",
      "Inverse of A:\n",
      " [[-2.   1. ]\n",
      " [ 1.5 -0.5]]\n",
      "Determinant of A: -2.0000000000000004\n",
      "Eigenvalues: [-0.37228132  5.37228132]\n",
      "Eigenvectors:\n",
      " [[-0.82456484 -0.41597356]\n",
      " [ 0.56576746 -0.90937671]]\n",
      "Determinant of A: -2.0000000000000004\n",
      "Eigenvalues: [-0.37228132  5.37228132]\n",
      "Eigenvectors:\n",
      " [[-0.82456484 -0.41597356]\n",
      " [ 0.56576746 -0.90937671]]\n"
     ]
    }
   ],
   "source": [
    "# Example of using np.linalg to perform linear algebra operations   \n",
    "A = np.array([[1, 2], [3, 4]])\n",
    "B = np.array([[5, 6], [7, 8]])  \n",
    "# Matrix multiplication\n",
    "C = np.dot(A, B)  # Matrix multiplication   \n",
    "print(\"Matrix C:\\n\", C)\n",
    "# Inverse of a matrix   \n",
    "A_inv = np.linalg.inv(A)  # Inverse of matrix A\n",
    "print(\"Inverse of A:\\n\", A_inv) \n",
    "# Determinant of a matrix\n",
    "det_A = np.linalg.det(A)  # Determinant of matrix A\n",
    "print(\"Determinant of A:\", det_A)  # Output: -2.0 (determinant of matrix A)\n",
    "# Eigenvalues and eigenvectors of a matrix\n",
    "eigenvalues, eigenvectors = np.linalg.eig(A)  # Eigenvalues and eigenvectors of matrix A\n",
    "print(\"Eigenvalues:\", eigenvalues)\n",
    "print(\"Eigenvectors:\\n\", eigenvectors)  # Output: Eigenvalues and eigenvectors of matrix A  \n"
   ]
  },
  {
   "cell_type": "code",
   "execution_count": 238,
   "id": "98ac30d3",
   "metadata": {},
   "outputs": [
    {
     "name": "stdout",
     "output_type": "stream",
     "text": [
      "Random Numbers: [0.40022289 0.47771489 0.08289132 0.52837012 0.43633583]\n"
     ]
    }
   ],
   "source": [
    "\n",
    "# Example of using np.random to generate random numbers\n",
    "random_numbers = np.random.rand(5)  # Generate 5 random numbers between 0 and 1\n",
    "print(\"Random Numbers:\", random_numbers)\n"
   ]
  },
  {
   "cell_type": "code",
   "execution_count": 239,
   "id": "6114d66f",
   "metadata": {},
   "outputs": [
    {
     "name": "stdout",
     "output_type": "stream",
     "text": [
      "Random Integers: [5 6 5 5 4]\n"
     ]
    }
   ],
   "source": [
    "# Example of using np.random.randint to generate random integers\n",
    "random_integers = np.random.randint(1, 10, size=5)  # Generate 5 random integers between 1 and 10   \n",
    "print(\"Random Integers:\", random_integers)"
   ]
  },
  {
   "cell_type": "code",
   "execution_count": 240,
   "id": "43ecc98a",
   "metadata": {},
   "outputs": [
    {
     "name": "stdout",
     "output_type": "stream",
     "text": [
      "Normal Random Numbers: [ 0.47362739  0.05435058  2.2757613   0.40622669 -0.4319422 ]\n"
     ]
    }
   ],
   "source": [
    "# Example of using np.random.normal to generate random numbers from a normal distribution\n",
    "normal_random_numbers = np.random.normal(loc=0, scale=1, size=5)  # Generate 5 random numbers from a normal distribution with mean 0 and standard deviation 1\n",
    "print(\"Normal Random Numbers:\", normal_random_numbers)"
   ]
  },
  {
   "cell_type": "code",
   "execution_count": 241,
   "id": "f2bb3058",
   "metadata": {},
   "outputs": [
    {
     "name": "stdout",
     "output_type": "stream",
     "text": [
      "Random Choice: [5 3 1]\n",
      "Random Numbers with Seed: [0.37454012 0.95071431 0.73199394 0.59865848 0.15601864]\n",
      "Shuffled Array: [2 1 4 5 3]\n",
      "Permuted Array: [2 1 4 5 3]\n",
      "Binomial Random Numbers: [3 6 7 0 9]\n",
      "Poisson Random Numbers: [2 0 2 2 6]\n",
      "Uniform Random Numbers: [0.13264961 9.42201756 5.63288218 3.85416503 0.15966252]\n",
      "Exponential Random Numbers: [0.26252625 0.27578705 1.14968514 0.94159997 1.79092928]\n",
      "Multinomial Random Numbers:\n",
      " [[1 3 6]\n",
      " [1 4 5]\n",
      " [2 2 6]\n",
      " [2 1 7]\n",
      " [3 2 5]]\n",
      "Random Choice with Probabilities: [3 5 4]\n",
      "Random Array with Shape (2, 3):\n",
      " [[0.32654077 0.57044397 0.52083426]\n",
      " [0.96117202 0.84453385 0.74732011]]\n",
      "Random Standard Normal Array:\n",
      " [[ 2.34074633  1.07098519  0.09641648]\n",
      " [ 0.41910211 -0.95302779 -1.0478706 ]]\n",
      "Random Integers Array:\n",
      " [[1 9 7]\n",
      " [9 8 1]]\n",
      " [5 3 1]\n",
      "Random Numbers with Seed: [0.37454012 0.95071431 0.73199394 0.59865848 0.15601864]\n",
      "Shuffled Array: [2 1 4 5 3]\n",
      "Permuted Array: [2 1 4 5 3]\n",
      "Binomial Random Numbers: [3 6 7 0 9]\n",
      "Poisson Random Numbers: [2 0 2 2 6]\n",
      "Uniform Random Numbers: [0.13264961 9.42201756 5.63288218 3.85416503 0.15966252]\n",
      "Exponential Random Numbers: [0.26252625 0.27578705 1.14968514 0.94159997 1.79092928]\n",
      "Multinomial Random Numbers:\n",
      " [[1 3 6]\n",
      " [1 4 5]\n",
      " [2 2 6]\n",
      " [2 1 7]\n",
      " [3 2 5]]\n",
      "Random Choice with Probabilities: [3 5 4]\n",
      "Random Array with Shape (2, 3):\n",
      " [[0.32654077 0.57044397 0.52083426]\n",
      " [0.96117202 0.84453385 0.74732011]]\n",
      "Random Standard Normal Array:\n",
      " [[ 2.34074633  1.07098519  0.09641648]\n",
      " [ 0.41910211 -0.95302779 -1.0478706 ]]\n",
      "Random Integers Array:\n",
      " [[1 9 7]\n",
      " [9 8 1]]\n"
     ]
    }
   ],
   "source": [
    "\n",
    "\n",
    "# Example of using np.random.choice to randomly select elements from an array\n",
    "choices = np.array([1, 2, 3, 4, 5])\n",
    "random_choice = np.random.choice(choices, size=3, replace=True)  # Randomly select 3 elements from choices with replacement\n",
    "print(\"Random Choice:\", random_choice)\n",
    "# Example of using np.random.seed to set a random seed for reproducibility\n",
    "np.random.seed(42)  # Set a random seed for reproducibility \n",
    "random_numbers_seeded = np.random.rand(5)  # Generate 5 random numbers with the same seed\n",
    "print(\"Random Numbers with Seed:\", random_numbers_seeded)   \n",
    "# Example of using np.random.shuffle to shuffle an array in place\n",
    "array_to_shuffle = np.array([1, 2, 3, 4, 5])\n",
    "np.random.shuffle(array_to_shuffle)  # Shuffle the array in place   \n",
    "print(\"Shuffled Array:\", array_to_shuffle)  # Output: The array is shuffled in place\n",
    "# Example of using np.random.permutation to randomly permute an array   \n",
    "permuted_array = np.random.permutation(array_to_shuffle)  # Randomly permute the array\n",
    "print(\"Permuted Array:\", permuted_array)  # Output: A new array with elements randomly permuted\n",
    "# Example of using np.random.binomial to generate random numbers from a binomial distribution\n",
    "n_trials = 10   \n",
    "p = 0.5\n",
    "binomial_random_numbers = np.random.binomial(n_trials, p, size=5)  # Generate 5 random numbers from a binomial distribution with n_trials and probability p\n",
    "print(\"Binomial Random Numbers:\", binomial_random_numbers)  # Output: Random numbers from a binomial distribution\n",
    "# Example of using np.random.poisson to generate random numbers from a Poisson distribution \n",
    "lambda_param = 3\n",
    "poisson_random_numbers = np.random.poisson(lambda_param, size=5)  # Generate    \n",
    "# 5 random numbers from a Poisson distribution with parameter lambda_param\n",
    "print(\"Poisson Random Numbers:\", poisson_random_numbers)  # Output: Random numbers from a Poisson distribution\n",
    "# Example of using np.random.uniform to generate random numbers from a uniform distribution \n",
    "low = 0\n",
    "high = 10   \n",
    "uniform_random_numbers = np.random.uniform(low, high, size=5)  # Generate 5 random numbers from a uniform distribution between low and high\n",
    "print(\"Uniform Random Numbers:\", uniform_random_numbers)  # Output: Random numbers from a uniform\n",
    "# distribution between low and high\n",
    "# Example of using np.random.exponential to generate random numbers from an exponential distribution\n",
    "scale = 1   \n",
    "exponential_random_numbers = np.random.exponential(scale, size=5)  # Generate 5 random numbers from an exponential distribution with scale parameter scale\n",
    "print(\"Exponential Random Numbers:\", exponential_random_numbers)  # Output: Random numbers from an exponential distribution\n",
    "# Example of using np.random.multinomial to generate random numbers from a multinomial distribution     \n",
    "n_trials_multinomial = 10\n",
    "probabilities = [0.2, 0.3, 0.5] \n",
    "multinomial_random_numbers = np.random.multinomial(n_trials_multinomial, probabilities, size=5)  # Generate 5 random samples from a multinomial distribution\n",
    "print(\"Multinomial Random Numbers:\\n\", multinomial_random_numbers)  # Output:       \n",
    "# Random samples from a multinomial distribution with specified probabilities   \n",
    "# Example of using np.random.choice with probabilities\n",
    "choices_with_probabilities = np.array([1, 2, 3, 4, 5])\n",
    "probabilities = [0.1, 0.2, 0.3, 0.2, 0.2]  # Probabilities for each choice\n",
    "random_choice_with_probabilities = np.random.choice(choices_with_probabilities, size=3, replace=True, p=probabilities)  # Randomly select 3 elements with specified probabilities\n",
    "print(\"Random Choice with Probabilities:\", random_choice_with_probabilities)  # Output: Randomly selected elements with specified probabilities \n",
    "# Example of using np.random.rand to generate random numbers in a specific shape\n",
    "random_array_shape = np.random.rand(2, 3)  # Generate a 2x3 array of random numbers between 0 and 1\n",
    "print(\"Random Array with Shape (2, 3):\\n\", random_array_shape)  \n",
    "# Example of using np.random.randn to generate random numbers from a standard normal distribution\n",
    "random_standard_normal = np.random.randn(2, 3)  # Generate a 2x3 array of random numbers from a standard normal distribution (mean=0, std=1)\n",
    "print(\"Random Standard Normal Array:\\n\", random_standard_normal)  # Output: Random numbers from a standard normal distribution  \n",
    "# Example of using np.random.randint to generate random integers within a range\n",
    "random_integers_range = np.random.randint(1, 10, size=(2, 3))  # Generate a 2x3 array of random integers between 1 and 10\n",
    "print(\"Random Integers Array:\\n\", random_integers_range)  # Output:\n",
    "# Random integers within the specified range\n"
   ]
  },
  {
   "cell_type": "code",
   "execution_count": 242,
   "id": "082ae446",
   "metadata": {},
   "outputs": [
    {
     "name": "stdout",
     "output_type": "stream",
     "text": [
      "Random Choice from 2D Array: [4 3 3]\n",
      "Shuffled 2D Array:\n",
      " [[7 8 9]\n",
      " [4 5 6]\n",
      " [1 2 3]]\n",
      "Permuted 2D Array:\n",
      " [[4 5 6]\n",
      " [7 8 9]\n",
      " [1 2 3]]\n",
      "Binomial Random Numbers 2D:\n",
      " [[6 3 4]\n",
      " [3 7 6]]\n",
      "Poisson Random Numbers 2D:\n",
      " [[1 2 3]\n",
      " [5 1 1]]\n",
      "Uniform Random Numbers 2D:\n",
      " [[6.36410411 3.14355981 5.08570691]\n",
      " [9.07566474 2.49292229 4.10382923]]\n",
      "Exponential Random Numbers 2D:\n",
      " [[1.40874915 0.25980516 0.08010428]\n",
      " [0.3421403  0.17580836 2.65495009]]\n",
      "Multinomial Random Numbers 2D:\n",
      " [[[3 3 4]\n",
      "  [3 4 3]\n",
      "  [1 5 4]]\n",
      "\n",
      " [[2 4 4]\n",
      "  [4 2 4]\n",
      "  [1 2 7]]]\n"
     ]
    }
   ],
   "source": [
    "# Example of using np.random.choice with a 2D array as choices\n",
    "choices_2d = np.array([[1, 2], [3, 4], [5, 6]])\n",
    "random_choice_2d = np.random.choice(choices_2d.flatten(), size=3 , replace=True)  # Randomly select 3 elements from the flattened 2D array\n",
    "print(\"Random Choice from 2D Array:\", random_choice_2d)  # Output: Randomly selected elements from the 2D array \n",
    "# Example of using np.random.shuffle with a 2D array\n",
    "array_to_shuffle_2d = np.array([[1, 2, 3], [4, 5, 6], [7, 8, 9]])\n",
    "np.random.shuffle(array_to_shuffle_2d)  # Shuffle the 2D array in place\n",
    "print(\"Shuffled 2D Array:\\n\", array_to_shuffle_2d)  # Output: The 2D array is shuffled in place\n",
    "# Example of using np.random.permutation with a 2D array\n",
    "permuted_array_2d = np.random.permutation(array_to_shuffle_2d)  # Randomly permute the 2D array\n",
    "print(\"Permuted 2D Array:\\n\", permuted_array_2d)  # Output: A new 2D array with elements randomly permuted\n",
    "# Example of using np.random.binomial with a 2D array\n",
    "n_trials_binomial = 10  \n",
    "p_binomial = 0.5\n",
    "binomial_random_numbers_2d = np.random.binomial(n_trials_binomial, p_binomial, size=(2, 3))  # Generate a 2x3 array of random numbers from a binomial distribution\n",
    "print(\"Binomial Random Numbers 2D:\\n\", binomial_random_numbers_2d)  # Output: Random numbers from a binomial distribution in a 2D array\n",
    "# Example of using np.random.poisson with a 2D array\n",
    "lambda_param = 2.5\n",
    "poisson_random_numbers_2d = np.random.poisson(lambda_param, size=(2, 3))  # Generate a 2x3  array of random numbers from a Poisson distribution\n",
    "print(\"Poisson Random Numbers 2D:\\n\", poisson_random_numbers_2d)    # Output: Random numbers from a Poisson distribution in a 2D array          \n",
    "# Example of using np.random.uniform with a 2D array\n",
    "low_uniform = 0 \n",
    "high_uniform = 10\n",
    "uniform_random_numbers_2d = np.random.uniform(low_uniform, high_uniform, size=(2 , 3))  # Generate a 2x3 array of random numbers from a uniform distribution\n",
    "print(\"Uniform Random Numbers 2D:\\n\", uniform_random_numbers_2d)    \n",
    "# Output: Random numbers from a uniform distribution in a 2D array\n",
    "# Example of using np.random.exponential with a 2D array    \n",
    "scale_exponential = 1\n",
    "exponential_random_numbers_2d = np.random.exponential(scale_exponential, size=(2, 3))  # Generate a 2x3 array of random numbers from an exponential distribution\n",
    "print(\"Exponential Random Numbers 2D:\\n\", exponential_random_numbers_2d)  # Output: Random numbers from an exponential distribution in a 2D array\n",
    "# Example of using np.random.multinomial with a 2D array    \n",
    "n_trials_multinomial_2d = 10\n",
    "probabilities_multinomial = [0.2, 0.3, 0.5]\n",
    "multinomial_random_numbers_2d = np.random.multinomial(n_trials_multinomial_2d, probabilities_multinomial, size=(2, 3))  # Generate a 2x3 array of random samples from a multinomial distribution\n",
    "print(\"Multinomial Random Numbers 2D:\\n\", multinomial_random_numbers_2d)  # Output: Random samples from a multinomial distribution in a 2D array    \n"
   ]
  },
  {
   "cell_type": "code",
   "execution_count": 243,
   "id": "daf4414c",
   "metadata": {},
   "outputs": [
    {
     "name": "stdout",
     "output_type": "stream",
     "text": [
      "Random Array with Shape (2, 3, 4):\n",
      " [[[0.42710779 0.81801477 0.86073058 0.00695213]\n",
      "  [0.5107473  0.417411   0.22210781 0.11986537]\n",
      "  [0.33761517 0.9429097  0.32320293 0.51879062]]\n",
      "\n",
      " [[0.70301896 0.3636296  0.97178208 0.96244729]\n",
      "  [0.2517823  0.49724851 0.30087831 0.28484049]\n",
      "  [0.03688695 0.60956433 0.50267902 0.05147875]]]\n",
      "Random Standard Normal Array 3D:\n",
      " [[[ 0.4777541  -0.25902864 -0.57470921 -0.42149822]\n",
      "  [ 0.33982096 -0.00738015  0.76729684 -1.14979258]\n",
      "  [-0.77533611  0.77314086 -0.80182784  1.38401572]]\n",
      "\n",
      " [[ 1.40520531  1.39232575 -0.88064082  0.07689495]\n",
      "  [-0.49343248  0.92316261  1.70660495  0.87358942]\n",
      "  [ 0.00914435 -0.3655393   0.64908673 -1.22287354]]]\n",
      "Random Integers Array 3D:\n",
      " [[[4 9 1 8]\n",
      "  [7 2 8 1]\n",
      "  [9 9 2 7]]\n",
      "\n",
      " [[3 7 9 4]\n",
      "  [1 2 1 5]\n",
      "  [5 7 9 9]]]\n",
      "Random Choice from 3D Array: [3 3 8]\n",
      "Shuffled 3D Array:\n",
      " [[[ 1  2  3]\n",
      "  [ 4  5  6]]\n",
      "\n",
      " [[ 7  8  9]\n",
      "  [10 11 12]]]\n",
      "Permuted 3D Array:\n",
      " [[[ 7  8  9]\n",
      "  [10 11 12]]\n",
      "\n",
      " [[ 1  2  3]\n",
      "  [ 4  5  6]]]\n",
      "Binomial Random Numbers 3D:\n",
      " [[[7 5 7 7]\n",
      "  [7 6 6 5]\n",
      "  [4 7 8 4]]\n",
      "\n",
      " [[4 5 5 9]\n",
      "  [4 2 5 4]\n",
      "  [4 6 6 4]]]\n",
      "Poisson Random Numbers 3D:\n",
      " [[[3 5 4 2]\n",
      "  [6 3 1 2]\n",
      "  [3 2 1 2]]\n",
      "\n",
      " [[3 2 0 2]\n",
      "  [1 1 3 4]\n",
      "  [0 2 5 2]]]\n",
      "Uniform Random Numbers 3D:\n",
      " [[[1.32745422 9.69536867 7.14595104 0.41067517]\n",
      "  [3.98820901 4.33520738 7.44042643 2.50860527]\n",
      "  [1.84333674 0.80872967 4.28314475 6.88499901]]\n",
      "\n",
      " [[0.58193596 9.15213728 4.4235223  2.39787359]\n",
      "  [0.9387329  1.82865997 9.34613997 6.38270594]\n",
      "  [5.16696257 6.57111329 4.35672899 7.30039317]]]\n",
      "Exponential Random Numbers 3D:\n",
      " [[[0.0488921  0.83479649 0.17274331 0.12802049]\n",
      "  [0.41836749 0.09628963 0.09888926 0.37311406]\n",
      "  [3.88784412 0.1927723  0.01731006 1.44123397]]\n",
      "\n",
      " [[1.6446143  0.42511336 0.62487902 1.04917571]\n",
      "  [0.04925214 2.97879122 2.17754302 0.30231342]\n",
      "  [0.01542286 2.70959602 0.69522911 0.77517633]]]\n",
      "Multinomial Random Numbers 3D:\n",
      " [[[[3 3 4]\n",
      "   [4 4 2]\n",
      "   [3 3 4]\n",
      "   [3 3 4]]\n",
      "\n",
      "  [[2 1 7]\n",
      "   [3 4 3]\n",
      "   [2 4 4]\n",
      "   [2 2 6]]\n",
      "\n",
      "  [[1 2 7]\n",
      "   [2 1 7]\n",
      "   [2 2 6]\n",
      "   [2 3 5]]]\n",
      "\n",
      "\n",
      " [[[3 2 5]\n",
      "   [1 3 6]\n",
      "   [3 2 5]\n",
      "   [4 0 6]]\n",
      "\n",
      "  [[2 6 2]\n",
      "   [2 3 5]\n",
      "   [2 3 5]\n",
      "   [3 1 6]]\n",
      "\n",
      "  [[1 4 5]\n",
      "   [3 3 4]\n",
      "   [1 4 5]\n",
      "   [3 2 5]]]]\n",
      "Shuffled 3D Array with Axis:\n",
      " [[[ 1  2  3]\n",
      "  [ 4  5  6]]\n",
      "\n",
      " [[ 7  8  9]\n",
      "  [10 11 12]]]\n",
      "Random Choice from 3D Array with Axis: [1 1 6]\n"
     ]
    }
   ],
   "source": [
    "# Example of using np.random.rand with a 3D array\n",
    "random_array_3d = np.random.rand(2, 3, 4)  # Generate a 2x3x4 array of random numbers between 0 and 1\n",
    "print(\"Random Array with Shape (2, 3, 4):\\n\", random_array_3d)\n",
    "# Example of using np.random.randn with a 3D array  \n",
    "random_standard_normal_3d = np.random.randn(2, 3, 4)  # Generate a 2x3x4 array of random numbers from a standard normal distribution\n",
    "print(\"Random Standard Normal Array 3D:\\n\", random_standard_normal_3d)  \n",
    "# Example of using np.random.randint with a 3D array\n",
    "random_integers_range_3d = np.random.randint(1, 10, size=(2, 3, 4))  # Generate a 2x3x4 array of random integers between 1 and 10\n",
    "print(\"Random Integers Array 3D:\\n\", random_integers_range_3d)  # Output: Random integers within the specified range in a 3D array\n",
    "# Example of using np.random.choice with a 3D array as choices  \n",
    "choices_3d = np.array([[[1, 2], [3, 4]], [[5, 6], [7, 8]]])\n",
    "random_choice_3d = np.random.choice(choices_3d.flatten(), size=3, replace=True)  # Randomly select 3 elements from the flattened 3D array\n",
    "print(\"Random Choice from 3D Array:\", random_choice_3d)  # Output: Randomly selected elements from the 3D array\n",
    "# Example of using np.random.shuffle with a 3D array        \n",
    "array_to_shuffle_3d = np.array([[[1, 2, 3], [4, 5, 6]], [[7, 8, 9], [10, 11, 12]]])\n",
    "np.random.shuffle(array_to_shuffle_3d)  # Shuffle the 3D array in   place\n",
    "print(\"Shuffled 3D Array:\\n\", array_to_shuffle_3d)  \n",
    "# Output: The 3D array is shuffled in place\n",
    "# Example of using np.random.permutation with a 3D array    \n",
    "permuted_array_3d = np.random.permutation(array_to_shuffle_3d)  # Randomly permute the 3D array\n",
    "print(\"Permuted 3D Array:\\n\", permuted_array_3d)  # Output: A new 3D array with elements randomly permuted\n",
    "# Example of using np.random.binomial with a 3D array   \n",
    "n_trials_binomial_3d = 10\n",
    "p_binomial_3d = 0.5     \n",
    "binomial_random_numbers_3d = np.random.binomial(n_trials_binomial_3d, p_binomial_3d, size=(2, 3, 4))  # Generate a 2x3x4 array of random numbers from a binomial distribution\n",
    "print(\"Binomial Random Numbers 3D:\\n\", binomial_random_numbers_3d)  # Output: Random numbers from a binomial distribution in a 3D array\n",
    "# Example of using np.random.poisson with a 3D array    \n",
    "lambda_param_3d = 2.5\n",
    "poisson_random_numbers_3d = np.random.poisson(lambda_param_3d, size=(2, 3, 4))  # Generate a 2x3x4 array of random numbers from a Poisson distribution\n",
    "print(\"Poisson Random Numbers 3D:\\n\", poisson_random_numbers_3d)  # Output: Random numbers from a Poisson distribution in a 3D array\n",
    "# Example of using np.random.uniform with a 3D array    \n",
    "low_uniform_3d = 0\n",
    "high_uniform_3d = 10    \n",
    "uniform_random_numbers_3d = np.random.uniform(low_uniform_3d, high_uniform_3d, size=(2, 3, 4))  # Generate a 2x3x4 array of random numbers from a uniform distribution\n",
    "print(\"Uniform Random Numbers 3D:\\n\", uniform_random_numbers_3d)    \n",
    "# Output: Random numbers from a uniform distribution in a 3D array\n",
    "# Example of using np.random.exponential with a 3D array    \n",
    "scale_exponential_3d = 1\n",
    "exponential_random_numbers_3d = np.random.exponential(scale_exponential_3d, size=(2, 3, 4))  # Generate a 2x3x4 array of random numbers from an exponential distribution\n",
    "print(\"Exponential Random Numbers 3D:\\n\", exponential_random_numbers_3d)  # Output: Random numbers from an exponential distribution in a 3D array\n",
    "# Example of using np.random.multinomial with a 3D array\n",
    "n_trials_multinomial_3d = 10\n",
    "probabilities_multinomial_3d = [0.2, 0.3, 0.5]\n",
    "multinomial_random_numbers_3d = np.random.multinomial(n_trials_multinomial_3d, probabilities_multinomial_3d, size=(2, 3, 4))  # Generate a 2x3x4 array of random samples from a multinomial distribution\n",
    "print(\"Multinomial Random Numbers 3D:\\n\", multinomial_random_numbers_3d)  # Output: Random samples from a multinomial distribution in a 3D array      \n",
    "# Example of using np.random.shuffle with a 3D array and axis\n",
    "array_to_shuffle_3d_axis = np.array([[[1, 2, 3], [4, 5, 6]], [[7, 8, 9], [10, 11, 12]]])\n",
    "np.random.shuffle(array_to_shuffle_3d_axis)  # Shuffle the 3D array in place along the first axis\n",
    "print(\"Shuffled 3D Array with Axis:\\n\", array_to_shuffle_3d_axis)  # Output: The 3D array is shuffled in place along the specified axis \n",
    "# Example of using np.random.choice with a 3D array and axis\n",
    "choices_3d_axis = np.array([[[1, 2], [3, 4]], [[5, 6], [7, 8]]])\n",
    "random_choice_3d_axis = np.random.choice(choices_3d_axis.flatten(), size=3, replace=True)  # Randomly select 3 elements from the flattened 3D array\n",
    "print(\"Random Choice from 3D Array with Axis:\", random_choice_3d_axis)  # Output: Randomly selected elements from the 3D array along the specified axis \n"
   ]
  },
  {
   "cell_type": "markdown",
   "id": "afb1ad07",
   "metadata": {},
   "source": [
    "##### some more techniques using numpy\n"
   ]
  },
  {
   "cell_type": "code",
   "execution_count": 244,
   "id": "0a80ac91",
   "metadata": {},
   "outputs": [
    {
     "data": {
      "text/plain": [
       "array([[0.49656119, 0.38961809, 0.29763517],\n",
       "       [0.09998489, 0.0534853 , 0.9585415 ]])"
      ]
     },
     "execution_count": 244,
     "metadata": {},
     "output_type": "execute_result"
    }
   ],
   "source": [
    "np.random.random((2,3))\n"
   ]
  },
  {
   "cell_type": "code",
   "execution_count": 245,
   "id": "334eea4e",
   "metadata": {},
   "outputs": [
    {
     "data": {
      "text/plain": [
       "array([0.        , 0.11111111, 0.22222222, 0.33333333, 0.44444444,\n",
       "       0.55555556, 0.66666667, 0.77777778, 0.88888889, 1.        ])"
      ]
     },
     "execution_count": 245,
     "metadata": {},
     "output_type": "execute_result"
    }
   ],
   "source": [
    "np.linspace(0, 1, 10)"
   ]
  },
  {
   "cell_type": "code",
   "execution_count": 246,
   "id": "40969d32",
   "metadata": {},
   "outputs": [
    {
     "data": {
      "text/plain": [
       "np.int64(120)"
      ]
     },
     "execution_count": 246,
     "metadata": {},
     "output_type": "execute_result"
    }
   ],
   "source": [
    "np.prod([1,2,3,4,5])"
   ]
  },
  {
   "cell_type": "code",
   "execution_count": 247,
   "id": "c3ab8408",
   "metadata": {},
   "outputs": [
    {
     "name": "stdout",
     "output_type": "stream",
     "text": [
      "[1 2 3]\n",
      "[0.84147098 0.90929743 0.14112001]\n"
     ]
    }
   ],
   "source": [
    "a = np.array([1,2,3])\n",
    "print(a)\n",
    "print(np.sin(a))"
   ]
  },
  {
   "cell_type": "code",
   "execution_count": 248,
   "id": "6e6be36f",
   "metadata": {},
   "outputs": [
    {
     "data": {
      "text/plain": [
       "array([0.        , 0.69314718, 1.09861229])"
      ]
     },
     "execution_count": 248,
     "metadata": {},
     "output_type": "execute_result"
    }
   ],
   "source": [
    "np.log(a)"
   ]
  },
  {
   "cell_type": "code",
   "execution_count": 249,
   "id": "5002ab97",
   "metadata": {},
   "outputs": [
    {
     "data": {
      "text/plain": [
       "array([ 2.71828183,  7.3890561 , 20.08553692])"
      ]
     },
     "execution_count": 249,
     "metadata": {},
     "output_type": "execute_result"
    }
   ],
   "source": [
    "np.exp(a)"
   ]
  },
  {
   "cell_type": "code",
   "execution_count": 250,
   "id": "029062d6",
   "metadata": {},
   "outputs": [
    {
     "data": {
      "text/plain": [
       "array([[1., 0., 1.],\n",
       "       [1., 0., 0.]])"
      ]
     },
     "execution_count": 250,
     "metadata": {},
     "output_type": "execute_result"
    }
   ],
   "source": [
    "np.round(np.random.random((2,3)))"
   ]
  },
  {
   "cell_type": "code",
   "execution_count": 251,
   "id": "98cdb6c6",
   "metadata": {},
   "outputs": [
    {
     "data": {
      "text/plain": [
       "array([[0., 0., 0.],\n",
       "       [0., 0., 0.]])"
      ]
     },
     "execution_count": 251,
     "metadata": {},
     "output_type": "execute_result"
    }
   ],
   "source": [
    "np.floor(np.random.random((2,3))) #integers piche wala"
   ]
  },
  {
   "cell_type": "code",
   "execution_count": 252,
   "id": "0fa810bf",
   "metadata": {},
   "outputs": [
    {
     "data": {
      "text/plain": [
       "array([[1., 1., 1.],\n",
       "       [1., 1., 1.]])"
      ]
     },
     "execution_count": 252,
     "metadata": {},
     "output_type": "execute_result"
    }
   ],
   "source": [
    "np.ceil(np.random.random((2,3))) #age wale integer"
   ]
  },
  {
   "cell_type": "code",
   "execution_count": 253,
   "id": "fa51572c",
   "metadata": {},
   "outputs": [
    {
     "name": "stdout",
     "output_type": "stream",
     "text": [
      "1\n",
      "3\n",
      "2\n",
      "4\n",
      "3\n",
      "6\n"
     ]
    }
   ],
   "source": [
    "for i in np.nditer([[[1,3],[2,4],[3,6]]]): #iterate over 3d array\n",
    "    print(i)"
   ]
  },
  {
   "cell_type": "code",
   "execution_count": 254,
   "id": "ae149ef3",
   "metadata": {},
   "outputs": [],
   "source": [
    "import matplotlib.pyplot as plt"
   ]
  },
  {
   "cell_type": "code",
   "execution_count": 255,
   "id": "87bc1706",
   "metadata": {},
   "outputs": [
    {
     "data": {
      "text/plain": [
       "[<matplotlib.lines.Line2D at 0x219bfaf9bb0>]"
      ]
     },
     "execution_count": 255,
     "metadata": {},
     "output_type": "execute_result"
    },
    {
     "data": {
      "image/png": "[encoded data removed]",
      "text/plain": [
       "<Figure size 640x480 with 1 Axes>"
      ]
     },
     "metadata": {},
     "output_type": "display_data"
    }
   ],
   "source": [
    "x = np.linspace(-10, 10, 100)\n",
    "y = x\n",
    "plt.plot(x, y)"
   ]
  },
  {
   "cell_type": "code",
   "execution_count": 256,
   "id": "69b3cd9d",
   "metadata": {},
   "outputs": [
    {
     "data": {
      "text/plain": [
       "[<matplotlib.lines.Line2D at 0x219c0dde9c0>]"
      ]
     },
     "execution_count": 256,
     "metadata": {},
     "output_type": "execute_result"
    },
    {
     "data": {
      "image/png": "[encoded data removed]",
      "text/plain": [
       "<Figure size 640x480 with 1 Axes>"
      ]
     },
     "metadata": {},
     "output_type": "display_data"
    }
   ],
   "source": [
    "x = np.linspace(-10, 10, 100)\n",
    "y = x**2\n",
    "plt.plot(x, y)\n"
   ]
  },
  {
   "cell_type": "code",
   "execution_count": 257,
   "id": "58f58e83",
   "metadata": {},
   "outputs": [
    {
     "data": {
      "text/plain": [
       "[<matplotlib.lines.Line2D at 0x219c0e4acc0>]"
      ]
     },
     "execution_count": 257,
     "metadata": {},
     "output_type": "execute_result"
    },
    {
     "data": {
      "image/png": "[encoded data removed]",
      "text/plain": [
       "<Figure size 640x480 with 1 Axes>"
      ]
     },
     "metadata": {},
     "output_type": "display_data"
    }
   ],
   "source": [
    "x = np.linspace(0, 10, 100)\n",
    "y = np.sin(x)\n",
    "plt.plot(x, y)\n"
   ]
  },
  {
   "cell_type": "code",
   "execution_count": 258,
   "id": "cc0306a3",
   "metadata": {},
   "outputs": [
    {
     "data": {
      "text/plain": [
       "[<matplotlib.lines.Line2D at 0x219c0ed5dc0>]"
      ]
     },
     "execution_count": 258,
     "metadata": {},
     "output_type": "execute_result"
    },
    {
     "data": {
      "image/png": "[encoded data removed]",
      "text/plain": [
       "<Figure size 640x480 with 1 Axes>"
      ]
     },
     "metadata": {},
     "output_type": "display_data"
    }
   ],
   "source": [
    "x = np.linspace(0, 10, 100)\n",
    "y = np.cos(x)\n",
    "plt.plot(x, y)\n"
   ]
  },
  {
   "cell_type": "code",
   "execution_count": 259,
   "id": "ef26a4f4",
   "metadata": {},
   "outputs": [
    {
     "data": {
      "text/plain": [
       "[<matplotlib.lines.Line2D at 0x219c0f2ff80>]"
      ]
     },
     "execution_count": 259,
     "metadata": {},
     "output_type": "execute_result"
    },
    {
     "data": {
      "image/png": "[encoded data removed]",
      "text/plain": [
       "<Figure size 640x480 with 1 Axes>"
      ]
     },
     "metadata": {},
     "output_type": "display_data"
    }
   ],
   "source": [
    "x = np.linspace(0, 10, 100)\n",
    "y = np.tan(x)\n",
    "plt.plot(x, y)\n"
   ]
  },
  {
   "cell_type": "code",
   "execution_count": 260,
   "id": "1709843e",
   "metadata": {},
   "outputs": [
    {
     "name": "stderr",
     "output_type": "stream",
     "text": [
      "C:\\Users\\91861\\AppData\\Local\\Temp\\ipykernel_25824\\1318038104.py:2: RuntimeWarning: divide by zero encountered in log\n",
      "  y = np.log(x)\n"
     ]
    },
    {
     "data": {
      "text/plain": [
       "[<matplotlib.lines.Line2D at 0x219c0f93bc0>]"
      ]
     },
     "execution_count": 260,
     "metadata": {},
     "output_type": "execute_result"
    },
    {
     "data": {
      "image/png": "[encoded data removed]",
      "text/plain": [
       "<Figure size 640x480 with 1 Axes>"
      ]
     },
     "metadata": {},
     "output_type": "display_data"
    }
   ],
   "source": [
    "x = np.linspace(0, 10, 100)\n",
    "y = np.log(x)\n",
    "plt.plot(x, y)\n"
   ]
  },
  {
   "cell_type": "code",
   "execution_count": 261,
   "id": "05e7ef5b",
   "metadata": {},
   "outputs": [
    {
     "name": "stderr",
     "output_type": "stream",
     "text": [
      "C:\\Users\\91861\\AppData\\Local\\Temp\\ipykernel_25824\\1990433943.py:2: RuntimeWarning: divide by zero encountered in log\n",
      "  y = x*np.log(x)\n",
      "C:\\Users\\91861\\AppData\\Local\\Temp\\ipykernel_25824\\1990433943.py:2: RuntimeWarning: invalid value encountered in multiply\n",
      "  y = x*np.log(x)\n"
     ]
    },
    {
     "data": {
      "text/plain": [
       "[<matplotlib.lines.Line2D at 0x219c0cb7980>]"
      ]
     },
     "execution_count": 261,
     "metadata": {},
     "output_type": "execute_result"
    },
    {
     "data": {
      "image/png": "[encoded data removed]",
      "text/plain": [
       "<Figure size 640x480 with 1 Axes>"
      ]
     },
     "metadata": {},
     "output_type": "display_data"
    }
   ],
   "source": [
    "x = np.linspace(0, 10, 100)\n",
    "y = x*np.log(x)\n",
    "plt.plot(x, y)\n"
   ]
  },
  {
   "cell_type": "code",
   "execution_count": 262,
   "id": "874658e6",
   "metadata": {},
   "outputs": [
    {
     "data": {
      "text/plain": [
       "[<matplotlib.lines.Line2D at 0x219c0d22630>]"
      ]
     },
     "execution_count": 262,
     "metadata": {},
     "output_type": "execute_result"
    },
    {
     "data": {
      "image/png": "[encoded data removed]",
      "text/plain": [
       "<Figure size 640x480 with 1 Axes>"
      ]
     },
     "metadata": {},
     "output_type": "display_data"
    }
   ],
   "source": [
    "x = np.linspace(-10, 10, 100) #sigmoid curvw\n",
    "y = 1/(1+np.exp(-x))\n",
    "plt.plot(x, y)\n"
   ]
  },
  {
   "cell_type": "code",
   "execution_count": 263,
   "id": "3c150676",
   "metadata": {},
   "outputs": [
    {
     "data": {
      "text/plain": [
       "array([35, 87, 93, 75, 18, 76,  9, 74, 58, 17,  7, 46, 13, 40, 42],\n",
       "      dtype=int32)"
      ]
     },
     "execution_count": 263,
     "metadata": {},
     "output_type": "execute_result"
    }
   ],
   "source": [
    "a1 = np.random.randint(1,100,15)\n",
    "a1"
   ]
  },
  {
   "cell_type": "code",
   "execution_count": 264,
   "id": "2938d7ad",
   "metadata": {},
   "outputs": [
    {
     "data": {
      "text/plain": [
       "array([ 7,  9, 13, 17, 18, 35, 40, 42, 46, 58, 74, 75, 76, 87, 93],\n",
       "      dtype=int32)"
      ]
     },
     "execution_count": 264,
     "metadata": {},
     "output_type": "execute_result"
    }
   ],
   "source": [
    "np.sort(a1)"
   ]
  },
  {
   "cell_type": "code",
   "execution_count": 265,
   "id": "c3cf5c50",
   "metadata": {},
   "outputs": [
    {
     "data": {
      "text/plain": [
       "array([1, 2, 3, 4, 5])"
      ]
     },
     "execution_count": 265,
     "metadata": {},
     "output_type": "execute_result"
    }
   ],
   "source": [
    "e = np.array([1,1,2,2,3,3,4,4,4,5,5])\n",
    "\n",
    "np.unique(e)"
   ]
  },
  {
   "cell_type": "code",
   "execution_count": 266,
   "id": "aa75a487",
   "metadata": {},
   "outputs": [
    {
     "data": {
      "text/plain": [
       "array([[ 11],\n",
       "       [  5],\n",
       "       [ 45],\n",
       "       [ 92],\n",
       "       [ 86],\n",
       "       [ 63],\n",
       "       [ 28],\n",
       "       [ 32],\n",
       "       [ 41],\n",
       "       [ 55],\n",
       "       [-34],\n",
       "       [ 67],\n",
       "       [ 78],\n",
       "       [ 89],\n",
       "       [ 94],\n",
       "       [ 97]])"
      ]
     },
     "execution_count": 266,
     "metadata": {},
     "output_type": "execute_result"
    }
   ],
   "source": [
    "a2 = np.array([11,5, 45, 92,86, 63,28,32,41,55,-34,67,78,89,94,97])\n",
    "np.expand_dims(a2,axis=1)"
   ]
  },
  {
   "cell_type": "code",
   "execution_count": 267,
   "id": "f1d52bf8",
   "metadata": {},
   "outputs": [
    {
     "data": {
      "text/plain": [
       "np.int64(15)"
      ]
     },
     "execution_count": 267,
     "metadata": {},
     "output_type": "execute_result"
    }
   ],
   "source": [
    "np.argmax(a2)"
   ]
  },
  {
   "cell_type": "code",
   "execution_count": 268,
   "id": "a7d106b8",
   "metadata": {},
   "outputs": [
    {
     "data": {
      "text/plain": [
       "np.int64(10)"
      ]
     },
     "execution_count": 268,
     "metadata": {},
     "output_type": "execute_result"
    }
   ],
   "source": [
    "np.argmin(a2)"
   ]
  },
  {
   "cell_type": "code",
   "execution_count": 269,
   "id": "0cd505c7",
   "metadata": {},
   "outputs": [
    {
     "data": {
      "text/plain": [
       "array([ 11,  16,  61, 153, 239, 302, 330, 362, 403, 458, 424, 491, 569,\n",
       "       658, 752, 849])"
      ]
     },
     "execution_count": 269,
     "metadata": {},
     "output_type": "execute_result"
    }
   ],
   "source": [
    "np.cumulative_sum(a2)  #or # np.cumsum(a2)\n"
   ]
  },
  {
   "cell_type": "code",
   "execution_count": 270,
   "id": "478f50c4",
   "metadata": {},
   "outputs": [
    {
     "data": {
      "text/plain": [
       "array([                  11,                   55,                 2475,\n",
       "                     227700,             19582200,           1233678600,\n",
       "                34543000800,        1105376025600,       45320417049600,\n",
       "           2492622937728000,   -84749179882752000, -5678195052144384000,\n",
       "        -177356298232713216,  2662033530998075392, -8023265118114635776,\n",
       "       -3493465361318502400])"
      ]
     },
     "execution_count": 270,
     "metadata": {},
     "output_type": "execute_result"
    }
   ],
   "source": [
    "np.cumulative_prod(a2) # or np.cumprod(a2)"
   ]
  },
  {
   "cell_type": "code",
   "execution_count": 271,
   "id": "65d253df",
   "metadata": {},
   "outputs": [
    {
     "data": {
      "text/plain": [
       "np.float64(93.0)"
      ]
     },
     "execution_count": 271,
     "metadata": {},
     "output_type": "execute_result"
    }
   ],
   "source": [
    "np.percentile(a2,90) #percentile means how many people are behind you"
   ]
  },
  {
   "cell_type": "code",
   "execution_count": 272,
   "id": "0f74ef36",
   "metadata": {},
   "outputs": [
    {
     "data": {
      "text/plain": [
       "np.float64(97.0)"
      ]
     },
     "execution_count": 272,
     "metadata": {},
     "output_type": "execute_result"
    }
   ],
   "source": [
    "np.percentile(a2,100)"
   ]
  },
  {
   "cell_type": "code",
   "execution_count": 273,
   "id": "a65a431a",
   "metadata": {},
   "outputs": [
    {
     "data": {
      "text/plain": [
       "(array([1, 1, 1, 1, 2, 1, 2, 1, 2, 3]),\n",
       " array([  0,  10,  20,  30,  40,  50,  60,  70,  80,  90, 100]))"
      ]
     },
     "execution_count": 273,
     "metadata": {},
     "output_type": "execute_result"
    }
   ],
   "source": [
    "np.histogram(a2,bins=[0,10,20,30,40,50,60,70,80,90,100]) #bins means we are creating range"
   ]
  },
  {
   "cell_type": "code",
   "execution_count": 276,
   "id": "40a967ab",
   "metadata": {},
   "outputs": [
    {
     "data": {
      "text/plain": [
       "array([[1.        , 0.98386991],\n",
       "       [0.98386991, 1.        ]])"
      ]
     },
     "execution_count": 276,
     "metadata": {},
     "output_type": "execute_result"
    }
   ],
   "source": [
    "salary = np.array([10000, 15000, 30000, 45000, 50000])\n",
    "experience = np.array([1, 2, 3, 4, 5])\n",
    "np.corrcoef(salary, experience)"
   ]
  },
  {
   "cell_type": "code",
   "execution_count": 279,
   "id": "cdded0af",
   "metadata": {},
   "outputs": [
    {
     "data": {
      "text/plain": [
       "array([False, False, False, False, False,  True,  True, False, False,\n",
       "       False, False,  True, False, False,  True,  True])"
      ]
     },
     "execution_count": 279,
     "metadata": {},
     "output_type": "execute_result"
    }
   ],
   "source": [
    "items = [10,20,28,67,63,65,97,94,83]\n",
    "np.isin(a2,items)"
   ]
  },
  {
   "cell_type": "code",
   "execution_count": null,
   "id": "b5b53e74",
   "metadata": {},
   "outputs": [
    {
     "data": {
      "text/plain": [
       "array([ 97,  94,  89,  78,  67, -34,  55,  41,  32,  28,  63,  86,  92,\n",
       "        45,   5,  11])"
      ]
     },
     "execution_count": 280,
     "metadata": {},
     "output_type": "execute_result"
    }
   ],
   "source": [
    "np.flip(a2) #reverse but do not change the shape"
   ]
  },
  {
   "cell_type": "code",
   "execution_count": 285,
   "id": "adbb176d",
   "metadata": {},
   "outputs": [
    {
     "data": {
      "text/plain": [
       "array([ 11, -45,  67,  92,  86,  63,  28,  32,  41,  55, -34,  67,  78,\n",
       "        89,  94,  97])"
      ]
     },
     "execution_count": 285,
     "metadata": {},
     "output_type": "execute_result"
    }
   ],
   "source": [
    "np.put(a2,[1,2],[-45,67])\n",
    "a2"
   ]
  },
  {
   "cell_type": "code",
   "execution_count": 286,
   "id": "1af9e9e7",
   "metadata": {},
   "outputs": [
    {
     "data": {
      "text/plain": [
       "array([ 11, -45,  86,  63,  28,  32,  41,  55, -34,  67,  78,  89,  94,\n",
       "        97])"
      ]
     },
     "execution_count": 286,
     "metadata": {},
     "output_type": "execute_result"
    }
   ],
   "source": [
    "np.delete(a2,[2,3])"
   ]
  },
  {
   "cell_type": "code",
   "execution_count": 287,
   "id": "80710945",
   "metadata": {},
   "outputs": [
    {
     "data": {
      "text/plain": [
       "array([1, 2, 3, 4, 5, 6, 7, 8, 9])"
      ]
     },
     "execution_count": 287,
     "metadata": {},
     "output_type": "execute_result"
    }
   ],
   "source": [
    "#set properties of numpy\n",
    "m = np.array([1,2,3,4,5,6])\n",
    "n = np.array([1,2,7,8,9,6])\n",
    "\n",
    "np.union1d(m,n)"
   ]
  },
  {
   "cell_type": "code",
   "execution_count": 288,
   "id": "6fd57c9a",
   "metadata": {},
   "outputs": [
    {
     "data": {
      "text/plain": [
       "array([1, 2, 6])"
      ]
     },
     "execution_count": 288,
     "metadata": {},
     "output_type": "execute_result"
    }
   ],
   "source": [
    "np.intersect1d(m,n)"
   ]
  },
  {
   "cell_type": "code",
   "execution_count": 289,
   "id": "976506a6",
   "metadata": {},
   "outputs": [
    {
     "data": {
      "text/plain": [
       "array([3, 4, 5])"
      ]
     },
     "execution_count": 289,
     "metadata": {},
     "output_type": "execute_result"
    }
   ],
   "source": [
    "np.setdiff1d(m,n)"
   ]
  },
  {
   "cell_type": "code",
   "execution_count": 290,
   "id": "73f7661b",
   "metadata": {},
   "outputs": [
    {
     "data": {
      "text/plain": [
       "array([3, 4, 5, 7, 8, 9])"
      ]
     },
     "execution_count": 290,
     "metadata": {},
     "output_type": "execute_result"
    }
   ],
   "source": [
    "np.setxor1d(m,n)"
   ]
  },
  {
   "cell_type": "code",
   "execution_count": 291,
   "id": "79c85902",
   "metadata": {},
   "outputs": [
    {
     "name": "stderr",
     "output_type": "stream",
     "text": [
      "C:\\Users\\91861\\AppData\\Local\\Temp\\ipykernel_25824\\3930963099.py:1: DeprecationWarning: `in1d` is deprecated. Use `np.isin` instead.\n",
      "  np.in1d(m,1)\n"
     ]
    },
    {
     "data": {
      "text/plain": [
       "array([ True, False, False, False, False, False])"
      ]
     },
     "execution_count": 291,
     "metadata": {},
     "output_type": "execute_result"
    }
   ],
   "source": [
    "np.in1d(m,1)"
   ]
  },
  {
   "cell_type": "code",
   "execution_count": 292,
   "id": "7e3b5072",
   "metadata": {},
   "outputs": [
    {
     "data": {
      "text/plain": [
       "array([11, 10, 67, 70, 70, 63, 28, 32, 41, 55, 10, 67, 70, 70, 70, 70])"
      ]
     },
     "execution_count": 292,
     "metadata": {},
     "output_type": "execute_result"
    }
   ],
   "source": [
    "np.clip(a2,a_min=10,a_max=70) # clip the values of a2 between 10 and 70"
   ]
  },
  {
   "cell_type": "code",
   "execution_count": null,
   "id": "358c4421",
   "metadata": {},
   "outputs": [],
   "source": []
  }
 ],
 "metadata": {
  "kernelspec": {
   "display_name": "medibot",
   "language": "python",
   "name": "python3"
  },
  "language_info": {
   "codemirror_mode": {
    "name": "ipython",
    "version": 3
   },
   "file_extension": ".py",
   "mimetype": "text/x-python",
   "name": "python",
   "nbconvert_exporter": "python",
   "pygments_lexer": "ipython3",
   "version": "3.12.11"
  }
 },
 "nbformat": 4,
 "nbformat_minor": 5
}
