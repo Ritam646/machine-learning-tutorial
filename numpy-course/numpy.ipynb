{
 "cells": [
  {
   "cell_type": "code",
   "execution_count": 118,
   "id": "28c246fc",
   "metadata": {},
   "outputs": [],
   "source": [
    "import numpy as np"
   ]
  },
  {
   "cell_type": "code",
   "execution_count": 119,
   "id": "6b5a149c",
   "metadata": {},
   "outputs": [
    {
     "data": {
      "text/plain": [
       "[1, 2, 3, 4, 5]"
      ]
     },
     "execution_count": 119,
     "metadata": {},
     "output_type": "execute_result"
    }
   ],
   "source": [
    "python_list = [1, 2, 3, 4, 5]\n",
    "python_list"
   ]
  },
  {
   "cell_type": "code",
   "execution_count": 120,
   "id": "7f5913bb",
   "metadata": {},
   "outputs": [
    {
     "name": "stdout",
     "output_type": "stream",
     "text": [
      "[1 2 3 4 5]\n",
      "<class 'numpy.ndarray'>\n"
     ]
    }
   ],
   "source": [
    "numpy_array = np.array([1, 2, 3, 4, 5])\n",
    "print(numpy_array)\n",
    "print(type(numpy_array))"
   ]
  },
  {
   "cell_type": "code",
   "execution_count": 121,
   "id": "8e498a6e",
   "metadata": {},
   "outputs": [
    {
     "name": "stdout",
     "output_type": "stream",
     "text": [
      "[[1 2 3]\n",
      " [4 5 6]]\n"
     ]
    }
   ],
   "source": [
    "arr_2d = np.array([[1, 2, 3], [4, 5, 6]])\n",
    "print(arr_2d)"
   ]
  },
  {
   "cell_type": "code",
   "execution_count": 122,
   "id": "d8ebbefe",
   "metadata": {},
   "outputs": [
    {
     "name": "stdout",
     "output_type": "stream",
     "text": [
      "[[[1 2 3]\n",
      "  [4 5 6]\n",
      "  [7 8 9]]]\n"
     ]
    }
   ],
   "source": [
    "multidimensional_array = np.array([[[1, 2, 3], [4, 5, 6], [7, 8, 9]]])\n",
    "print(multidimensional_array)"
   ]
  },
  {
   "cell_type": "code",
   "execution_count": 123,
   "id": "526d5bb1",
   "metadata": {},
   "outputs": [
    {
     "name": "stdout",
     "output_type": "stream",
     "text": [
      "[0. 0.]\n",
      "[[0. 0. 0.]\n",
      " [0. 0. 0.]]\n"
     ]
    }
   ],
   "source": [
    "#with default values\n",
    "default_array = np.zeros((2, 3))\n",
    "default_array1 = np.zeros(2)\n",
    "print(default_array1)\n",
    "print(default_array)"
   ]
  },
  {
   "cell_type": "code",
   "execution_count": 124,
   "id": "785bd090",
   "metadata": {},
   "outputs": [
    {
     "name": "stdout",
     "output_type": "stream",
     "text": [
      "[[1. 1. 1.]\n",
      " [1. 1. 1.]]\n"
     ]
    }
   ],
   "source": [
    "ones_array = np.ones((2, 3))\n",
    "print(ones_array)"
   ]
  },
  {
   "cell_type": "code",
   "execution_count": 125,
   "id": "78f05d91",
   "metadata": {},
   "outputs": [
    {
     "name": "stdout",
     "output_type": "stream",
     "text": [
      "[[4 4 4]\n",
      " [4 4 4]]\n"
     ]
    }
   ],
   "source": [
    "full_array = np.full((2, 3), 4)\n",
    "print(full_array)"
   ]
  },
  {
   "cell_type": "code",
   "execution_count": 126,
   "id": "dfdb1c1c",
   "metadata": {},
   "outputs": [
    {
     "name": "stdout",
     "output_type": "stream",
     "text": [
      "[0 1 2 3 4 5 6 7 8 9]\n",
      "[2 4 6 8]\n"
     ]
    }
   ],
   "source": [
    "arrange_array = np.arange(10)\n",
    "arrange_array1 = np.arange(2, 10, 2)\n",
    "print(arrange_array)\n",
    "print(arrange_array1)\n"
   ]
  },
  {
   "cell_type": "code",
   "execution_count": 127,
   "id": "78c66040",
   "metadata": {},
   "outputs": [
    {
     "name": "stdout",
     "output_type": "stream",
     "text": [
      "[[1. 0. 0.]\n",
      " [0. 1. 0.]\n",
      " [0. 0. 1.]]\n",
      "[[1. 0. 0. 0. 0.]\n",
      " [0. 1. 0. 0. 0.]\n",
      " [0. 0. 1. 0. 0.]]\n",
      "[[1 0 0 0]\n",
      " [0 1 0 0]\n",
      " [0 0 1 0]\n",
      " [0 0 0 1]]\n",
      "[[0. 1. 0. 0.]\n",
      " [0. 0. 1. 0.]]\n"
     ]
    }
   ],
   "source": [
    "identity_array = np.eye(3)\n",
    "identity_array1 = np.eye(3, 5, k=0)\n",
    "identity_array2 = np.eye(4, dtype=int)\n",
    "identity_array3 = np.eye(2,4, k=1)\n",
    "print(identity_array)\n",
    "print(identity_array1)\n",
    "print(identity_array2)\n",
    "print(identity_array3)"
   ]
  },
  {
   "cell_type": "code",
   "execution_count": 128,
   "id": "8d9116c4",
   "metadata": {},
   "outputs": [
    {
     "data": {
      "text/plain": [
       "array([[1, 2, 3],\n",
       "       [4, 5, 6]])"
      ]
     },
     "execution_count": 128,
     "metadata": {},
     "output_type": "execute_result"
    }
   ],
   "source": [
    "array_2d = np.array([[1, 2, 3], [4, 5, 6]])\n",
    "array_2d\n"
   ]
  },
  {
   "cell_type": "code",
   "execution_count": 129,
   "id": "49f79066",
   "metadata": {},
   "outputs": [
    {
     "data": {
      "text/plain": [
       "(2, 3)"
      ]
     },
     "execution_count": 129,
     "metadata": {},
     "output_type": "execute_result"
    }
   ],
   "source": [
    "array_2d.shape"
   ]
  },
  {
   "cell_type": "code",
   "execution_count": 130,
   "id": "28db03ce",
   "metadata": {},
   "outputs": [
    {
     "data": {
      "text/plain": [
       "6"
      ]
     },
     "execution_count": 130,
     "metadata": {},
     "output_type": "execute_result"
    }
   ],
   "source": [
    "size_of_array = np.array([[10,20,30],[40,50,60]])\n",
    "size_of_array.size"
   ]
  },
  {
   "cell_type": "code",
   "execution_count": 131,
   "id": "cee324ac",
   "metadata": {},
   "outputs": [
    {
     "data": {
      "text/plain": [
       "2"
      ]
     },
     "execution_count": 131,
     "metadata": {},
     "output_type": "execute_result"
    }
   ],
   "source": [
    "size_of_array.ndim #defines the 1d,2d"
   ]
  },
  {
   "cell_type": "code",
   "execution_count": 132,
   "id": "70370dd5",
   "metadata": {},
   "outputs": [
    {
     "data": {
      "text/plain": [
       "dtype('int64')"
      ]
     },
     "execution_count": 132,
     "metadata": {},
     "output_type": "execute_result"
    }
   ],
   "source": [
    "size_of_array.dtype"
   ]
  },
  {
   "cell_type": "code",
   "execution_count": 133,
   "id": "b9889064",
   "metadata": {},
   "outputs": [
    {
     "data": {
      "text/plain": [
       "array([[10., 20., 30.],\n",
       "       [40., 50., 60.]])"
      ]
     },
     "execution_count": 133,
     "metadata": {},
     "output_type": "execute_result"
    }
   ],
   "source": [
    "float_arr = size_of_array.astype(float)\n",
    "float_arr"
   ]
  },
  {
   "cell_type": "code",
   "execution_count": 134,
   "id": "3002d045",
   "metadata": {},
   "outputs": [
    {
     "data": {
      "text/plain": [
       "dtype('float64')"
      ]
     },
     "execution_count": 134,
     "metadata": {},
     "output_type": "execute_result"
    }
   ],
   "source": [
    "float_arr.dtype"
   ]
  },
  {
   "cell_type": "code",
   "execution_count": 135,
   "id": "3d9b4fcd",
   "metadata": {},
   "outputs": [],
   "source": [
    "math_operations = np.array([10,20,30])"
   ]
  },
  {
   "cell_type": "code",
   "execution_count": 136,
   "id": "1a27db1a",
   "metadata": {},
   "outputs": [],
   "source": [
    "add = math_operations + 5"
   ]
  },
  {
   "cell_type": "code",
   "execution_count": 137,
   "id": "483c5985",
   "metadata": {},
   "outputs": [],
   "source": [
    "mul = math_operations * 4"
   ]
  },
  {
   "cell_type": "code",
   "execution_count": 138,
   "id": "6d24174e",
   "metadata": {},
   "outputs": [],
   "source": [
    "arr1 = np.array([10,20,30,40,50])"
   ]
  },
  {
   "cell_type": "code",
   "execution_count": 139,
   "id": "cd64db86",
   "metadata": {},
   "outputs": [
    {
     "data": {
      "text/plain": [
       "np.int64(150)"
      ]
     },
     "execution_count": 139,
     "metadata": {},
     "output_type": "execute_result"
    }
   ],
   "source": [
    "np.sum(arr1)"
   ]
  },
  {
   "cell_type": "code",
   "execution_count": 140,
   "id": "2d646400",
   "metadata": {},
   "outputs": [
    {
     "data": {
      "text/plain": [
       "np.float64(30.0)"
      ]
     },
     "execution_count": 140,
     "metadata": {},
     "output_type": "execute_result"
    }
   ],
   "source": [
    "np.mean(arr1)"
   ]
  },
  {
   "cell_type": "code",
   "execution_count": 141,
   "id": "e1a7110a",
   "metadata": {},
   "outputs": [
    {
     "data": {
      "text/plain": [
       "np.float64(30.0)"
      ]
     },
     "execution_count": 141,
     "metadata": {},
     "output_type": "execute_result"
    }
   ],
   "source": [
    "np.mean(arr1)\n"
   ]
  },
  {
   "cell_type": "code",
   "execution_count": 142,
   "id": "00c44491",
   "metadata": {},
   "outputs": [
    {
     "data": {
      "text/plain": [
       "np.int64(10)"
      ]
     },
     "execution_count": 142,
     "metadata": {},
     "output_type": "execute_result"
    }
   ],
   "source": [
    "np.min(arr1)"
   ]
  },
  {
   "cell_type": "code",
   "execution_count": 143,
   "id": "eb6ac6e6",
   "metadata": {},
   "outputs": [
    {
     "data": {
      "text/plain": [
       "np.int64(50)"
      ]
     },
     "execution_count": 143,
     "metadata": {},
     "output_type": "execute_result"
    }
   ],
   "source": [
    "np.max(arr1)"
   ]
  },
  {
   "cell_type": "code",
   "execution_count": 144,
   "id": "d2cb7c96",
   "metadata": {},
   "outputs": [
    {
     "data": {
      "text/plain": [
       "np.float64(14.142135623730951)"
      ]
     },
     "execution_count": 144,
     "metadata": {},
     "output_type": "execute_result"
    }
   ],
   "source": [
    "np.std(arr1)"
   ]
  },
  {
   "cell_type": "code",
   "execution_count": 145,
   "id": "ab47e0d0",
   "metadata": {},
   "outputs": [
    {
     "data": {
      "text/plain": [
       "np.float64(200.0)"
      ]
     },
     "execution_count": 145,
     "metadata": {},
     "output_type": "execute_result"
    }
   ],
   "source": [
    "np.var(arr1)"
   ]
  },
  {
   "cell_type": "code",
   "execution_count": 146,
   "id": "50abc0b7",
   "metadata": {},
   "outputs": [
    {
     "data": {
      "text/plain": [
       "np.int64(10)"
      ]
     },
     "execution_count": 146,
     "metadata": {},
     "output_type": "execute_result"
    }
   ],
   "source": [
    "indexing = np.array([10,20,30,40,50])\n",
    "indexing[0]"
   ]
  },
  {
   "cell_type": "code",
   "execution_count": 147,
   "id": "cb39e604",
   "metadata": {},
   "outputs": [
    {
     "data": {
      "text/plain": [
       "np.int64(50)"
      ]
     },
     "execution_count": 147,
     "metadata": {},
     "output_type": "execute_result"
    }
   ],
   "source": [
    "indexing[-1]"
   ]
  },
  {
   "cell_type": "code",
   "execution_count": 148,
   "id": "d3a1fb37",
   "metadata": {},
   "outputs": [],
   "source": [
    "slicing = np.array([10,20,30,40,50])"
   ]
  },
  {
   "cell_type": "code",
   "execution_count": 149,
   "id": "76687dd7",
   "metadata": {},
   "outputs": [
    {
     "data": {
      "text/plain": [
       "array([20, 30, 40])"
      ]
     },
     "execution_count": 149,
     "metadata": {},
     "output_type": "execute_result"
    }
   ],
   "source": [
    "slicing[1:4]"
   ]
  },
  {
   "cell_type": "code",
   "execution_count": 150,
   "id": "dbd17a30",
   "metadata": {},
   "outputs": [
    {
     "data": {
      "text/plain": [
       "array([20, 40])"
      ]
     },
     "execution_count": 150,
     "metadata": {},
     "output_type": "execute_result"
    }
   ],
   "source": [
    "slicing[1:4:2]"
   ]
  },
  {
   "cell_type": "code",
   "execution_count": 151,
   "id": "ba5ca27d",
   "metadata": {},
   "outputs": [
    {
     "data": {
      "text/plain": [
       "array([10, 20, 30, 40])"
      ]
     },
     "execution_count": 151,
     "metadata": {},
     "output_type": "execute_result"
    }
   ],
   "source": [
    "slicing[:4]\n"
   ]
  },
  {
   "cell_type": "code",
   "execution_count": 152,
   "id": "916de30f",
   "metadata": {},
   "outputs": [
    {
     "data": {
      "text/plain": [
       "array([10, 30, 50])"
      ]
     },
     "execution_count": 152,
     "metadata": {},
     "output_type": "execute_result"
    }
   ],
   "source": [
    "slicing[::2]"
   ]
  },
  {
   "cell_type": "code",
   "execution_count": 153,
   "id": "fdce0f00",
   "metadata": {},
   "outputs": [
    {
     "data": {
      "text/plain": [
       "array([50, 40, 30, 20, 10])"
      ]
     },
     "execution_count": 153,
     "metadata": {},
     "output_type": "execute_result"
    }
   ],
   "source": [
    "slicing[::-1]#reversing of array"
   ]
  },
  {
   "cell_type": "code",
   "execution_count": 154,
   "id": "75133d08",
   "metadata": {},
   "outputs": [
    {
     "data": {
      "text/plain": [
       "array([10, 30])"
      ]
     },
     "execution_count": 154,
     "metadata": {},
     "output_type": "execute_result"
    }
   ],
   "source": [
    "slicing[:-1:2]"
   ]
  },
  {
   "cell_type": "code",
   "execution_count": 155,
   "id": "101797a5",
   "metadata": {},
   "outputs": [],
   "source": [
    "fancy = np.array([10,20,30,40,50])"
   ]
  },
  {
   "cell_type": "code",
   "execution_count": 156,
   "id": "df6abc1b",
   "metadata": {},
   "outputs": [
    {
     "data": {
      "text/plain": [
       "array([10, 30, 40])"
      ]
     },
     "execution_count": 156,
     "metadata": {},
     "output_type": "execute_result"
    }
   ],
   "source": [
    "fancy[[0,2,3]] #this is another type of indexing"
   ]
  },
  {
   "cell_type": "code",
   "execution_count": 157,
   "id": "9ac3cd50",
   "metadata": {},
   "outputs": [
    {
     "data": {
      "text/plain": [
       "array([30, 40, 50])"
      ]
     },
     "execution_count": 157,
     "metadata": {},
     "output_type": "execute_result"
    }
   ],
   "source": [
    "fancy[fancy>20]"
   ]
  },
  {
   "cell_type": "code",
   "execution_count": 158,
   "id": "8a0a85c0",
   "metadata": {},
   "outputs": [],
   "source": [
    "reshaping = np.array([2,4,6,8,10,12])"
   ]
  },
  {
   "cell_type": "code",
   "execution_count": 159,
   "id": "c83a2575",
   "metadata": {},
   "outputs": [],
   "source": [
    "reshape_arr = reshaping.reshape(2,3) #it affects the original array"
   ]
  },
  {
   "cell_type": "code",
   "execution_count": 160,
   "id": "b5c87550",
   "metadata": {},
   "outputs": [
    {
     "data": {
      "text/plain": [
       "array([[ 2,  4,  6],\n",
       "       [ 8, 10, 12]])"
      ]
     },
     "execution_count": 160,
     "metadata": {},
     "output_type": "execute_result"
    }
   ],
   "source": [
    "reshape_arr"
   ]
  },
  {
   "cell_type": "code",
   "execution_count": 161,
   "id": "fb156974",
   "metadata": {},
   "outputs": [],
   "source": [
    "flattening = np.array([[1,2,3],[4,5,6]])\n",
    "ravel = flattening.ravel() #only view"
   ]
  },
  {
   "cell_type": "code",
   "execution_count": 162,
   "id": "81583fc9",
   "metadata": {},
   "outputs": [
    {
     "data": {
      "text/plain": [
       "array([1, 2, 3, 4, 5, 6])"
      ]
     },
     "execution_count": 162,
     "metadata": {},
     "output_type": "execute_result"
    }
   ],
   "source": [
    "ravel"
   ]
  },
  {
   "cell_type": "code",
   "execution_count": 163,
   "id": "b41553b4",
   "metadata": {},
   "outputs": [],
   "source": [
    "flatten = flattening.flatten() #copy "
   ]
  },
  {
   "cell_type": "code",
   "execution_count": 164,
   "id": "b4dfb346",
   "metadata": {},
   "outputs": [
    {
     "data": {
      "text/plain": [
       "array([1, 2, 3, 4, 5, 6])"
      ]
     },
     "execution_count": 164,
     "metadata": {},
     "output_type": "execute_result"
    }
   ],
   "source": [
    "flatten"
   ]
  },
  {
   "cell_type": "code",
   "execution_count": 165,
   "id": "1693c810",
   "metadata": {},
   "outputs": [
    {
     "data": {
      "text/plain": [
       "array([ 10,  20, 100,  30,  40,  50])"
      ]
     },
     "execution_count": 165,
     "metadata": {},
     "output_type": "execute_result"
    }
   ],
   "source": [
    "inserting = np.array([10,20,30,40,50])\n",
    "inserted_arr = np.insert(inserting, 2,100)\n",
    "inserted_arr"
   ]
  },
  {
   "cell_type": "code",
   "execution_count": 166,
   "id": "bd150f0c",
   "metadata": {},
   "outputs": [
    {
     "data": {
      "text/plain": [
       "array([[1, 2],\n",
       "       [7, 8],\n",
       "       [3, 4]])"
      ]
     },
     "execution_count": 166,
     "metadata": {},
     "output_type": "execute_result"
    }
   ],
   "source": [
    "inserting_2darr = np.array([[1,2],[3,4]])\n",
    "new_arr_2d = np.insert(inserting_2darr,1,[7,8],axis=0)\n",
    "new_arr_2dcolumn = np.insert(inserting_2darr,1,[5,6],axis=1)\n",
    "new_arr_2d"
   ]
  },
  {
   "cell_type": "code",
   "execution_count": 167,
   "id": "eec86486",
   "metadata": {},
   "outputs": [
    {
     "data": {
      "text/plain": [
       "array([[1, 5, 2],\n",
       "       [3, 6, 4]])"
      ]
     },
     "execution_count": 167,
     "metadata": {},
     "output_type": "execute_result"
    }
   ],
   "source": [
    "new_arr_2dcolumn"
   ]
  },
  {
   "cell_type": "code",
   "execution_count": 168,
   "id": "d439bc96",
   "metadata": {},
   "outputs": [
    {
     "data": {
      "text/plain": [
       "array([1, 5, 6, 2, 3, 4])"
      ]
     },
     "execution_count": 168,
     "metadata": {},
     "output_type": "execute_result"
    }
   ],
   "source": [
    "new_arr_2dnone = np.insert(inserting_2darr,1,[5,6],axis=None)\n",
    "new_arr_2dnone"
   ]
  },
  {
   "cell_type": "code",
   "execution_count": 169,
   "id": "6516dfe0",
   "metadata": {},
   "outputs": [
    {
     "data": {
      "text/plain": [
       "array([10, 20, 30, 50, 60, 70])"
      ]
     },
     "execution_count": 169,
     "metadata": {},
     "output_type": "execute_result"
    }
   ],
   "source": [
    "append_of_array = np.array([10,20,30])\n",
    "new_append = np.append(append_of_array, [50,60,70])\n",
    "new_append"
   ]
  },
  {
   "cell_type": "code",
   "execution_count": 170,
   "id": "b2c8e0f9",
   "metadata": {},
   "outputs": [
    {
     "data": {
      "text/plain": [
       "array([[10, 20, 30],\n",
       "       [ 1,  2,  3],\n",
       "       [40, 50, 60],\n",
       "       [ 4,  5,  6]])"
      ]
     },
     "execution_count": 170,
     "metadata": {},
     "output_type": "execute_result"
    }
   ],
   "source": [
    "concatenate_array = np.array([[10,20,30],[1,2,3]])\n",
    "concatenate_arraY = np.array([[40,50,60],[4,5,6]])\n",
    "new_concatenate = np.concatenate((concatenate_array, concatenate_arraY),axis=0)\n",
    "new_concatenate"
   ]
  },
  {
   "cell_type": "code",
   "execution_count": 171,
   "id": "1a23c30d",
   "metadata": {},
   "outputs": [
    {
     "data": {
      "text/plain": [
       "array([[10, 20, 30, 40, 50, 60],\n",
       "       [ 1,  2,  3,  4,  5,  6]])"
      ]
     },
     "execution_count": 171,
     "metadata": {},
     "output_type": "execute_result"
    }
   ],
   "source": [
    "new_concatenate_column = np.concatenate((concatenate_array, concatenate_arraY),axis=1)\n",
    "new_concatenate_column"
   ]
  },
  {
   "cell_type": "code",
   "execution_count": 172,
   "id": "ae5cab3a",
   "metadata": {},
   "outputs": [
    {
     "data": {
      "text/plain": [
       "array([10, 20, 30,  1,  2,  3, 40, 50, 60,  4,  5,  6])"
      ]
     },
     "execution_count": 172,
     "metadata": {},
     "output_type": "execute_result"
    }
   ],
   "source": [
    "new_concatenate_none = np.concatenate((concatenate_array, concatenate_arraY),axis=None)\n",
    "new_concatenate_none"
   ]
  },
  {
   "cell_type": "code",
   "execution_count": 173,
   "id": "dff5df1f",
   "metadata": {},
   "outputs": [
    {
     "data": {
      "text/plain": [
       "array([20, 30])"
      ]
     },
     "execution_count": 173,
     "metadata": {},
     "output_type": "execute_result"
    }
   ],
   "source": [
    "deleting = np.array([10,20,30])\n",
    "new_deleted = np.delete(deleting,0)\n",
    "new_deleted"
   ]
  },
  {
   "cell_type": "code",
   "execution_count": 174,
   "id": "06a499bd",
   "metadata": {},
   "outputs": [
    {
     "data": {
      "text/plain": [
       "array([[10, 30],\n",
       "       [40, 60]])"
      ]
     },
     "execution_count": 174,
     "metadata": {},
     "output_type": "execute_result"
    }
   ],
   "source": [
    "deleting_2darray = np.array([[10,20,30],[40,50,60]])\n",
    "new_deleted = np.delete(deleting_2darray, 1, axis=1)\n",
    "new_deleted"
   ]
  },
  {
   "cell_type": "code",
   "execution_count": 175,
   "id": "161a74d2",
   "metadata": {},
   "outputs": [
    {
     "data": {
      "text/plain": [
       "array([[10, 20, 30]])"
      ]
     },
     "execution_count": 175,
     "metadata": {},
     "output_type": "execute_result"
    }
   ],
   "source": [
    "\n",
    "new_deleted_row = np.delete(deleting_2darray, 1, axis=0)\n",
    "new_deleted_row"
   ]
  },
  {
   "cell_type": "code",
   "execution_count": 176,
   "id": "2a10e28d",
   "metadata": {},
   "outputs": [],
   "source": [
    "stack_arr1 = np.array([1,2,3])\n",
    "stack_arr2 = np.array([4,5,6])\n",
    "\n",
    "normal_stack = np.stack((stack_arr1,stack_arr2))\n",
    "ver_stack = np.vstack(((stack_arr1,stack_arr2)))\n",
    "hori_stack = np.hstack(((stack_arr1,stack_arr2)))"
   ]
  },
  {
   "cell_type": "code",
   "execution_count": 177,
   "id": "e1878c78",
   "metadata": {},
   "outputs": [
    {
     "data": {
      "text/plain": [
       "array([[1, 2, 3],\n",
       "       [4, 5, 6]])"
      ]
     },
     "execution_count": 177,
     "metadata": {},
     "output_type": "execute_result"
    }
   ],
   "source": [
    "normal_stack\n"
   ]
  },
  {
   "cell_type": "code",
   "execution_count": 178,
   "id": "38dd6f5e",
   "metadata": {},
   "outputs": [
    {
     "data": {
      "text/plain": [
       "array([[1, 2, 3],\n",
       "       [4, 5, 6]])"
      ]
     },
     "execution_count": 178,
     "metadata": {},
     "output_type": "execute_result"
    }
   ],
   "source": [
    "ver_stack\n"
   ]
  },
  {
   "cell_type": "code",
   "execution_count": 179,
   "id": "2f16d2ff",
   "metadata": {},
   "outputs": [
    {
     "data": {
      "text/plain": [
       "array([1, 2, 3, 4, 5, 6])"
      ]
     },
     "execution_count": 179,
     "metadata": {},
     "output_type": "execute_result"
    }
   ],
   "source": [
    "hori_stack"
   ]
  },
  {
   "cell_type": "code",
   "execution_count": 180,
   "id": "9f6b7578",
   "metadata": {},
   "outputs": [],
   "source": [
    "splitting = np.array([10,20,30,40,50,60])\n",
    "splitted_arr = np.split(splitting,2)"
   ]
  },
  {
   "cell_type": "code",
   "execution_count": 181,
   "id": "a16df803",
   "metadata": {},
   "outputs": [
    {
     "data": {
      "text/plain": [
       "[array([10, 20, 30]), array([40, 50, 60])]"
      ]
     },
     "execution_count": 181,
     "metadata": {},
     "output_type": "execute_result"
    }
   ],
   "source": [
    "splitted_arr"
   ]
  },
  {
   "cell_type": "code",
   "execution_count": 182,
   "id": "7d3ed002",
   "metadata": {},
   "outputs": [
    {
     "data": {
      "text/plain": [
       "[array([[10],\n",
       "        [40],\n",
       "        [70]]),\n",
       " array([[20],\n",
       "        [50],\n",
       "        [80]]),\n",
       " array([[30],\n",
       "        [60],\n",
       "        [90]])]"
      ]
     },
     "execution_count": 182,
     "metadata": {},
     "output_type": "execute_result"
    }
   ],
   "source": [
    "splitting_2d = np.array([[10,20,30],[40,50,60],[70,80,90]])\n",
    "splitted_arr_hori = np.hsplit(splitting_2d,3)\n",
    "splitted_arr_hori"
   ]
  },
  {
   "cell_type": "code",
   "execution_count": 183,
   "id": "2367076d",
   "metadata": {},
   "outputs": [
    {
     "data": {
      "text/plain": [
       "[array([[10, 20, 30]]), array([[40, 50, 60]]), array([[70, 80, 90]])]"
      ]
     },
     "execution_count": 183,
     "metadata": {},
     "output_type": "execute_result"
    }
   ],
   "source": [
    "splitted_arr_ver = np.vsplit(splitting_2d,3)\n",
    "splitted_arr_ver"
   ]
  },
  {
   "cell_type": "code",
   "execution_count": 184,
   "id": "b9fa3e8f",
   "metadata": {},
   "outputs": [
    {
     "name": "stdout",
     "output_type": "stream",
     "text": [
      "[ 90. 180. 270. 360. 450.]\n"
     ]
    }
   ],
   "source": [
    "prices = np.array([100, 200, 300, 400, 500])\n",
    "discount = 10\n",
    "\n",
    "final_pricesd = prices - (prices * discount / 100)\n",
    "print(final_pricesd)"
   ]
  },
  {
   "cell_type": "code",
   "execution_count": 185,
   "id": "90024a94",
   "metadata": {},
   "outputs": [
    {
     "name": "stdout",
     "output_type": "stream",
     "text": [
      "[ 200  400  600  800 1000]\n"
     ]
    }
   ],
   "source": [
    "arr2 = np.array([100, 200, 300, 400, 500])\n",
    "\n",
    "result = arr2 * 2\n",
    "print(result)"
   ]
  },
  {
   "cell_type": "code",
   "execution_count": 186,
   "id": "5994d428",
   "metadata": {},
   "outputs": [
    {
     "name": "stdout",
     "output_type": "stream",
     "text": [
      "[[11 22 33]\n",
      " [14 25 36]]\n"
     ]
    }
   ],
   "source": [
    "#broadcasting example\n",
    "matrix = np.array([[1, 2,3], [4,5,6]])\n",
    "vector = np.array([10, 20, 30])\n",
    "result_matrix_vector = matrix + vector\n",
    "print(result_matrix_vector) #expands vector to match matrix shape"
   ]
  },
  {
   "cell_type": "code",
   "execution_count": 187,
   "id": "099b44db",
   "metadata": {},
   "outputs": [
    {
     "name": "stdout",
     "output_type": "stream",
     "text": [
      "[11, 22, 33, 44, 55]\n"
     ]
    }
   ],
   "source": [
    "#vectorization example\n",
    "lis1 = [1, 2, 3, 4, 5]\n",
    "lis2 = [10, 20, 30, 40, 50] \n",
    "\n",
    "result = [a + b for a, b in zip(lis1, lis2)] #list comprehension for element-wise addition\n",
    "print(result)  # Output: [11, 22, 33, 44, 55]"
   ]
  },
  {
   "cell_type": "code",
   "execution_count": 188,
   "id": "3129a3c1",
   "metadata": {},
   "outputs": [
    {
     "name": "stdout",
     "output_type": "stream",
     "text": [
      "[5, 3, 7]\n",
      "{'Alice': 5, 'Bob': 3, 'Charlie': 7}\n",
      "{3, 5, 7}\n"
     ]
    }
   ],
   "source": [
    "#list comprehension \n",
    "name = ['Alice', 'Bob', 'Charlie']\n",
    "new_list = [len(n) for n in name]\n",
    "print(new_list)\n",
    "#dictionary comprehension\n",
    "dict_comp = {n: len(n) for n in name}\n",
    "print(dict_comp)\n",
    "# Set comprehension\n",
    "set_comp = {len(n) for n in name}\n",
    "print(set_comp) \n",
    "\n"
   ]
  },
  {
   "cell_type": "code",
   "execution_count": 189,
   "id": "46052be5",
   "metadata": {},
   "outputs": [
    {
     "name": "stdout",
     "output_type": "stream",
     "text": [
      "[11 22 33 44 55]\n",
      "[ -9 -18 -27 -36 -45]\n",
      "[ 10  40  90 160 250]\n",
      "[0.1 0.1 0.1 0.1 0.1]\n"
     ]
    }
   ],
   "source": [
    "arr3 = np.array([1, 2, 3, 4, 5])\n",
    "arr4 = np.array([10, 20, 30, 40, 50])\n",
    "print(arr3 + arr4)\n",
    "print(arr3 - arr4) \n",
    "print(arr3 * arr4)\n",
    "print(arr3 / arr4) "
   ]
  },
  {
   "cell_type": "code",
   "execution_count": 190,
   "id": "52043ab8",
   "metadata": {},
   "outputs": [
    {
     "name": "stdout",
     "output_type": "stream",
     "text": [
      "[False False  True False False]\n",
      "nan\n",
      "12.0\n",
      "\n",
      "nan\n",
      "12.0\n"
     ]
    }
   ],
   "source": [
    "#handling missing values\n",
    "arr_with_nan = np.array([1, 2, np.nan, 4, 5])\n",
    "print(np.isnan(arr_with_nan))  # Check for NaN values\n",
    "print(np.sum(arr_with_nan))  # Sum without NaN values\n",
    "print(np.nansum(arr_with_nan))  # Sum treating NaN as zero\n"
   ]
  },
  {
   "cell_type": "code",
   "execution_count": 191,
   "id": "51ca4c68",
   "metadata": {},
   "outputs": [
    {
     "name": "stdout",
     "output_type": "stream",
     "text": [
      "[  1.   2. 100.   4.   5.]\n",
      "[1. 2. 3. 4. 5.]\n"
     ]
    }
   ],
   "source": [
    "#replcing nan values with a specific value\n",
    "arr_with_nan1 = np.array([1, 2, np.nan, 4,  5])\n",
    "cleaned_arr = np.nan_to_num(arr_with_nan1,nan=100)  # Replace NaN with 100\n",
    "print(cleaned_arr)\n",
    "#replacing nan values with the mean of the column\n",
    "mean_value = np.nanmean(arr_with_nan1)  # Calculate the mean of non-NaN values\n",
    "arr_with_nan1[np.isnan(arr_with_nan1)] = mean_value  # Replace NaN with mean\n",
    "print(arr_with_nan1)\n"
   ]
  },
  {
   "cell_type": "code",
   "execution_count": 211,
   "id": "9f7ed5aa",
   "metadata": {},
   "outputs": [
    {
     "name": "stdout",
     "output_type": "stream",
     "text": [
      "[False False  True False False]\n",
      "inf\n",
      "[ True  True False  True  True]\n",
      "[  1.   2. 100.   4.   5.]\n"
     ]
    }
   ],
   "source": [
    "#infinity functions\n",
    "arr_with_inf = np.array([1, 2, np.inf, 4, 5])\n",
    "print(np.isinf(arr_with_inf))  # Check for infinite values  \n",
    "print(np.sum(arr_with_inf))  # Sum without infinite values\n",
    "print(np.isfinite(arr_with_inf))  # Check for finite values \n",
    "# Replace infinite values with a specific value\n",
    "cleaned_arr_inf = np.nan_to_num(arr_with_inf, posinf=100, neginf=-100)  # Replace inf with 100 and -inf with -100\n",
    "print(cleaned_arr_inf)"
   ]
  },
  {
   "cell_type": "code",
   "execution_count": 215,
   "id": "71c2aeb6",
   "metadata": {},
   "outputs": [
    {
     "name": "stdout",
     "output_type": "stream",
     "text": [
      "['Less than or equal to 3' 'Greater than 3' 'Less than or equal to 3'\n",
      " 'Greater than 3' 'Greater than 3']\n"
     ]
    }
   ],
   "source": [
    "# Example of using np.where for conditional selection\n",
    "arr5 = np.array([1, 7, 3, 4, 5])\n",
    "condition = arr5 > 3\n",
    "print(np.where(condition, 'Greater than 3', 'Less than or equal to 3'))  # Returns 'Greater than 3' or 'Less than or equal to 3' based on condition\n"
   ]
  },
  {
   "cell_type": "code",
   "execution_count": 193,
   "id": "d87506f3",
   "metadata": {},
   "outputs": [
    {
     "name": "stdout",
     "output_type": "stream",
     "text": [
      "['Less than 3' 'Less than 3' 'Equal to 3' 'Greater than 3'\n",
      " 'Greater than 3']\n"
     ]
    }
   ],
   "source": [
    "# Example of using np.select for multiple conditions\n",
    "conditions = [arr5 < 3, arr5 == 3, arr5 > 3]\n",
    "choices = ['Less than 3', 'Equal to 3', 'Greater than 3']\n",
    "result = np.select(conditions, choices, default='Unknown')  \n",
    "print(result)"
   ]
  },
  {
   "cell_type": "code",
   "execution_count": 194,
   "id": "885228da",
   "metadata": {},
   "outputs": [
    {
     "name": "stdout",
     "output_type": "stream",
     "text": [
      "[3 3 3 4 5 6 7 7 7 7]\n"
     ]
    }
   ],
   "source": [
    "# Example of using np.clip to limit values within a range\n",
    "arr6 = np.array([1, 2, 3, 4, 5, 6, 7, 8, 9, 10])\n",
    "clipped_arr = np.clip(arr6, 3, 7)  # Values below   \n",
    "# 3 are set to 3, and values above 7 are set to 7\n",
    "print(clipped_arr)"
   ]
  },
  {
   "cell_type": "code",
   "execution_count": 195,
   "id": "c8b8f901",
   "metadata": {},
   "outputs": [
    {
     "name": "stdout",
     "output_type": "stream",
     "text": [
      "[1 2 3 4 5]\n"
     ]
    }
   ],
   "source": [
    "# Example of using np.unique to find unique elements\n",
    "arr7 = np.array([1, 2, 2, 3, 4, 4, 5])\n",
    "unique_elements = np.unique(arr7)  # Find unique elements in the array\n",
    "print(unique_elements)"
   ]
  },
  {
   "cell_type": "code",
   "execution_count": 196,
   "id": "826bfd93",
   "metadata": {},
   "outputs": [
    {
     "name": "stdout",
     "output_type": "stream",
     "text": [
      "[1 2 3 4 5 8]\n"
     ]
    }
   ],
   "source": [
    "# Example of using np.sort to sort an array\n",
    "arr8 = np.array([5, 2, 8, 1, 4, 3])     \n",
    "sorted_arr = np.sort(arr8)  # Sort the array in ascending order\n",
    "print(sorted_arr)"
   ]
  },
  {
   "cell_type": "code",
   "execution_count": 197,
   "id": "6dcf0741",
   "metadata": {},
   "outputs": [
    {
     "name": "stdout",
     "output_type": "stream",
     "text": [
      "[3 1 5 4 0 2]\n"
     ]
    }
   ],
   "source": [
    "# Example of using np.argsort to get indices of sorted elements\n",
    "arr9 = np.array([5, 2, 8, 1, 4, 3])\n",
    "sorted_indices = np.argsort(arr9)  # Get indices that would sort the array  \n",
    "print(sorted_indices)  # Output: [3 1 5 4 0 2] (indices of sorted elements) "
   ]
  },
  {
   "cell_type": "code",
   "execution_count": 198,
   "id": "10b8bbce",
   "metadata": {},
   "outputs": [
    {
     "name": "stdout",
     "output_type": "stream",
     "text": [
      "[0 1 2 3 4 5]\n"
     ]
    }
   ],
   "source": [
    "# Example of using np.searchsorted to find insertion indices\n",
    "arr10 = np.array([1, 3, 5, 7, 9])\n",
    "values_to_insert = np.array([0, 2, 4, 6, 8, 10])\n",
    "insertion_indices = np.searchsorted(arr10, values_to_insert)  # Find indices to insert values\n",
    "print(insertion_indices)  # Output: [0 1 2 3 4 5] (indices where values would be inserted to maintain order) "
   ]
  },
  {
   "cell_type": "code",
   "execution_count": 199,
   "id": "d72185f7",
   "metadata": {},
   "outputs": [
    {
     "name": "stdout",
     "output_type": "stream",
     "text": [
      "X:\n",
      " [[1 2 3]\n",
      " [1 2 3]]\n",
      "Y:\n",
      " [[4 4 4]\n",
      " [5 5 5]]\n"
     ]
    }
   ],
   "source": [
    "# Example of using np.meshgrid to create a grid of coordinates\n",
    "x = np.array([1, 2, 3])     \n",
    "y = np.array([4, 5])\n",
    "X, Y = np.meshgrid(x, y)  # Create a grid of coordinates    \n",
    "print(\"X:\\n\", X)\n",
    "print(\"Y:\\n\", Y)  # Output: X and Y are 2D arrays representing the grid of coordinates"
   ]
  },
  {
   "cell_type": "code",
   "execution_count": 200,
   "id": "ba3f0cea",
   "metadata": {},
   "outputs": [
    {
     "name": "stdout",
     "output_type": "stream",
     "text": [
      "Matrix C:\n",
      " [[19 22]\n",
      " [43 50]]\n",
      "Inverse of A:\n",
      " [[-2.   1. ]\n",
      " [ 1.5 -0.5]]\n",
      "Determinant of A: -2.0000000000000004\n",
      "Eigenvalues: [-0.37228132  5.37228132]\n",
      "Eigenvectors:\n",
      " [[-0.82456484 -0.41597356]\n",
      " [ 0.56576746 -0.90937671]]\n"
     ]
    }
   ],
   "source": [
    "# Example of using np.linalg to perform linear algebra operations   \n",
    "A = np.array([[1, 2], [3, 4]])\n",
    "B = np.array([[5, 6], [7, 8]])  \n",
    "# Matrix multiplication\n",
    "C = np.dot(A, B)  # Matrix multiplication   \n",
    "print(\"Matrix C:\\n\", C)\n",
    "# Inverse of a matrix   \n",
    "A_inv = np.linalg.inv(A)  # Inverse of matrix A\n",
    "print(\"Inverse of A:\\n\", A_inv) \n",
    "# Determinant of a matrix\n",
    "det_A = np.linalg.det(A)  # Determinant of matrix A\n",
    "print(\"Determinant of A:\", det_A)  # Output: -2.0 (determinant of matrix A)\n",
    "# Eigenvalues and eigenvectors of a matrix\n",
    "eigenvalues, eigenvectors = np.linalg.eig(A)  # Eigenvalues and eigenvectors of matrix A\n",
    "print(\"Eigenvalues:\", eigenvalues)\n",
    "print(\"Eigenvectors:\\n\", eigenvectors)  # Output: Eigenvalues and eigenvectors of matrix A  \n"
   ]
  },
  {
   "cell_type": "code",
   "execution_count": 201,
   "id": "98ac30d3",
   "metadata": {},
   "outputs": [
    {
     "name": "stdout",
     "output_type": "stream",
     "text": [
      "Random Numbers: [0.19871568 0.00552212 0.81546143 0.70685734 0.72900717]\n"
     ]
    }
   ],
   "source": [
    "\n",
    "# Example of using np.random to generate random numbers\n",
    "random_numbers = np.random.rand(5)  # Generate 5 random numbers between 0 and 1\n",
    "print(\"Random Numbers:\", random_numbers)\n"
   ]
  },
  {
   "cell_type": "code",
   "execution_count": 202,
   "id": "6114d66f",
   "metadata": {},
   "outputs": [
    {
     "name": "stdout",
     "output_type": "stream",
     "text": [
      "Random Integers: [1 5 7 9 7]\n",
      " [1 5 7 9 7]\n"
     ]
    }
   ],
   "source": [
    "# Example of using np.random.randint to generate random integers\n",
    "random_integers = np.random.randint(1, 10, size=5)  # Generate 5 random integers between 1 and 10   \n",
    "print(\"Random Integers:\", random_integers)"
   ]
  },
  {
   "cell_type": "code",
   "execution_count": 203,
   "id": "43ecc98a",
   "metadata": {},
   "outputs": [
    {
     "name": "stdout",
     "output_type": "stream",
     "text": [
      "Normal Random Numbers: [-0.16820509  1.16476865 -0.24574769 -0.76966777  1.21217234]\n"
     ]
    }
   ],
   "source": [
    "# Example of using np.random.normal to generate random numbers from a normal distribution\n",
    "normal_random_numbers = np.random.normal(loc=0, scale=1, size=5)  # Generate 5 random numbers from a normal distribution with mean 0 and standard deviation 1\n",
    "print(\"Normal Random Numbers:\", normal_random_numbers)"
   ]
  },
  {
   "cell_type": "code",
   "execution_count": 204,
   "id": "f2bb3058",
   "metadata": {},
   "outputs": [
    {
     "name": "stdout",
     "output_type": "stream",
     "text": [
      "Random Choice: [4 3 3]\n",
      "Random Numbers with Seed: [0.37454012 0.95071431 0.73199394 0.59865848 0.15601864]\n",
      "Shuffled Array: [2 1 4 5 3]\n",
      "Permuted Array: [2 1 4 5 3]\n",
      "Binomial Random Numbers: [3 6 7 0 9]\n",
      "Poisson Random Numbers: [2 0 2 2 6]\n",
      "Uniform Random Numbers: [0.13264961 9.42201756 5.63288218 3.85416503 0.15966252]\n",
      "Exponential Random Numbers: [0.26252625 0.27578705 1.14968514 0.94159997 1.79092928]\n",
      "Multinomial Random Numbers:\n",
      " [[1 3 6]\n",
      " [1 4 5]\n",
      " [2 2 6]\n",
      " [2 1 7]\n",
      " [3 2 5]]\n",
      "Random Choice with Probabilities: [3 5 4]\n",
      "Random Array with Shape (2, 3):\n",
      " [[0.32654077 0.57044397 0.52083426]\n",
      " [0.96117202 0.84453385 0.74732011]]\n",
      "Random Standard Normal Array:\n",
      " [[ 2.34074633  1.07098519  0.09641648]\n",
      " [ 0.41910211 -0.95302779 -1.0478706 ]]\n",
      "Random Integers Array:\n",
      " [[1 9 7]\n",
      " [9 8 1]]\n"
     ]
    }
   ],
   "source": [
    "\n",
    "\n",
    "# Example of using np.random.choice to randomly select elements from an array\n",
    "choices = np.array([1, 2, 3, 4, 5])\n",
    "random_choice = np.random.choice(choices, size=3, replace=True)  # Randomly select 3 elements from choices with replacement\n",
    "print(\"Random Choice:\", random_choice)\n",
    "# Example of using np.random.seed to set a random seed for reproducibility\n",
    "np.random.seed(42)  # Set a random seed for reproducibility \n",
    "random_numbers_seeded = np.random.rand(5)  # Generate 5 random numbers with the same seed\n",
    "print(\"Random Numbers with Seed:\", random_numbers_seeded)   \n",
    "# Example of using np.random.shuffle to shuffle an array in place\n",
    "array_to_shuffle = np.array([1, 2, 3, 4, 5])\n",
    "np.random.shuffle(array_to_shuffle)  # Shuffle the array in place   \n",
    "print(\"Shuffled Array:\", array_to_shuffle)  # Output: The array is shuffled in place\n",
    "# Example of using np.random.permutation to randomly permute an array   \n",
    "permuted_array = np.random.permutation(array_to_shuffle)  # Randomly permute the array\n",
    "print(\"Permuted Array:\", permuted_array)  # Output: A new array with elements randomly permuted\n",
    "# Example of using np.random.binomial to generate random numbers from a binomial distribution\n",
    "n_trials = 10   \n",
    "p = 0.5\n",
    "binomial_random_numbers = np.random.binomial(n_trials, p, size=5)  # Generate 5 random numbers from a binomial distribution with n_trials and probability p\n",
    "print(\"Binomial Random Numbers:\", binomial_random_numbers)  # Output: Random numbers from a binomial distribution\n",
    "# Example of using np.random.poisson to generate random numbers from a Poisson distribution \n",
    "lambda_param = 3\n",
    "poisson_random_numbers = np.random.poisson(lambda_param, size=5)  # Generate    \n",
    "# 5 random numbers from a Poisson distribution with parameter lambda_param\n",
    "print(\"Poisson Random Numbers:\", poisson_random_numbers)  # Output: Random numbers from a Poisson distribution\n",
    "# Example of using np.random.uniform to generate random numbers from a uniform distribution \n",
    "low = 0\n",
    "high = 10   \n",
    "uniform_random_numbers = np.random.uniform(low, high, size=5)  # Generate 5 random numbers from a uniform distribution between low and high\n",
    "print(\"Uniform Random Numbers:\", uniform_random_numbers)  # Output: Random numbers from a uniform\n",
    "# distribution between low and high\n",
    "# Example of using np.random.exponential to generate random numbers from an exponential distribution\n",
    "scale = 1   \n",
    "exponential_random_numbers = np.random.exponential(scale, size=5)  # Generate 5 random numbers from an exponential distribution with scale parameter scale\n",
    "print(\"Exponential Random Numbers:\", exponential_random_numbers)  # Output: Random numbers from an exponential distribution\n",
    "# Example of using np.random.multinomial to generate random numbers from a multinomial distribution     \n",
    "n_trials_multinomial = 10\n",
    "probabilities = [0.2, 0.3, 0.5] \n",
    "multinomial_random_numbers = np.random.multinomial(n_trials_multinomial, probabilities, size=5)  # Generate 5 random samples from a multinomial distribution\n",
    "print(\"Multinomial Random Numbers:\\n\", multinomial_random_numbers)  # Output:       \n",
    "# Random samples from a multinomial distribution with specified probabilities   \n",
    "# Example of using np.random.choice with probabilities\n",
    "choices_with_probabilities = np.array([1, 2, 3, 4, 5])\n",
    "probabilities = [0.1, 0.2, 0.3, 0.2, 0.2]  # Probabilities for each choice\n",
    "random_choice_with_probabilities = np.random.choice(choices_with_probabilities, size=3, replace=True, p=probabilities)  # Randomly select 3 elements with specified probabilities\n",
    "print(\"Random Choice with Probabilities:\", random_choice_with_probabilities)  # Output: Randomly selected elements with specified probabilities \n",
    "# Example of using np.random.rand to generate random numbers in a specific shape\n",
    "random_array_shape = np.random.rand(2, 3)  # Generate a 2x3 array of random numbers between 0 and 1\n",
    "print(\"Random Array with Shape (2, 3):\\n\", random_array_shape)  \n",
    "# Example of using np.random.randn to generate random numbers from a standard normal distribution\n",
    "random_standard_normal = np.random.randn(2, 3)  # Generate a 2x3 array of random numbers from a standard normal distribution (mean=0, std=1)\n",
    "print(\"Random Standard Normal Array:\\n\", random_standard_normal)  # Output: Random numbers from a standard normal distribution  \n",
    "# Example of using np.random.randint to generate random integers within a range\n",
    "random_integers_range = np.random.randint(1, 10, size=(2, 3))  # Generate a 2x3 array of random integers between 1 and 10\n",
    "print(\"Random Integers Array:\\n\", random_integers_range)  # Output:\n",
    "# Random integers within the specified range\n"
   ]
  },
  {
   "cell_type": "code",
   "execution_count": 205,
   "id": "082ae446",
   "metadata": {},
   "outputs": [
    {
     "name": "stdout",
     "output_type": "stream",
     "text": [
      "Random Choice from 2D Array: [4 3 3]\n",
      "Shuffled 2D Array:\n",
      " [[7 8 9]\n",
      " [4 5 6]\n",
      " [1 2 3]]\n",
      "Permuted 2D Array:\n",
      " [[4 5 6]\n",
      " [7 8 9]\n",
      " [1 2 3]]\n",
      "Binomial Random Numbers 2D:\n",
      " [[6 3 4]\n",
      " [3 7 6]]\n",
      "Poisson Random Numbers 2D:\n",
      " [[1 2 3]\n",
      " [5 1 1]]\n",
      "Uniform Random Numbers 2D:\n",
      " [[6.36410411 3.14355981 5.08570691]\n",
      " [9.07566474 2.49292229 4.10382923]]\n",
      "Exponential Random Numbers 2D:\n",
      " [[1.40874915 0.25980516 0.08010428]\n",
      " [0.3421403  0.17580836 2.65495009]]\n",
      "Multinomial Random Numbers 2D:\n",
      " [[[3 3 4]\n",
      "  [3 4 3]\n",
      "  [1 5 4]]\n",
      "\n",
      " [[2 4 4]\n",
      "  [4 2 4]\n",
      "  [1 2 7]]]\n"
     ]
    }
   ],
   "source": [
    "# Example of using np.random.choice with a 2D array as choices\n",
    "choices_2d = np.array([[1, 2], [3, 4], [5, 6]])\n",
    "random_choice_2d = np.random.choice(choices_2d.flatten(), size=3 , replace=True)  # Randomly select 3 elements from the flattened 2D array\n",
    "print(\"Random Choice from 2D Array:\", random_choice_2d)  # Output: Randomly selected elements from the 2D array \n",
    "# Example of using np.random.shuffle with a 2D array\n",
    "array_to_shuffle_2d = np.array([[1, 2, 3], [4, 5, 6], [7, 8, 9]])\n",
    "np.random.shuffle(array_to_shuffle_2d)  # Shuffle the 2D array in place\n",
    "print(\"Shuffled 2D Array:\\n\", array_to_shuffle_2d)  # Output: The 2D array is shuffled in place\n",
    "# Example of using np.random.permutation with a 2D array\n",
    "permuted_array_2d = np.random.permutation(array_to_shuffle_2d)  # Randomly permute the 2D array\n",
    "print(\"Permuted 2D Array:\\n\", permuted_array_2d)  # Output: A new 2D array with elements randomly permuted\n",
    "# Example of using np.random.binomial with a 2D array\n",
    "n_trials_binomial = 10  \n",
    "p_binomial = 0.5\n",
    "binomial_random_numbers_2d = np.random.binomial(n_trials_binomial, p_binomial, size=(2, 3))  # Generate a 2x3 array of random numbers from a binomial distribution\n",
    "print(\"Binomial Random Numbers 2D:\\n\", binomial_random_numbers_2d)  # Output: Random numbers from a binomial distribution in a 2D array\n",
    "# Example of using np.random.poisson with a 2D array\n",
    "lambda_param = 2.5\n",
    "poisson_random_numbers_2d = np.random.poisson(lambda_param, size=(2, 3))  # Generate a 2x3  array of random numbers from a Poisson distribution\n",
    "print(\"Poisson Random Numbers 2D:\\n\", poisson_random_numbers_2d)    # Output: Random numbers from a Poisson distribution in a 2D array          \n",
    "# Example of using np.random.uniform with a 2D array\n",
    "low_uniform = 0 \n",
    "high_uniform = 10\n",
    "uniform_random_numbers_2d = np.random.uniform(low_uniform, high_uniform, size=(2 , 3))  # Generate a 2x3 array of random numbers from a uniform distribution\n",
    "print(\"Uniform Random Numbers 2D:\\n\", uniform_random_numbers_2d)    \n",
    "# Output: Random numbers from a uniform distribution in a 2D array\n",
    "# Example of using np.random.exponential with a 2D array    \n",
    "scale_exponential = 1\n",
    "exponential_random_numbers_2d = np.random.exponential(scale_exponential, size=(2, 3))  # Generate a 2x3 array of random numbers from an exponential distribution\n",
    "print(\"Exponential Random Numbers 2D:\\n\", exponential_random_numbers_2d)  # Output: Random numbers from an exponential distribution in a 2D array\n",
    "# Example of using np.random.multinomial with a 2D array    \n",
    "n_trials_multinomial_2d = 10\n",
    "probabilities_multinomial = [0.2, 0.3, 0.5]\n",
    "multinomial_random_numbers_2d = np.random.multinomial(n_trials_multinomial_2d, probabilities_multinomial, size=(2, 3))  # Generate a 2x3 array of random samples from a multinomial distribution\n",
    "print(\"Multinomial Random Numbers 2D:\\n\", multinomial_random_numbers_2d)  # Output: Random samples from a multinomial distribution in a 2D array    \n"
   ]
  },
  {
   "cell_type": "code",
   "execution_count": 206,
   "id": "daf4414c",
   "metadata": {},
   "outputs": [
    {
     "name": "stdout",
     "output_type": "stream",
     "text": [
      "Random Array with Shape (2, 3, 4):\n",
      " [[[0.42710779 0.81801477 0.86073058 0.00695213]\n",
      "  [0.5107473  0.417411   0.22210781 0.11986537]\n",
      "  [0.33761517 0.9429097  0.32320293 0.51879062]]\n",
      "\n",
      " [[0.70301896 0.3636296  0.97178208 0.96244729]\n",
      "  [0.2517823  0.49724851 0.30087831 0.28484049]\n",
      "  [0.03688695 0.60956433 0.50267902 0.05147875]]]\n",
      "Random Standard Normal Array 3D:\n",
      " [[[ 0.4777541  -0.25902864 -0.57470921 -0.42149822]\n",
      "  [ 0.33982096 -0.00738015  0.76729684 -1.14979258]\n",
      "  [-0.77533611  0.77314086 -0.80182784  1.38401572]]\n",
      "\n",
      " [[ 1.40520531  1.39232575 -0.88064082  0.07689495]\n",
      "  [-0.49343248  0.92316261  1.70660495  0.87358942]\n",
      "  [ 0.00914435 -0.3655393   0.64908673 -1.22287354]]]\n",
      "Random Integers Array 3D:\n",
      " [[[4 9 1 8]\n",
      "  [7 2 8 1]\n",
      "  [9 9 2 7]]\n",
      "\n",
      " [[3 7 9 4]\n",
      "  [1 2 1 5]\n",
      "  [5 7 9 9]]]\n",
      "Random Choice from 3D Array: [3 3 8]\n",
      "Shuffled 3D Array:\n",
      " [[[ 1  2  3]\n",
      "  [ 4  5  6]]\n",
      "\n",
      " [[ 7  8  9]\n",
      "  [10 11 12]]]\n",
      "Permuted 3D Array:\n",
      " [[[ 7  8  9]\n",
      "  [10 11 12]]\n",
      "\n",
      " [[ 1  2  3]\n",
      "  [ 4  5  6]]]\n",
      "Binomial Random Numbers 3D:\n",
      " [[[7 5 7 7]\n",
      "  [7 6 6 5]\n",
      "  [4 7 8 4]]\n",
      "\n",
      " [[4 5 5 9]\n",
      "  [4 2 5 4]\n",
      "  [4 6 6 4]]]\n",
      "Poisson Random Numbers 3D:\n",
      " [[[3 5 4 2]\n",
      "  [6 3 1 2]\n",
      "  [3 2 1 2]]\n",
      "\n",
      " [[3 2 0 2]\n",
      "  [1 1 3 4]\n",
      "  [0 2 5 2]]]\n",
      "Uniform Random Numbers 3D:\n",
      " [[[1.32745422 9.69536867 7.14595104 0.41067517]\n",
      "  [3.98820901 4.33520738 7.44042643 2.50860527]\n",
      "  [1.84333674 0.80872967 4.28314475 6.88499901]]\n",
      "\n",
      " [[0.58193596 9.15213728 4.4235223  2.39787359]\n",
      "  [0.9387329  1.82865997 9.34613997 6.38270594]\n",
      "  [5.16696257 6.57111329 4.35672899 7.30039317]]]\n",
      "Exponential Random Numbers 3D:\n",
      " [[[0.0488921  0.83479649 0.17274331 0.12802049]\n",
      "  [0.41836749 0.09628963 0.09888926 0.37311406]\n",
      "  [3.88784412 0.1927723  0.01731006 1.44123397]]\n",
      "\n",
      " [[1.6446143  0.42511336 0.62487902 1.04917571]\n",
      "  [0.04925214 2.97879122 2.17754302 0.30231342]\n",
      "  [0.01542286 2.70959602 0.69522911 0.77517633]]]\n",
      "Multinomial Random Numbers 3D:\n",
      " [[[[3 3 4]\n",
      "   [4 4 2]\n",
      "   [3 3 4]\n",
      "   [3 3 4]]\n",
      "\n",
      "  [[2 1 7]\n",
      "   [3 4 3]\n",
      "   [2 4 4]\n",
      "   [2 2 6]]\n",
      "\n",
      "  [[1 2 7]\n",
      "   [2 1 7]\n",
      "   [2 2 6]\n",
      "   [2 3 5]]]\n",
      "\n",
      "\n",
      " [[[3 2 5]\n",
      "   [1 3 6]\n",
      "   [3 2 5]\n",
      "   [4 0 6]]\n",
      "\n",
      "  [[2 6 2]\n",
      "   [2 3 5]\n",
      "   [2 3 5]\n",
      "   [3 1 6]]\n",
      "\n",
      "  [[1 4 5]\n",
      "   [3 3 4]\n",
      "   [1 4 5]\n",
      "   [3 2 5]]]]\n",
      "Shuffled 3D Array with Axis:\n",
      " [[[ 1  2  3]\n",
      "  [ 4  5  6]]\n",
      "\n",
      " [[ 7  8  9]\n",
      "  [10 11 12]]]\n",
      "Random Choice from 3D Array with Axis: [1 1 6]\n"
     ]
    }
   ],
   "source": [
    "# Example of using np.random.rand with a 3D array\n",
    "random_array_3d = np.random.rand(2, 3, 4)  # Generate a 2x3x4 array of random numbers between 0 and 1\n",
    "print(\"Random Array with Shape (2, 3, 4):\\n\", random_array_3d)\n",
    "# Example of using np.random.randn with a 3D array  \n",
    "random_standard_normal_3d = np.random.randn(2, 3, 4)  # Generate a 2x3x4 array of random numbers from a standard normal distribution\n",
    "print(\"Random Standard Normal Array 3D:\\n\", random_standard_normal_3d)  \n",
    "# Example of using np.random.randint with a 3D array\n",
    "random_integers_range_3d = np.random.randint(1, 10, size=(2, 3, 4))  # Generate a 2x3x4 array of random integers between 1 and 10\n",
    "print(\"Random Integers Array 3D:\\n\", random_integers_range_3d)  # Output: Random integers within the specified range in a 3D array\n",
    "# Example of using np.random.choice with a 3D array as choices  \n",
    "choices_3d = np.array([[[1, 2], [3, 4]], [[5, 6], [7, 8]]])\n",
    "random_choice_3d = np.random.choice(choices_3d.flatten(), size=3, replace=True)  # Randomly select 3 elements from the flattened 3D array\n",
    "print(\"Random Choice from 3D Array:\", random_choice_3d)  # Output: Randomly selected elements from the 3D array\n",
    "# Example of using np.random.shuffle with a 3D array        \n",
    "array_to_shuffle_3d = np.array([[[1, 2, 3], [4, 5, 6]], [[7, 8, 9], [10, 11, 12]]])\n",
    "np.random.shuffle(array_to_shuffle_3d)  # Shuffle the 3D array in   place\n",
    "print(\"Shuffled 3D Array:\\n\", array_to_shuffle_3d)  \n",
    "# Output: The 3D array is shuffled in place\n",
    "# Example of using np.random.permutation with a 3D array    \n",
    "permuted_array_3d = np.random.permutation(array_to_shuffle_3d)  # Randomly permute the 3D array\n",
    "print(\"Permuted 3D Array:\\n\", permuted_array_3d)  # Output: A new 3D array with elements randomly permuted\n",
    "# Example of using np.random.binomial with a 3D array   \n",
    "n_trials_binomial_3d = 10\n",
    "p_binomial_3d = 0.5     \n",
    "binomial_random_numbers_3d = np.random.binomial(n_trials_binomial_3d, p_binomial_3d, size=(2, 3, 4))  # Generate a 2x3x4 array of random numbers from a binomial distribution\n",
    "print(\"Binomial Random Numbers 3D:\\n\", binomial_random_numbers_3d)  # Output: Random numbers from a binomial distribution in a 3D array\n",
    "# Example of using np.random.poisson with a 3D array    \n",
    "lambda_param_3d = 2.5\n",
    "poisson_random_numbers_3d = np.random.poisson(lambda_param_3d, size=(2, 3, 4))  # Generate a 2x3x4 array of random numbers from a Poisson distribution\n",
    "print(\"Poisson Random Numbers 3D:\\n\", poisson_random_numbers_3d)  # Output: Random numbers from a Poisson distribution in a 3D array\n",
    "# Example of using np.random.uniform with a 3D array    \n",
    "low_uniform_3d = 0\n",
    "high_uniform_3d = 10    \n",
    "uniform_random_numbers_3d = np.random.uniform(low_uniform_3d, high_uniform_3d, size=(2, 3, 4))  # Generate a 2x3x4 array of random numbers from a uniform distribution\n",
    "print(\"Uniform Random Numbers 3D:\\n\", uniform_random_numbers_3d)    \n",
    "# Output: Random numbers from a uniform distribution in a 3D array\n",
    "# Example of using np.random.exponential with a 3D array    \n",
    "scale_exponential_3d = 1\n",
    "exponential_random_numbers_3d = np.random.exponential(scale_exponential_3d, size=(2, 3, 4))  # Generate a 2x3x4 array of random numbers from an exponential distribution\n",
    "print(\"Exponential Random Numbers 3D:\\n\", exponential_random_numbers_3d)  # Output: Random numbers from an exponential distribution in a 3D array\n",
    "# Example of using np.random.multinomial with a 3D array\n",
    "n_trials_multinomial_3d = 10\n",
    "probabilities_multinomial_3d = [0.2, 0.3, 0.5]\n",
    "multinomial_random_numbers_3d = np.random.multinomial(n_trials_multinomial_3d, probabilities_multinomial_3d, size=(2, 3, 4))  # Generate a 2x3x4 array of random samples from a multinomial distribution\n",
    "print(\"Multinomial Random Numbers 3D:\\n\", multinomial_random_numbers_3d)  # Output: Random samples from a multinomial distribution in a 3D array      \n",
    "# Example of using np.random.shuffle with a 3D array and axis\n",
    "array_to_shuffle_3d_axis = np.array([[[1, 2, 3], [4, 5, 6]], [[7, 8, 9], [10, 11, 12]]])\n",
    "np.random.shuffle(array_to_shuffle_3d_axis)  # Shuffle the 3D array in place along the first axis\n",
    "print(\"Shuffled 3D Array with Axis:\\n\", array_to_shuffle_3d_axis)  # Output: The 3D array is shuffled in place along the specified axis \n",
    "# Example of using np.random.choice with a 3D array and axis\n",
    "choices_3d_axis = np.array([[[1, 2], [3, 4]], [[5, 6], [7, 8]]])\n",
    "random_choice_3d_axis = np.random.choice(choices_3d_axis.flatten(), size=3, replace=True)  # Randomly select 3 elements from the flattened 3D array\n",
    "print(\"Random Choice from 3D Array with Axis:\", random_choice_3d_axis)  # Output: Randomly selected elements from the 3D array along the specified axis \n"
   ]
  },
  {
   "cell_type": "code",
   "execution_count": null,
   "id": "0a80ac91",
   "metadata": {},
   "outputs": [],
   "source": []
  }
 ],
 "metadata": {
  "kernelspec": {
   "display_name": "medibot",
   "language": "python",
   "name": "python3"
  },
  "language_info": {
   "codemirror_mode": {
    "name": "ipython",
    "version": 3
   },
   "file_extension": ".py",
   "mimetype": "text/x-python",
   "name": "python",
   "nbconvert_exporter": "python",
   "pygments_lexer": "ipython3",
   "version": "3.12.11"
  }
 },
 "nbformat": 4,
 "nbformat_minor": 5
}
