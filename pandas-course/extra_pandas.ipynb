{
 "cells": [
  {
   "cell_type": "code",
   "execution_count": 251,
   "id": "ba7df1bf",
   "metadata": {},
   "outputs": [],
   "source": [
    "import pandas as pd\n",
    "import numpy as np\n",
    "import matplotlib.pyplot as plt\n",
    "from datetime import datetime, timedelta\n",
    "import warnings\n",
    "warnings.filterwarnings('ignore')\n",
    "\n"
   ]
  },
  {
   "cell_type": "code",
   "execution_count": 252,
   "id": "13aac7ab",
   "metadata": {},
   "outputs": [
    {
     "name": "stdout",
     "output_type": "stream",
     "text": [
      "Series:\n",
      "a    1.0\n",
      "b    3.0\n",
      "c    5.0\n",
      "d    NaN\n",
      "e    6.0\n",
      "f    8.0\n",
      "dtype: float64\n",
      "\n"
     ]
    }
   ],
   "source": [
    "# Series creation\n",
    "series_data = pd.Series([1, 3, 5, np.nan, 6, 8], index=['a', 'b', 'c', 'd', 'e', 'f'])\n",
    "print(\"Series:\")\n",
    "print(series_data)\n",
    "print()"
   ]
  },
  {
   "cell_type": "code",
   "execution_count": 253,
   "id": "0280b85a",
   "metadata": {},
   "outputs": [],
   "source": [
    "# Create comprehensive DataFrames\n",
    "dates = pd.date_range('20240101', periods=6)\n",
    "df6 = pd.DataFrame({\n",
    "    'A': [1, 2, 3, 4, 5, 6],\n",
    "    'B': pd.Timestamp('20240102'),\n",
    "    'C': pd.Series(1.0, index=list(range(6)), dtype=float),\n",
    "    'D': np.array([3] * 6, dtype='int32'),\n",
    "    'E': pd.Categorical([\"test\", \"train\", \"test\", \"train\", \"test\", \"train\"]),\n",
    "    'F': 'foo',\n",
    "    'G': [1.1, 2.2, 3.3, 4.4, 5.5, 6.6],\n",
    "    'H': pd.Series([True, False, True, False, True, False])\n",
    "}, index=dates)"
   ]
  },
  {
   "cell_type": "code",
   "execution_count": 254,
   "id": "2ff88475",
   "metadata": {},
   "outputs": [
    {
     "name": "stdout",
     "output_type": "stream",
     "text": [
      "Main DataFrame (df6):\n",
      "            A          B   C  D      E    F    G    H\n",
      "2024-01-01  1 2024-01-02 NaN  3   test  foo  1.1  NaN\n",
      "2024-01-02  2 2024-01-02 NaN  3  train  foo  2.2  NaN\n",
      "2024-01-03  3 2024-01-02 NaN  3   test  foo  3.3  NaN\n",
      "2024-01-04  4 2024-01-02 NaN  3  train  foo  4.4  NaN\n",
      "2024-01-05  5 2024-01-02 NaN  3   test  foo  5.5  NaN\n",
      "2024-01-06  6 2024-01-02 NaN  3  train  foo  6.6  NaN\n",
      "\n",
      "df6 dtypes:\n",
      "A            int64\n",
      "B    datetime64[s]\n",
      "C          float64\n",
      "D            int32\n",
      "E         category\n",
      "F           object\n",
      "G          float64\n",
      "H           object\n",
      "dtype: object\n",
      "\n"
     ]
    }
   ],
   "source": [
    "# Create additional sample DataFrames\n",
    "df = pd.DataFrame({'x': range(10), 'y': range(10, 20)})\n",
    "df1 = pd.DataFrame({'a': [1, 2, 3], 'b': [4, 5, 6]})\n",
    "df2 = pd.DataFrame({'key': ['A', 'B', 'C'], 'val1': [10, 20, 30]})\n",
    "df3 = pd.DataFrame({'key': ['A', 'B', 'D'], 'val2': [100, 200, 400]})\n",
    "df4 = pd.DataFrame({'name': ['Alice', 'Bob', 'Charlie'], 'age': [25, 30, 35]})\n",
    "df5 = pd.DataFrame({'product': ['X', 'Y', 'Z'], 'price': [100, 200, 300]})\n",
    "\n",
    "print(\"Main DataFrame (df6):\")\n",
    "print(df6)\n",
    "print(f\"\\ndf6 dtypes:\\n{df6.dtypes}\")\n",
    "print()"
   ]
  },
  {
   "cell_type": "code",
   "execution_count": 255,
   "id": "559942ab",
   "metadata": {},
   "outputs": [
    {
     "name": "stdout",
     "output_type": "stream",
     "text": [
      "Head (first 3 rows) of df6:\n",
      "            A          B   C  D      E    F    G    H\n",
      "2024-01-01  1 2024-01-02 NaN  3   test  foo  1.1  NaN\n",
      "2024-01-02  2 2024-01-02 NaN  3  train  foo  2.2  NaN\n",
      "2024-01-03  3 2024-01-02 NaN  3   test  foo  3.3  NaN\n",
      "\n",
      "Tail (last 2 rows) of df6:\n",
      "            A          B   C  D      E    F    G    H\n",
      "2024-01-05  5 2024-01-02 NaN  3   test  foo  5.5  NaN\n",
      "2024-01-06  6 2024-01-02 NaN  3  train  foo  6.6  NaN\n",
      "\n",
      "Info for df6:\n",
      "<class 'pandas.core.frame.DataFrame'>\n",
      "DatetimeIndex: 6 entries, 2024-01-01 to 2024-01-06\n",
      "Freq: D\n",
      "Data columns (total 8 columns):\n",
      " #   Column  Non-Null Count  Dtype        \n",
      "---  ------  --------------  -----        \n",
      " 0   A       6 non-null      int64        \n",
      " 1   B       6 non-null      datetime64[s]\n",
      " 2   C       0 non-null      float64      \n",
      " 3   D       6 non-null      int32        \n",
      " 4   E       6 non-null      category     \n",
      " 5   F       6 non-null      object       \n",
      " 6   G       6 non-null      float64      \n",
      " 7   H       0 non-null      object       \n",
      "dtypes: category(1), datetime64[s](1), float64(2), int32(1), int64(1), object(2)\n",
      "memory usage: 490.0+ bytes\n",
      "None\n",
      "\n",
      "Describe df6:\n",
      "              A                    B    C    D         G\n",
      "count  6.000000                    6  0.0  6.0  6.000000\n",
      "mean   3.500000  2024-01-02 00:00:00  NaN  3.0  3.850000\n",
      "min    1.000000  2024-01-02 00:00:00  NaN  3.0  1.100000\n",
      "25%    2.250000  2024-01-02 00:00:00  NaN  3.0  2.475000\n",
      "50%    3.500000  2024-01-02 00:00:00  NaN  3.0  3.850000\n",
      "75%    4.750000  2024-01-02 00:00:00  NaN  3.0  5.225000\n",
      "max    6.000000  2024-01-02 00:00:00  NaN  3.0  6.600000\n",
      "std    1.870829                  NaN  NaN  0.0  2.057912\n",
      "<class 'pandas.core.frame.DataFrame'>\n",
      "DatetimeIndex: 6 entries, 2024-01-01 to 2024-01-06\n",
      "Freq: D\n",
      "Data columns (total 8 columns):\n",
      " #   Column  Non-Null Count  Dtype        \n",
      "---  ------  --------------  -----        \n",
      " 0   A       6 non-null      int64        \n",
      " 1   B       6 non-null      datetime64[s]\n",
      " 2   C       0 non-null      float64      \n",
      " 3   D       6 non-null      int32        \n",
      " 4   E       6 non-null      category     \n",
      " 5   F       6 non-null      object       \n",
      " 6   G       6 non-null      float64      \n",
      " 7   H       0 non-null      object       \n",
      "dtypes: category(1), datetime64[s](1), float64(2), int32(1), int64(1), object(2)\n",
      "memory usage: 490.0+ bytes\n",
      "None\n",
      "\n",
      "Describe df6:\n",
      "              A                    B    C    D         G\n",
      "count  6.000000                    6  0.0  6.0  6.000000\n",
      "mean   3.500000  2024-01-02 00:00:00  NaN  3.0  3.850000\n",
      "min    1.000000  2024-01-02 00:00:00  NaN  3.0  1.100000\n",
      "25%    2.250000  2024-01-02 00:00:00  NaN  3.0  2.475000\n",
      "50%    3.500000  2024-01-02 00:00:00  NaN  3.0  3.850000\n",
      "75%    4.750000  2024-01-02 00:00:00  NaN  3.0  5.225000\n",
      "max    6.000000  2024-01-02 00:00:00  NaN  3.0  6.600000\n",
      "std    1.870829                  NaN  NaN  0.0  2.057912\n"
     ]
    }
   ],
   "source": [
    "\n",
    "# VIEWING DATA \n",
    "print(\"Head (first 3 rows) of df6:\")\n",
    "print(df6.head(3))\n",
    "print(\"\\nTail (last 2 rows) of df6:\")\n",
    "print(df6.tail(2))\n",
    "print(\"\\nInfo for df6:\")\n",
    "print(df6.info())\n",
    "print(\"\\nDescribe df6:\")\n",
    "print(df6.describe())"
   ]
  },
  {
   "cell_type": "code",
   "execution_count": 256,
   "id": "f5354ecd",
   "metadata": {},
   "outputs": [
    {
     "name": "stdout",
     "output_type": "stream",
     "text": [
      "\n",
      "Sample (random 3 rows) from df6:\n",
      "            A          B   C  D      E    F    G    H\n",
      "2024-01-01  1 2024-01-02 NaN  3   test  foo  1.1  NaN\n",
      "2024-01-04  4 2024-01-02 NaN  3  train  foo  4.4  NaN\n",
      "2024-01-02  2 2024-01-02 NaN  3  train  foo  2.2  NaN\n",
      "\n",
      "Value counts for categorical column E:\n",
      "E\n",
      "test     3\n",
      "train    3\n",
      "Name: count, dtype: int64\n",
      "\n",
      "Nunique (number of unique values) for each column:\n",
      "A    6\n",
      "B    1\n",
      "C    0\n",
      "D    1\n",
      "E    2\n",
      "F    1\n",
      "G    6\n",
      "H    0\n",
      "dtype: int64\n",
      "\n",
      "Memory usage of df6:\n",
      "Index     48\n",
      "A         48\n",
      "B         48\n",
      "C         48\n",
      "D         24\n",
      "E        221\n",
      "F        312\n",
      "G         48\n",
      "H        192\n",
      "dtype: int64\n",
      "\n",
      "Columns of df6:\n",
      "['A', 'B', 'C', 'D', 'E', 'F', 'G', 'H']\n",
      "\n",
      "Index of df6:\n",
      "DatetimeIndex(['2024-01-01', '2024-01-02', '2024-01-03', '2024-01-04',\n",
      "               '2024-01-05', '2024-01-06'],\n",
      "              dtype='datetime64[ns]', freq='D')\n",
      "\n",
      "Shape of df6:\n",
      "(6, 8)\n",
      "\n",
      "Size of df6:\n",
      "48\n"
     ]
    }
   ],
   "source": [
    "# Additional viewing methods\n",
    "print(\"\\nSample (random 3 rows) from df6:\")\n",
    "print(df6.sample(3))\n",
    "print(\"\\nValue counts for categorical column E:\")\n",
    "print(df6['E'].value_counts())\n",
    "print(\"\\nNunique (number of unique values) for each column:\")\n",
    "print(df6.nunique())\n",
    "print(\"\\nMemory usage of df6:\")\n",
    "print(df6.memory_usage(deep=True))\n",
    "print(\"\\nColumns of df6:\")\n",
    "print(df6.columns.tolist())\n",
    "print(\"\\nIndex of df6:\")\n",
    "print(df6.index)\n",
    "print(\"\\nShape of df6:\")\n",
    "print(df6.shape)\n",
    "print(\"\\nSize of df6:\")\n",
    "print(df6.size)\n"
   ]
  },
  {
   "cell_type": "code",
   "execution_count": 257,
   "id": "cdbbfb34",
   "metadata": {},
   "outputs": [
    {
     "name": "stdout",
     "output_type": "stream",
     "text": [
      "\n",
      "First valid index:\n",
      "2024-01-01 00:00:00\n",
      "\n",
      "Last valid index:\n",
      "2024-01-06 00:00:00\n",
      "\n",
      "Axes:\n",
      "[DatetimeIndex(['2024-01-01', '2024-01-02', '2024-01-03', '2024-01-04',\n",
      "               '2024-01-05', '2024-01-06'],\n",
      "              dtype='datetime64[ns]', freq='D'), Index(['A', 'B', 'C', 'D', 'E', 'F', 'G', 'H'], dtype='object')]\n",
      "\n",
      "Values (numpy array):\n",
      "[[1 Timestamp('2024-01-02 00:00:00') nan 3 'test' 'foo' 1.1 nan]\n",
      " [2 Timestamp('2024-01-02 00:00:00') nan 3 'train' 'foo' 2.2 nan]\n",
      " [3 Timestamp('2024-01-02 00:00:00') nan 3 'test' 'foo' 3.3 nan]\n",
      " [4 Timestamp('2024-01-02 00:00:00') nan 3 'train' 'foo' 4.4 nan]\n",
      " [5 Timestamp('2024-01-02 00:00:00') nan 3 'test' 'foo' 5.5 nan]\n",
      " [6 Timestamp('2024-01-02 00:00:00') nan 3 'train' 'foo' 6.6 nan]]\n",
      "\n",
      "T (transpose):\n",
      "            2024-01-01           2024-01-02           2024-01-03  \\\n",
      "A                    1                    2                    3   \n",
      "B  2024-01-02 00:00:00  2024-01-02 00:00:00  2024-01-02 00:00:00   \n",
      "C                  NaN                  NaN                  NaN   \n",
      "D                    3                    3                    3   \n",
      "E                 test                train                 test   \n",
      "F                  foo                  foo                  foo   \n",
      "G                  1.1                  2.2                  3.3   \n",
      "H                  NaN                  NaN                  NaN   \n",
      "\n",
      "            2024-01-04           2024-01-05           2024-01-06  \n",
      "A                    4                    5                    6  \n",
      "B  2024-01-02 00:00:00  2024-01-02 00:00:00  2024-01-02 00:00:00  \n",
      "C                  NaN                  NaN                  NaN  \n",
      "D                    3                    3                    3  \n",
      "E                train                 test                train  \n",
      "F                  foo                  foo                  foo  \n",
      "G                  4.4                  5.5                  6.6  \n",
      "H                  NaN                  NaN                  NaN  \n",
      "\n"
     ]
    }
   ],
   "source": [
    "# Additional viewing methods\n",
    "print(\"\\nFirst valid index:\")\n",
    "print(df6.first_valid_index())\n",
    "print(\"\\nLast valid index:\")\n",
    "print(df6.last_valid_index())\n",
    "print(\"\\nAxes:\")\n",
    "print(df6.axes)\n",
    "print(\"\\nValues (numpy array):\")\n",
    "print(df6.values)\n",
    "print(\"\\nT (transpose):\")\n",
    "print(df6.T)\n",
    "print()\n"
   ]
  },
  {
   "cell_type": "code",
   "execution_count": 258,
   "id": "d2f44e21",
   "metadata": {},
   "outputs": [
    {
     "name": "stdout",
     "output_type": "stream",
     "text": [
      "Select column 'A' from df6:\n",
      "2024-01-01    1\n",
      "2024-01-02    2\n",
      "2024-01-03    3\n",
      "2024-01-04    4\n",
      "2024-01-05    5\n",
      "2024-01-06    6\n",
      "Freq: D, Name: A, dtype: int64\n",
      "\n",
      "Select multiple columns from df6:\n",
      "            A   C\n",
      "2024-01-01  1 NaN\n",
      "2024-01-02  2 NaN\n",
      "2024-01-03  3 NaN\n",
      "2024-01-04  4 NaN\n",
      "2024-01-05  5 NaN\n",
      "2024-01-06  6 NaN\n"
     ]
    }
   ],
   "source": [
    "# Column selection\n",
    "print(\"Select column 'A' from df6:\")\n",
    "print(df6['A'])\n",
    "print(\"\\nSelect multiple columns from df6:\")\n",
    "print(df6[['A', 'C']])\n"
   ]
  },
  {
   "cell_type": "code",
   "execution_count": 259,
   "id": "b856d7d9",
   "metadata": {},
   "outputs": [
    {
     "name": "stdout",
     "output_type": "stream",
     "text": [
      "\n",
      "Select by label (first row) from df6:\n",
      "A                      1\n",
      "B    2024-01-02 00:00:00\n",
      "C                    NaN\n",
      "D                      3\n",
      "E                   test\n",
      "F                    foo\n",
      "G                    1.1\n",
      "H                    NaN\n",
      "Name: 2024-01-01 00:00:00, dtype: object\n"
     ]
    }
   ],
   "source": [
    "# Row selection by label\n",
    "print(\"\\nSelect by label (first row) from df6:\")\n",
    "print(df6.loc[dates[0]])"
   ]
  },
  {
   "cell_type": "code",
   "execution_count": 260,
   "id": "f45fba16",
   "metadata": {},
   "outputs": [
    {
     "name": "stdout",
     "output_type": "stream",
     "text": [
      "\n",
      "Select by position (rows 0-2, columns 0-2) from df6:\n",
      "            A          B   C\n",
      "2024-01-01  1 2024-01-02 NaN\n",
      "2024-01-02  2 2024-01-02 NaN\n",
      "2024-01-03  3 2024-01-02 NaN\n"
     ]
    }
   ],
   "source": [
    "# Row selection by position\n",
    "print(\"\\nSelect by position (rows 0-2, columns 0-2) from df6:\")\n",
    "print(df6.iloc[0:3, 0:3])\n"
   ]
  },
  {
   "cell_type": "code",
   "execution_count": 261,
   "id": "72f7c6c0",
   "metadata": {},
   "outputs": [
    {
     "name": "stdout",
     "output_type": "stream",
     "text": [
      "\n",
      "Boolean indexing (A > 3) from df6:\n",
      "            A          B   C  D      E    F    G    H\n",
      "2024-01-04  4 2024-01-02 NaN  3  train  foo  4.4  NaN\n",
      "2024-01-05  5 2024-01-02 NaN  3   test  foo  5.5  NaN\n",
      "2024-01-06  6 2024-01-02 NaN  3  train  foo  6.6  NaN\n"
     ]
    }
   ],
   "source": [
    "# Boolean indexing\n",
    "print(\"\\nBoolean indexing (A > 3) from df6:\")\n",
    "print(df6[df6['A'] > 3])\n"
   ]
  },
  {
   "cell_type": "code",
   "execution_count": 262,
   "id": "563a5d18",
   "metadata": {},
   "outputs": [
    {
     "name": "stdout",
     "output_type": "stream",
     "text": [
      "\n",
      "Using isin on df6:\n",
      "            A          B   C  D     E    F    G    H\n",
      "2024-01-01  1 2024-01-02 NaN  3  test  foo  1.1  NaN\n",
      "2024-01-03  3 2024-01-02 NaN  3  test  foo  3.3  NaN\n",
      "2024-01-05  5 2024-01-02 NaN  3  test  foo  5.5  NaN\n",
      "\n",
      "Using where method on df6:\n",
      "              A          B   C    D      E    F    G    H\n",
      "2024-01-01  NaN        NaT NaN  NaN    NaN  NaN  NaN  NaN\n",
      "2024-01-02  NaN        NaT NaN  NaN    NaN  NaN  NaN  NaN\n",
      "2024-01-03  NaN        NaT NaN  NaN    NaN  NaN  NaN  NaN\n",
      "2024-01-04  4.0 2024-01-02 NaN  3.0  train  foo  4.4  NaN\n",
      "2024-01-05  5.0 2024-01-02 NaN  3.0   test  foo  5.5  NaN\n",
      "2024-01-06  6.0 2024-01-02 NaN  3.0  train  foo  6.6  NaN\n",
      "\n",
      "Using mask method on df6:\n",
      "              A          B   C    D      E    F    G    H\n",
      "2024-01-01  NaN        NaT NaN  NaN    NaN  NaN  NaN  NaN\n",
      "2024-01-02  NaN        NaT NaN  NaN    NaN  NaN  NaN  NaN\n",
      "2024-01-03  NaN        NaT NaN  NaN    NaN  NaN  NaN  NaN\n",
      "2024-01-04  4.0 2024-01-02 NaN  3.0  train  foo  4.4  NaN\n",
      "2024-01-05  5.0 2024-01-02 NaN  3.0   test  foo  5.5  NaN\n",
      "2024-01-06  6.0 2024-01-02 NaN  3.0  train  foo  6.6  NaN\n",
      "\n",
      "Fast scalar access with at: 1\n",
      "Fast scalar access with iat: 1\n",
      "\n",
      "Get method: 2024-01-01    1\n",
      "2024-01-02    2\n",
      "2024-01-03    3\n",
      "2024-01-04    4\n",
      "2024-01-05    5\n",
      "2024-01-06    6\n",
      "Freq: D, Name: A, dtype: int64\n",
      "\n",
      "Fancy indexing with list of positions:\n",
      "            A          B   C  D     E    F    G    H\n",
      "2024-01-01  1 2024-01-02 NaN  3  test  foo  1.1  NaN\n",
      "2024-01-03  3 2024-01-02 NaN  3  test  foo  3.3  NaN\n",
      "2024-01-05  5 2024-01-02 NaN  3  test  foo  5.5  NaN\n",
      "\n",
      "Multiple conditions (A > 2) & (G < 5.0):\n",
      "            A          B   C  D      E    F    G    H\n",
      "2024-01-03  3 2024-01-02 NaN  3   test  foo  3.3  NaN\n",
      "2024-01-04  4 2024-01-02 NaN  3  train  foo  4.4  NaN\n",
      "\n",
      "Using query method:\n",
      "            A          B   C  D      E    F    G    H\n",
      "2024-01-03  3 2024-01-02 NaN  3   test  foo  3.3  NaN\n",
      "2024-01-04  4 2024-01-02 NaN  3  train  foo  4.4  NaN\n",
      "\n",
      "Filter columns containing 'A' or 'G':\n",
      "            A    G\n",
      "2024-01-01  1  1.1\n",
      "2024-01-02  2  2.2\n",
      "2024-01-03  3  3.3\n",
      "2024-01-04  4  4.4\n",
      "2024-01-05  5  5.5\n",
      "2024-01-06  6  6.6\n",
      "\n",
      "Select only numeric columns:\n",
      "            A   C  D    G\n",
      "2024-01-01  1 NaN  3  1.1\n",
      "2024-01-02  2 NaN  3  2.2\n",
      "2024-01-03  3 NaN  3  3.3\n",
      "2024-01-04  4 NaN  3  4.4\n",
      "2024-01-05  5 NaN  3  5.5\n",
      "2024-01-06  6 NaN  3  6.6\n",
      "\n",
      "Select only object columns:\n",
      "              F    H\n",
      "2024-01-01  foo  NaN\n",
      "2024-01-02  foo  NaN\n",
      "2024-01-03  foo  NaN\n",
      "2024-01-04  foo  NaN\n",
      "2024-01-05  foo  NaN\n",
      "2024-01-06  foo  NaN\n",
      "            A          B   C  D      E    F    G    H\n",
      "2024-01-03  3 2024-01-02 NaN  3   test  foo  3.3  NaN\n",
      "2024-01-04  4 2024-01-02 NaN  3  train  foo  4.4  NaN\n",
      "\n",
      "Filter columns containing 'A' or 'G':\n",
      "            A    G\n",
      "2024-01-01  1  1.1\n",
      "2024-01-02  2  2.2\n",
      "2024-01-03  3  3.3\n",
      "2024-01-04  4  4.4\n",
      "2024-01-05  5  5.5\n",
      "2024-01-06  6  6.6\n",
      "\n",
      "Select only numeric columns:\n",
      "            A   C  D    G\n",
      "2024-01-01  1 NaN  3  1.1\n",
      "2024-01-02  2 NaN  3  2.2\n",
      "2024-01-03  3 NaN  3  3.3\n",
      "2024-01-04  4 NaN  3  4.4\n",
      "2024-01-05  5 NaN  3  5.5\n",
      "2024-01-06  6 NaN  3  6.6\n",
      "\n",
      "Select only object columns:\n",
      "              F    H\n",
      "2024-01-01  foo  NaN\n",
      "2024-01-02  foo  NaN\n",
      "2024-01-03  foo  NaN\n",
      "2024-01-04  foo  NaN\n",
      "2024-01-05  foo  NaN\n",
      "2024-01-06  foo  NaN\n"
     ]
    }
   ],
   "source": [
    "# Additional selection methods\n",
    "print(\"\\nUsing isin on df6:\")\n",
    "print(df6[df6['E'].isin(['test'])])\n",
    "print(\"\\nUsing where method on df6:\")\n",
    "print(df6.where(df6['A'] > 3))\n",
    "print(\"\\nUsing mask method on df6:\")\n",
    "print(df6.mask(df6['A'] <= 3))\n",
    "print(f\"\\nFast scalar access with at: {df6.at[dates[0], 'A']}\")\n",
    "print(f\"Fast scalar access with iat: {df6.iat[0, 0]}\")\n",
    "print(f\"\\nGet method: {df6.get('A', 'Not found')}\")\n",
    "print(\"\\nFancy indexing with list of positions:\")\n",
    "print(df6.iloc[[0, 2, 4]])\n",
    "print(\"\\nMultiple conditions (A > 2) & (G < 5.0):\")\n",
    "print(df6[(df6['A'] > 2) & (df6['G'] < 5.0)])\n",
    "print(\"\\nUsing query method:\")\n",
    "print(df6.query('A > 2 and G < 5.0'))\n",
    "print(\"\\nFilter columns containing 'A' or 'G':\")\n",
    "print(df6.filter(regex='[AG]'))\n",
    "print(\"\\nSelect only numeric columns:\")\n",
    "print(df6.select_dtypes(include=[np.number]))\n",
    "print(\"\\nSelect only object columns:\")\n",
    "print(df6.select_dtypes(include=['object']))\n"
   ]
  },
  {
   "cell_type": "code",
   "execution_count": 263,
   "id": "6dba7699",
   "metadata": {},
   "outputs": [
    {
     "name": "stdout",
     "output_type": "stream",
     "text": [
      "\n",
      "Using between method:\n",
      "            A          B   C  D      E    F    G    H\n",
      "2024-01-02  2 2024-01-02 NaN  3  train  foo  2.2  NaN\n",
      "2024-01-03  3 2024-01-02 NaN  3   test  foo  3.3  NaN\n",
      "2024-01-04  4 2024-01-02 NaN  3  train  foo  4.4  NaN\n",
      "\n",
      "Using nlargest:\n",
      "            A          B   C  D      E    F    G    H\n",
      "2024-01-06  6 2024-01-02 NaN  3  train  foo  6.6  NaN\n",
      "2024-01-05  5 2024-01-02 NaN  3   test  foo  5.5  NaN\n",
      "2024-01-04  4 2024-01-02 NaN  3  train  foo  4.4  NaN\n",
      "\n",
      "Using nsmallest:\n",
      "            A          B   C  D      E    F    G    H\n",
      "2024-01-01  1 2024-01-02 NaN  3   test  foo  1.1  NaN\n",
      "2024-01-02  2 2024-01-02 NaN  3  train  foo  2.2  NaN\n",
      "2024-01-03  3 2024-01-02 NaN  3   test  foo  3.3  NaN\n",
      "\n",
      "Using idxmax:\n",
      "A   2024-01-06\n",
      "B   2024-01-01\n",
      "C          NaT\n",
      "D   2024-01-01\n",
      "E   2024-01-02\n",
      "F   2024-01-01\n",
      "G   2024-01-06\n",
      "H          NaT\n",
      "dtype: datetime64[ns]\n",
      "\n",
      "Using idxmin:\n",
      "A   2024-01-01\n",
      "B   2024-01-01\n",
      "C          NaT\n",
      "D   2024-01-01\n",
      "E   2024-01-01\n",
      "F   2024-01-01\n",
      "G   2024-01-01\n",
      "H          NaT\n",
      "dtype: datetime64[ns]\n",
      "\n"
     ]
    }
   ],
   "source": [
    "\n",
    "\n",
    "# Additional selection methods\n",
    "print(\"\\nUsing between method:\")\n",
    "print(df6[df6['A'].between(2, 4)])\n",
    "print(\"\\nUsing nlargest:\")\n",
    "print(df6.nlargest(3, 'A'))\n",
    "print(\"\\nUsing nsmallest:\")\n",
    "print(df6.nsmallest(3, 'G'))\n",
    "print(\"\\nUsing idxmax:\")\n",
    "print(df6.idxmax())\n",
    "print(\"\\nUsing idxmin:\")\n",
    "print(df6.idxmin())\n",
    "print()"
   ]
  },
  {
   "cell_type": "code",
   "execution_count": 264,
   "id": "83064124",
   "metadata": {},
   "outputs": [
    {
     "name": "stdout",
     "output_type": "stream",
     "text": [
      "df6 with missing data:\n",
      "              A          B   C  D      E    F    G    H\n",
      "2024-01-01  1.0 2024-01-02 NaN  3   test  foo  1.1  NaN\n",
      "2024-01-02  NaN 2024-01-02 NaN  3  train  foo  2.2  NaN\n",
      "2024-01-03  3.0 2024-01-02 NaN  3   test  foo  NaN  NaN\n",
      "2024-01-04  4.0 2024-01-02 NaN  3  train  foo  4.4  NaN\n",
      "2024-01-05  5.0 2024-01-02 NaN  3   test  foo  5.5  NaN\n",
      "2024-01-06  6.0 2024-01-02 NaN  3  train  foo  6.6  NaN\n",
      "                A      B     C      D      E      F      G     H\n",
      "2024-01-01  False  False  True  False  False  False  False  True\n",
      "2024-01-02   True  False  True  False  False  False  False  True\n",
      "2024-01-03  False  False  True  False  False  False   True  True\n",
      "2024-01-04  False  False  True  False  False  False  False  True\n",
      "2024-01-05  False  False  True  False  False  False  False  True\n",
      "2024-01-06  False  False  True  False  False  False  False  True\n"
     ]
    }
   ],
   "source": [
    "# Create DataFrame with missing data\n",
    "df6_missing = df6.copy()\n",
    "df6_missing.loc[dates[1], 'A'] = np.nan\n",
    "df6_missing.loc[dates[2], 'G'] = np.nan\n",
    "df6_missing.loc[dates[3], 'C'] = np.nan\n",
    "\n",
    "print(\"df6 with missing data:\")\n",
    "print(df6_missing)\n",
    "# Check if the DataFrame is missing any data\n",
    "print(df6_missing.isnull())"
   ]
  },
  {
   "cell_type": "code",
   "execution_count": 265,
   "id": "0937867d",
   "metadata": {},
   "outputs": [
    {
     "name": "stdout",
     "output_type": "stream",
     "text": [
      "\n",
      "Drop rows with any missing data:\n",
      "Empty DataFrame\n",
      "Columns: [A, B, C, D, E, F, G, H]\n",
      "Index: []\n",
      "\n",
      "Drop rows with all missing data:\n",
      "              A          B   C  D      E    F    G    H\n",
      "2024-01-01  1.0 2024-01-02 NaN  3   test  foo  1.1  NaN\n",
      "2024-01-02  NaN 2024-01-02 NaN  3  train  foo  2.2  NaN\n",
      "2024-01-03  3.0 2024-01-02 NaN  3   test  foo  NaN  NaN\n",
      "2024-01-04  4.0 2024-01-02 NaN  3  train  foo  4.4  NaN\n",
      "2024-01-05  5.0 2024-01-02 NaN  3   test  foo  5.5  NaN\n",
      "2024-01-06  6.0 2024-01-02 NaN  3  train  foo  6.6  NaN\n",
      "\n",
      "Drop columns with any missing data:\n",
      "                    B  D      E    F\n",
      "2024-01-01 2024-01-02  3   test  foo\n",
      "2024-01-02 2024-01-02  3  train  foo\n",
      "2024-01-03 2024-01-02  3   test  foo\n",
      "2024-01-04 2024-01-02  3  train  foo\n",
      "2024-01-05 2024-01-02  3   test  foo\n",
      "2024-01-06 2024-01-02  3  train  foo\n",
      "\n",
      "Drop rows with missing data in specific columns:\n",
      "              A          B   C  D      E    F    G    H\n",
      "2024-01-01  1.0 2024-01-02 NaN  3   test  foo  1.1  NaN\n",
      "2024-01-04  4.0 2024-01-02 NaN  3  train  foo  4.4  NaN\n",
      "2024-01-05  5.0 2024-01-02 NaN  3   test  foo  5.5  NaN\n",
      "2024-01-06  6.0 2024-01-02 NaN  3  train  foo  6.6  NaN\n"
     ]
    }
   ],
   "source": [
    "# Comprehensive missing data handling\n",
    "print(\"\\nDrop rows with any missing data:\")\n",
    "print(df6_missing.dropna())\n",
    "print(\"\\nDrop rows with all missing data:\")\n",
    "print(df6_missing.dropna(how='all'))\n",
    "print(\"\\nDrop columns with any missing data:\")\n",
    "print(df6_missing.dropna(axis=1))\n",
    "print(\"\\nDrop rows with missing data in specific columns:\")\n",
    "print(df6_missing.dropna(subset=['A', 'G']))\n",
    "# print(\"\\nFill missing data with 0:\")\n",
    "# print(df6_missing.fillna(0))"
   ]
  },
  {
   "cell_type": "code",
   "execution_count": 266,
   "id": "a2684943",
   "metadata": {},
   "outputs": [
    {
     "name": "stdout",
     "output_type": "stream",
     "text": [
      "\n",
      "Forward fill:\n",
      "              A          B   C  D      E    F    G   H\n",
      "2024-01-01  1.0 2024-01-02 NaN  3   test  foo  1.1 NaN\n",
      "2024-01-02  1.0 2024-01-02 NaN  3  train  foo  2.2 NaN\n",
      "2024-01-03  3.0 2024-01-02 NaN  3   test  foo  2.2 NaN\n",
      "2024-01-04  4.0 2024-01-02 NaN  3  train  foo  4.4 NaN\n",
      "2024-01-05  5.0 2024-01-02 NaN  3   test  foo  5.5 NaN\n",
      "2024-01-06  6.0 2024-01-02 NaN  3  train  foo  6.6 NaN\n",
      "\n",
      "Backward fill:\n",
      "              A          B   C  D      E    F    G   H\n",
      "2024-01-01  1.0 2024-01-02 NaN  3   test  foo  1.1 NaN\n",
      "2024-01-02  3.0 2024-01-02 NaN  3  train  foo  2.2 NaN\n",
      "2024-01-03  3.0 2024-01-02 NaN  3   test  foo  4.4 NaN\n",
      "2024-01-04  4.0 2024-01-02 NaN  3  train  foo  4.4 NaN\n",
      "2024-01-05  5.0 2024-01-02 NaN  3   test  foo  5.5 NaN\n",
      "2024-01-06  6.0 2024-01-02 NaN  3  train  foo  6.6 NaN\n",
      "\n",
      "Fill with column mean:\n",
      "              A          B   C  D      E    F     G    H\n",
      "2024-01-01  1.0 2024-01-02 NaN  3   test  foo  1.10  NaN\n",
      "2024-01-02  3.8 2024-01-02 NaN  3  train  foo  2.20  NaN\n",
      "2024-01-03  3.0 2024-01-02 NaN  3   test  foo  3.96  NaN\n",
      "2024-01-04  4.0 2024-01-02 NaN  3  train  foo  4.40  NaN\n",
      "2024-01-05  5.0 2024-01-02 NaN  3   test  foo  5.50  NaN\n",
      "2024-01-06  6.0 2024-01-02 NaN  3  train  foo  6.60  NaN\n"
     ]
    }
   ],
   "source": [
    "# Fixed deprecated fillna method parameter\n",
    "print(\"\\nForward fill:\")\n",
    "print(df6_missing.ffill())\n",
    "print(\"\\nBackward fill:\")\n",
    "print(df6_missing.bfill())\n",
    "\n",
    "print(\"\\nFill with column mean:\")\n",
    "print(df6_missing.fillna(df6_missing.mean(numeric_only=True)))\n"
   ]
  },
  {
   "cell_type": "code",
   "execution_count": 267,
   "id": "2e93ca35",
   "metadata": {},
   "outputs": [
    {
     "name": "stdout",
     "output_type": "stream",
     "text": [
      "\n",
      "Fill with different values for different columns:\n",
      "                A          B    C  D      E    F    G    H\n",
      "2024-01-01    1.0 2024-01-02  0.0  3   test  foo  1.1  NaN\n",
      "2024-01-02  999.0 2024-01-02  0.0  3  train  foo  2.2  NaN\n",
      "2024-01-03    3.0 2024-01-02  0.0  3   test  foo -1.0  NaN\n",
      "2024-01-04    4.0 2024-01-02  0.0  3  train  foo  4.4  NaN\n",
      "2024-01-05    5.0 2024-01-02  0.0  3   test  foo  5.5  NaN\n",
      "2024-01-06    6.0 2024-01-02  0.0  3  train  foo  6.6  NaN\n",
      "\n",
      "Check for missing data (isna):\n",
      "                A      B     C      D      E      F      G     H\n",
      "2024-01-01  False  False  True  False  False  False  False  True\n",
      "2024-01-02   True  False  True  False  False  False  False  True\n",
      "2024-01-03  False  False  True  False  False  False   True  True\n",
      "2024-01-04  False  False  True  False  False  False  False  True\n",
      "2024-01-05  False  False  True  False  False  False  False  True\n",
      "2024-01-06  False  False  True  False  False  False  False  True\n",
      "\n",
      "Sum of missing values per column:\n",
      "A    1\n",
      "B    0\n",
      "C    6\n",
      "D    0\n",
      "E    0\n",
      "F    0\n",
      "G    1\n",
      "H    6\n",
      "dtype: int64\n",
      "\n",
      "Check for not missing data (notna):\n",
      "A    5\n",
      "B    6\n",
      "C    0\n",
      "D    6\n",
      "E    6\n",
      "F    6\n",
      "G    5\n",
      "H    0\n",
      "dtype: int64\n",
      "\n",
      "Replace specific values:\n",
      "              A          B   C  D      E    F    G   H\n",
      "2024-01-01  999 2024-01-02 NaN  3   test  bar  1.1 NaN\n",
      "2024-01-02    2 2024-01-02 NaN  3  train  bar  2.2 NaN\n",
      "2024-01-03    3 2024-01-02 NaN  3   test  bar  3.3 NaN\n",
      "2024-01-04    4 2024-01-02 NaN  3  train  bar  4.4 NaN\n",
      "2024-01-05    5 2024-01-02 NaN  3   test  bar  5.5 NaN\n",
      "2024-01-06    6 2024-01-02 NaN  3  train  bar  6.6 NaN\n"
     ]
    }
   ],
   "source": [
    "fill_values = {'A': 999, 'G': -1, 'C': 0}\n",
    "print(\"\\nFill with different values for different columns:\")\n",
    "print(df6_missing.fillna(value=fill_values))\n",
    "# print(\"\\nInterpolate missing values:\")\n",
    "# print(df6_missing.interpolate())\n",
    "print(\"\\nCheck for missing data (isna):\")\n",
    "print(df6_missing.isna())\n",
    "print(\"\\nSum of missing values per column:\")\n",
    "print(df6_missing.isna().sum())\n",
    "print(\"\\nCheck for not missing data (notna):\")\n",
    "print(df6_missing.notna().sum())\n",
    "print(\"\\nReplace specific values:\")\n",
    "print(df6.replace({'foo': 'bar', 1: 999}))"
   ]
  },
  {
   "cell_type": "code",
   "execution_count": 268,
   "id": "eded7f69",
   "metadata": {},
   "outputs": [
    {
     "name": "stdout",
     "output_type": "stream",
     "text": [
      "\n",
      "First valid index for each column:\n",
      "2024-01-01 00:00:00\n",
      "\n",
      "Last valid index for each column:\n",
      "2024-01-06 00:00:00\n"
     ]
    }
   ],
   "source": [
    "# Additional missing data methods\n",
    "print(\"\\nFirst valid index for each column:\")\n",
    "print(df6_missing.first_valid_index())\n",
    "print(\"\\nLast valid index for each column:\")\n",
    "print(df6_missing.last_valid_index())\n",
    "# print(\"\\nInterpolate with different methods:\")\n",
    "# print(df6_missing.interpolate(method='linear'))\n",
    "# print()"
   ]
  },
  {
   "cell_type": "code",
   "execution_count": 269,
   "id": "1cbd2db1",
   "metadata": {},
   "outputs": [
    {
     "name": "stdout",
     "output_type": "stream",
     "text": [
      "Comprehensive statistics for df6:\n",
      "Mean of numeric columns:\n",
      "A    3.50\n",
      "C     NaN\n",
      "D    3.00\n",
      "G    3.85\n",
      "dtype: float64\n",
      "\n",
      "Median:\n",
      "A    3.50\n",
      "C     NaN\n",
      "D    3.00\n",
      "G    3.85\n",
      "dtype: float64\n",
      "\n",
      "Mode:\n",
      "   A          B   C    D      E    F    G    H\n",
      "0  1 2024-01-02 NaN  3.0   test  foo  1.1  NaN\n",
      "1  2        NaT NaN  NaN  train  NaN  2.2  NaN\n",
      "2  3        NaT NaN  NaN    NaN  NaN  3.3  NaN\n",
      "3  4        NaT NaN  NaN    NaN  NaN  4.4  NaN\n",
      "4  5        NaT NaN  NaN    NaN  NaN  5.5  NaN\n",
      "5  6        NaT NaN  NaN    NaN  NaN  6.6  NaN\n",
      "\n",
      "Standard deviation:\n",
      "A    1.870829\n",
      "C         NaN\n",
      "D    0.000000\n",
      "G    2.057912\n",
      "dtype: float64\n",
      "\n",
      "Variance:\n",
      "A    3.500\n",
      "C      NaN\n",
      "D    0.000\n",
      "G    4.235\n",
      "dtype: float64\n",
      "\n",
      "Minimum:\n",
      "A    1.0\n",
      "C    NaN\n",
      "D    3.0\n",
      "G    1.1\n",
      "dtype: float64\n",
      "\n",
      "Maximum:\n",
      "A    6.0\n",
      "C    NaN\n",
      "D    3.0\n",
      "G    6.6\n",
      "dtype: float64\n",
      "\n",
      "Sum:\n",
      "A    21.0\n",
      "C     0.0\n",
      "D    18.0\n",
      "G    23.1\n",
      "dtype: float64\n",
      "\n",
      "Product:\n",
      "A     720.00000\n",
      "C       1.00000\n",
      "D     729.00000\n",
      "G    1275.52392\n",
      "dtype: float64\n",
      "\n",
      "Quantiles:\n",
      "         A   C    D      G\n",
      "0.25  2.25 NaN  3.0  2.475\n",
      "0.50  3.50 NaN  3.0  3.850\n",
      "0.75  4.75 NaN  3.0  5.225\n",
      "\n",
      "Correlation matrix:\n",
      "     A   C   D    G\n",
      "A  1.0 NaN NaN  1.0\n",
      "C  NaN NaN NaN  NaN\n",
      "D  NaN NaN NaN  NaN\n",
      "G  1.0 NaN NaN  1.0\n",
      "\n",
      "Covariance matrix:\n",
      "      A   C    D      G\n",
      "A  3.50 NaN  0.0  3.850\n",
      "C   NaN NaN  NaN    NaN\n",
      "D  0.00 NaN  0.0  0.000\n",
      "G  3.85 NaN  0.0  4.235\n"
     ]
    }
   ],
   "source": [
    "\n",
    "# Comprehensive statistics\n",
    "print(\"Comprehensive statistics for df6:\")\n",
    "print(\"Mean of numeric columns:\")\n",
    "print(df6.mean(numeric_only=True))\n",
    "print(\"\\nMedian:\")\n",
    "print(df6.median(numeric_only=True))\n",
    "print(\"\\nMode:\")\n",
    "print(df6.mode())\n",
    "print(\"\\nStandard deviation:\")\n",
    "print(df6.std(numeric_only=True))\n",
    "print(\"\\nVariance:\")\n",
    "print(df6.var(numeric_only=True))\n",
    "print(\"\\nMinimum:\")\n",
    "print(df6.min(numeric_only=True))\n",
    "print(\"\\nMaximum:\")\n",
    "print(df6.max(numeric_only=True))\n",
    "print(\"\\nSum:\")\n",
    "print(df6.sum(numeric_only=True))\n",
    "print(\"\\nProduct:\")\n",
    "print(df6.prod(numeric_only=True))\n",
    "print(\"\\nQuantiles:\")\n",
    "print(df6.quantile([0.25, 0.5, 0.75], numeric_only=True))\n",
    "print(\"\\nCorrelation matrix:\")\n",
    "print(df6.corr(numeric_only=True))\n",
    "print(\"\\nCovariance matrix:\")\n",
    "print(df6.cov(numeric_only=True))\n",
    "\n"
   ]
  },
  {
   "cell_type": "code",
   "execution_count": 270,
   "id": "904d336f",
   "metadata": {},
   "outputs": [
    {
     "name": "stdout",
     "output_type": "stream",
     "text": [
      "\n",
      "Skewness:\n",
      "A    0.000000e+00\n",
      "C             NaN\n",
      "D    0.000000e+00\n",
      "G   -3.668788e-16\n",
      "dtype: float64\n",
      "\n",
      "Kurtosis:\n",
      "A   -1.2\n",
      "C    NaN\n",
      "D    0.0\n",
      "G   -1.2\n",
      "dtype: float64\n",
      "\n",
      "Semantic mean (mean of mean):\n",
      "A    0.763763\n",
      "C         NaN\n",
      "D    0.000000\n",
      "G    0.840139\n",
      "dtype: float64\n"
     ]
    }
   ],
   "source": [
    "# Additional statistical methods\n",
    "print(\"\\nSkewness:\")\n",
    "print(df6.skew(numeric_only=True))\n",
    "print(\"\\nKurtosis:\")\n",
    "print(df6.kurtosis(numeric_only=True))\n",
    "print(\"\\nSemantic mean (mean of mean):\")\n",
    "print(df6.sem(numeric_only=True))\n",
    "# print(\"\\nMean absolute deviation:\")\n",
    "# print(df6.mad(numeric_only=True))\n",
    "\n"
   ]
  },
  {
   "cell_type": "code",
   "execution_count": 271,
   "id": "5e2999fe",
   "metadata": {},
   "outputs": [
    {
     "name": "stdout",
     "output_type": "stream",
     "text": [
      "\n",
      "Apply square function to column A:\n",
      "2024-01-01     1\n",
      "2024-01-02     4\n",
      "2024-01-03     9\n",
      "2024-01-04    16\n",
      "2024-01-05    25\n",
      "2024-01-06    36\n",
      "Freq: D, Name: A, dtype: int64\n",
      "\n",
      "Apply function to entire DataFrame:\n",
      "A      5\n",
      "B    N/A\n",
      "C    NaN\n",
      "D    N/A\n",
      "E    N/A\n",
      "F    N/A\n",
      "G    5.5\n",
      "H    N/A\n",
      "dtype: object\n",
      "\n",
      "Apply along axis=1 (rows):\n",
      "2024-01-01     2.1\n",
      "2024-01-02     4.2\n",
      "2024-01-03     6.3\n",
      "2024-01-04     8.4\n",
      "2024-01-05    10.5\n",
      "2024-01-06    12.6\n",
      "Freq: D, dtype: float64\n"
     ]
    }
   ],
   "source": [
    "# Apply functions\n",
    "print(\"\\nApply square function to column A:\")\n",
    "print(df6['A'].apply(lambda x: x**2))\n",
    "print(\"\\nApply function to entire DataFrame:\")\n",
    "print(df6.apply(lambda x: x.max() - x.min() if x.dtype in ['int64', 'float64'] else 'N/A'))\n",
    "print(\"\\nApply along axis=1 (rows):\")\n",
    "print(df6.apply(lambda row: row['A'] + row['G'], axis=1))\n"
   ]
  },
  {
   "cell_type": "code",
   "execution_count": 272,
   "id": "2e5bd644",
   "metadata": {},
   "outputs": [
    {
     "name": "stdout",
     "output_type": "stream",
     "text": [
      "\n",
      "Map function on column E:\n",
      "2024-01-01     TEST\n",
      "2024-01-02    TRAIN\n",
      "2024-01-03     TEST\n",
      "2024-01-04    TRAIN\n",
      "2024-01-05     TEST\n",
      "2024-01-06    TRAIN\n",
      "Freq: D, Name: E, dtype: category\n",
      "Categories (2, object): ['TEST', 'TRAIN']\n",
      "\n",
      "Transform with multiple functions:\n",
      "                   A                G       \n",
      "                sqrt square      sqrt square\n",
      "2024-01-01  1.000000      1  1.048809   1.21\n",
      "2024-01-02  1.414214      4  1.483240   4.84\n",
      "2024-01-03  1.732051      9  1.816590  10.89\n",
      "2024-01-04  2.000000     16  2.097618  19.36\n",
      "2024-01-05  2.236068     25  2.345208  30.25\n",
      "2024-01-06  2.449490     36  2.569047  43.56\n"
     ]
    }
   ],
   "source": [
    "# Map and transform\n",
    "print(\"\\nMap function on column E:\")\n",
    "mapping = {'test': 'TEST', 'train': 'TRAIN'}\n",
    "print(df6['E'].map(mapping))\n",
    "print(\"\\nTransform with multiple functions:\")\n",
    "print(df6[['A', 'G']].transform(['sqrt', 'square']))"
   ]
  },
  {
   "cell_type": "code",
   "execution_count": 273,
   "id": "bc223d7d",
   "metadata": {},
   "outputs": [
    {
     "name": "stdout",
     "output_type": "stream",
     "text": [
      "\n",
      "Aggregation (multiple functions on column A):\n",
      "sum     21.000000\n",
      "min      1.000000\n",
      "max      6.000000\n",
      "mean     3.500000\n",
      "std      1.870829\n",
      "Name: A, dtype: float64\n",
      "\n",
      "Aggregation on multiple columns:\n",
      "         A    G\n",
      "sum   21.0  NaN\n",
      "mean   3.5  NaN\n",
      "min    NaN  1.1\n",
      "max    NaN  6.6\n"
     ]
    }
   ],
   "source": [
    "# Aggregation\n",
    "print(\"\\nAggregation (multiple functions on column A):\")\n",
    "print(df6['A'].agg(['sum', 'min', 'max', 'mean', 'std']))\n",
    "print(\"\\nAggregation on multiple columns:\")\n",
    "print(df6.agg({'A': ['sum', 'mean'], 'G': ['min', 'max']}))"
   ]
  },
  {
   "cell_type": "code",
   "execution_count": 274,
   "id": "e63ee3be",
   "metadata": {},
   "outputs": [
    {
     "name": "stdout",
     "output_type": "stream",
     "text": [
      "\n",
      "Cumulative sum:\n",
      "2024-01-01     1\n",
      "2024-01-02     3\n",
      "2024-01-03     6\n",
      "2024-01-04    10\n",
      "2024-01-05    15\n",
      "2024-01-06    21\n",
      "Freq: D, Name: A, dtype: int64\n",
      "\n",
      "Cumulative product:\n",
      "2024-01-01      1\n",
      "2024-01-02      2\n",
      "2024-01-03      6\n",
      "2024-01-04     24\n",
      "2024-01-05    120\n",
      "2024-01-06    720\n",
      "Freq: D, Name: A, dtype: int64\n",
      "\n",
      "Cumulative minimum:\n",
      "2024-01-01    1\n",
      "2024-01-02    1\n",
      "2024-01-03    1\n",
      "2024-01-04    1\n",
      "2024-01-05    1\n",
      "2024-01-06    1\n",
      "Freq: D, Name: A, dtype: int64\n",
      "\n",
      "Cumulative maximum:\n",
      "2024-01-01    1\n",
      "2024-01-02    2\n",
      "2024-01-03    3\n",
      "2024-01-04    4\n",
      "2024-01-05    5\n",
      "2024-01-06    6\n",
      "Freq: D, Name: A, dtype: int64\n",
      "\n",
      "Percent change:\n",
      "2024-01-01         NaN\n",
      "2024-01-02    1.000000\n",
      "2024-01-03    0.500000\n",
      "2024-01-04    0.333333\n",
      "2024-01-05    0.250000\n",
      "2024-01-06    0.200000\n",
      "Freq: D, Name: A, dtype: float64\n",
      "\n",
      "Rank:\n",
      "2024-01-01    1.0\n",
      "2024-01-02    2.0\n",
      "2024-01-03    3.0\n",
      "2024-01-04    4.0\n",
      "2024-01-05    5.0\n",
      "2024-01-06    6.0\n",
      "Freq: D, Name: A, dtype: float64\n",
      "\n",
      "Rank with different methods:\n",
      "2024-01-01    1.0\n",
      "2024-01-02    2.0\n",
      "2024-01-03    3.0\n",
      "2024-01-04    4.0\n",
      "2024-01-05    5.0\n",
      "2024-01-06    6.0\n",
      "Freq: D, Name: A, dtype: float64\n"
     ]
    }
   ],
   "source": [
    "# Window functions\n",
    "print(\"\\nCumulative sum:\")\n",
    "print(df6['A'].cumsum())\n",
    "print(\"\\nCumulative product:\")\n",
    "print(df6['A'].cumprod())\n",
    "print(\"\\nCumulative minimum:\")\n",
    "print(df6['A'].cummin())\n",
    "print(\"\\nCumulative maximum:\")\n",
    "print(df6['A'].cummax())\n",
    "print(\"\\nPercent change:\")\n",
    "print(df6['A'].pct_change())\n",
    "print(\"\\nRank:\")\n",
    "print(df6['A'].rank())\n",
    "print(\"\\nRank with different methods:\")\n",
    "print(df6['A'].rank(method='dense'))\n"
   ]
  },
  {
   "cell_type": "code",
   "execution_count": 275,
   "id": "4ff278c0",
   "metadata": {},
   "outputs": [
    {
     "name": "stdout",
     "output_type": "stream",
     "text": [
      "\n",
      "Shift forward by 1:\n",
      "2024-01-01    NaN\n",
      "2024-01-02    1.0\n",
      "2024-01-03    2.0\n",
      "2024-01-04    3.0\n",
      "2024-01-05    4.0\n",
      "2024-01-06    5.0\n",
      "Freq: D, Name: A, dtype: float64\n",
      "\n",
      "Shift backward by 1:\n",
      "2024-01-01    2.0\n",
      "2024-01-02    3.0\n",
      "2024-01-03    4.0\n",
      "2024-01-04    5.0\n",
      "2024-01-05    6.0\n",
      "2024-01-06    NaN\n",
      "Freq: D, Name: A, dtype: float64\n",
      "\n",
      "Difference:\n",
      "2024-01-01    NaN\n",
      "2024-01-02    1.0\n",
      "2024-01-03    1.0\n",
      "2024-01-04    1.0\n",
      "2024-01-05    1.0\n",
      "2024-01-06    1.0\n",
      "Freq: D, Name: A, dtype: float64\n"
     ]
    }
   ],
   "source": [
    "# Shift and diff operations\n",
    "print(\"\\nShift forward by 1:\")\n",
    "print(df6['A'].shift(1))\n",
    "print(\"\\nShift backward by 1:\")\n",
    "print(df6['A'].shift(-1))\n",
    "print(\"\\nDifference:\")\n",
    "print(df6['A'].diff())\n",
    "\n"
   ]
  },
  {
   "cell_type": "code",
   "execution_count": 276,
   "id": "8f58803b",
   "metadata": {},
   "outputs": [
    {
     "name": "stdout",
     "output_type": "stream",
     "text": [
      "\n",
      "Round:\n",
      "2024-01-01    1.1\n",
      "2024-01-02    2.2\n",
      "2024-01-03    3.3\n",
      "2024-01-04    4.4\n",
      "2024-01-05    5.5\n",
      "2024-01-06    6.6\n",
      "Freq: D, Name: G, dtype: float64\n",
      "\n",
      "Absolute values:\n",
      "2024-01-01    1\n",
      "2024-01-02    2\n",
      "2024-01-03    3\n",
      "2024-01-04    4\n",
      "2024-01-05    5\n",
      "2024-01-06    6\n",
      "Freq: D, Name: A, dtype: int64\n",
      "\n",
      "Clip values:\n",
      "2024-01-01    2\n",
      "2024-01-02    2\n",
      "2024-01-03    3\n",
      "2024-01-04    4\n",
      "2024-01-05    5\n",
      "2024-01-06    5\n",
      "Freq: D, Name: A, dtype: int64\n",
      "\n"
     ]
    }
   ],
   "source": [
    "# Additional operations\n",
    "print(\"\\nRound:\")\n",
    "print(df6['G'].round(1))\n",
    "print(\"\\nAbsolute values:\")\n",
    "print(df6['A'].abs())\n",
    "print(\"\\nClip values:\")\n",
    "print(df6['A'].clip(lower=2, upper=5))\n",
    "print()"
   ]
  },
  {
   "cell_type": "code",
   "execution_count": 277,
   "id": "bc892ce2",
   "metadata": {},
   "outputs": [
    {
     "name": "stdout",
     "output_type": "stream",
     "text": [
      "DataFrame df2:\n",
      "  key  val1\n",
      "0   A    10\n",
      "1   B    20\n",
      "2   C    30\n",
      "\n",
      "DataFrame df3:\n",
      "  key  val2\n",
      "0   A   100\n",
      "1   B   200\n",
      "2   D   400\n",
      "\n",
      "Inner merge:\n",
      "  key  val1  val2\n",
      "0   A    10   100\n",
      "1   B    20   200\n",
      "\n",
      "Left merge:\n",
      "  key  val1   val2\n",
      "0   A    10  100.0\n",
      "1   B    20  200.0\n",
      "2   C    30    NaN\n",
      "\n",
      "Right merge:\n",
      "  key  val1  val2\n",
      "0   A  10.0   100\n",
      "1   B  20.0   200\n",
      "2   D   NaN   400\n",
      "\n",
      "Outer merge:\n",
      "  key  val1   val2\n",
      "0   A  10.0  100.0\n",
      "1   B  20.0  200.0\n",
      "2   C  30.0    NaN\n",
      "3   D   NaN  400.0\n"
     ]
    }
   ],
   "source": [
    "print(\"DataFrame df2:\")\n",
    "print(df2)\n",
    "print(\"\\nDataFrame df3:\")\n",
    "print(df3)\n",
    "\n",
    "# Comprehensive merging\n",
    "print(\"\\nInner merge:\")\n",
    "print(pd.merge(df2, df3, on='key', how='inner'))\n",
    "print(\"\\nLeft merge:\")\n",
    "print(pd.merge(df2, df3, on='key', how='left'))\n",
    "print(\"\\nRight merge:\")\n",
    "print(pd.merge(df2, df3, on='key', how='right'))\n",
    "print(\"\\nOuter merge:\")\n",
    "print(pd.merge(df2, df3, on='key', how='outer'))\n",
    "\n",
    "\n",
    "\n"
   ]
  },
  {
   "cell_type": "code",
   "execution_count": 278,
   "id": "db73158b",
   "metadata": {},
   "outputs": [
    {
     "name": "stdout",
     "output_type": "stream",
     "text": [
      "\n",
      "Merge with different key names:\n",
      "  key1  value_left key2  value_right\n",
      "0    A           1    A           10\n",
      "1    B           2    B           20\n",
      "\n",
      "  key1  value_left key2  value_right\n",
      "0    A           1    A           10\n",
      "1    B           2    B           20\n"
     ]
    }
   ],
   "source": [
    "# Merge with different column names\n",
    "df_left = pd.DataFrame({'key1': ['A', 'B', 'C'], 'value_left': [1, 2, 3]})\n",
    "df_right = pd.DataFrame({'key2': ['A', 'B', 'D'], 'value_right': [10, 20, 40]})\n",
    "print(\"\\nMerge with different key names:\")\n",
    "print(pd.merge(df_left, df_right, left_on='key1', right_on='key2'))\n"
   ]
  },
  {
   "cell_type": "code",
   "execution_count": 279,
   "id": "f98dacd0",
   "metadata": {},
   "outputs": [
    {
     "name": "stdout",
     "output_type": "stream",
     "text": [
      "\n",
      "Merge on index:\n",
      "     val1  val2\n",
      "key            \n",
      "A      10   100\n",
      "B      20   200\n"
     ]
    }
   ],
   "source": [
    "# Merge on index\n",
    "df_idx1 = df2.set_index('key')\n",
    "df_idx2 = df3.set_index('key')\n",
    "print(\"\\nMerge on index:\")\n",
    "print(pd.merge(df_idx1, df_idx2, left_index=True, right_index=True))\n"
   ]
  },
  {
   "cell_type": "code",
   "execution_count": 280,
   "id": "1dc95c4e",
   "metadata": {},
   "outputs": [
    {
     "name": "stdout",
     "output_type": "stream",
     "text": [
      "\n",
      "Join operation (default left join):\n",
      "     val1   val2\n",
      "key             \n",
      "A      10  100.0\n",
      "B      20  200.0\n",
      "C      30    NaN\n",
      "\n",
      "Join with suffix:\n",
      "     val1   val2\n",
      "key             \n",
      "A      10  100.0\n",
      "B      20  200.0\n",
      "C      30    NaN\n"
     ]
    }
   ],
   "source": [
    "# Join operations\n",
    "print(\"\\nJoin operation (default left join):\")\n",
    "print(df_idx1.join(df_idx2))\n",
    "print(\"\\nJoin with suffix:\")\n",
    "print(df_idx1.join(df_idx2, rsuffix='_right'))\n"
   ]
  },
  {
   "cell_type": "code",
   "execution_count": 281,
   "id": "ec152236",
   "metadata": {},
   "outputs": [
    {
     "name": "stdout",
     "output_type": "stream",
     "text": [
      "\n",
      "Concatenate DataFrames vertically:\n",
      "  key  val1   val2\n",
      "0   A  10.0    NaN\n",
      "1   B  20.0    NaN\n",
      "2   C  30.0    NaN\n",
      "3   A   NaN  100.0\n",
      "4   B   NaN  200.0\n",
      "5   D   NaN  400.0\n",
      "\n",
      "Concatenate horizontally:\n",
      "      name  age product  price\n",
      "0    Alice   25       X    100\n",
      "1      Bob   30       Y    200\n",
      "2  Charlie   35       Z    300\n",
      "\n",
      "Concatenate with keys:\n",
      "      key  val1   val2\n",
      "df2 0   A  10.0    NaN\n",
      "    1   B  20.0    NaN\n",
      "    2   C  30.0    NaN\n",
      "df3 0   A   NaN  100.0\n",
      "    1   B   NaN  200.0\n",
      "    2   D   NaN  400.0\n"
     ]
    }
   ],
   "source": [
    "# Concatenate operations\n",
    "print(\"\\nConcatenate DataFrames vertically:\")\n",
    "print(pd.concat([df2, df3], ignore_index=True))\n",
    "print(\"\\nConcatenate horizontally:\")\n",
    "print(pd.concat([df4, df5], axis=1))\n",
    "print(\"\\nConcatenate with keys:\")\n",
    "print(pd.concat([df2, df3], keys=['df2', 'df3']))\n",
    "\n"
   ]
  },
  {
   "cell_type": "code",
   "execution_count": 282,
   "id": "05836c6e",
   "metadata": {},
   "outputs": [
    {
     "name": "stdout",
     "output_type": "stream",
     "text": [
      "\n",
      "Merge ordered (for time series):\n",
      "        date  value1  value2\n",
      "0 2024-01-01     1.0     NaN\n",
      "1 2024-01-02     2.0    10.0\n",
      "2 2024-01-03     3.0    20.0\n",
      "3 2024-01-04     NaN    30.0\n",
      "\n",
      "Merge asof (backward search):\n",
      "        date  value1  value2\n",
      "0 2024-01-01       1     NaN\n",
      "1 2024-01-02       2    10.0\n",
      "2 2024-01-03       3    20.0\n"
     ]
    }
   ],
   "source": [
    "# Advanced merge operations\n",
    "dates1 = pd.date_range('2024-01-01', periods=3)\n",
    "dates2 = pd.date_range('2024-01-02', periods=3)\n",
    "ts1 = pd.DataFrame({'date': dates1, 'value1': [1, 2, 3]})\n",
    "ts2 = pd.DataFrame({'date': dates2, 'value2': [10, 20, 30]})\n",
    "print(\"\\nMerge ordered (for time series):\")\n",
    "print(pd.merge_ordered(ts1, ts2, on='date'))\n",
    "print(\"\\nMerge asof (backward search):\")\n",
    "print(pd.merge_asof(ts1, ts2, on='date'))"
   ]
  },
  {
   "cell_type": "code",
   "execution_count": 283,
   "id": "cbe98f7f",
   "metadata": {},
   "outputs": [
    {
     "name": "stdout",
     "output_type": "stream",
     "text": [
      "\n",
      "Compare DataFrames:\n",
      "     A          B      \n",
      "  self other self other\n",
      "1  NaN   NaN  5.0   6.0\n",
      "2  3.0   4.0  NaN   NaN\n"
     ]
    }
   ],
   "source": [
    "# Compare DataFrames\n",
    "df_compare1 = pd.DataFrame({'A': [1, 2, 3], 'B': [4, 5, 6]})\n",
    "df_compare2 = pd.DataFrame({'A': [1, 2, 4], 'B': [4, 6, 6]})\n",
    "print(\"\\nCompare DataFrames:\")\n",
    "print(df_compare1.compare(df_compare2))\n",
    "\n"
   ]
  },
  {
   "cell_type": "code",
   "execution_count": 284,
   "id": "065cbf6b",
   "metadata": {},
   "outputs": [
    {
     "name": "stdout",
     "output_type": "stream",
     "text": [
      "\n",
      "Merge with indicator:\n",
      "  key  val1   val2      _merge\n",
      "0   A  10.0  100.0        both\n",
      "1   B  20.0  200.0        both\n",
      "2   C  30.0    NaN   left_only\n",
      "3   D   NaN  400.0  right_only\n",
      "\n",
      "Merge with validate:\n",
      "  key  val1   val2\n",
      "0   A    10  100.0\n",
      "1   B    20  200.0\n",
      "2   C    30    NaN\n",
      "\n"
     ]
    }
   ],
   "source": [
    "# Additional merge methods\n",
    "print(\"\\nMerge with indicator:\")\n",
    "print(pd.merge(df2, df3, on='key', how='outer', indicator=True))\n",
    "print(\"\\nMerge with validate:\")\n",
    "print(pd.merge(df2, df3, on='key', how='left', validate='one_to_one'))\n",
    "print()"
   ]
  },
  {
   "cell_type": "code",
   "execution_count": 285,
   "id": "5b629454",
   "metadata": {},
   "outputs": [
    {
     "name": "stdout",
     "output_type": "stream",
     "text": [
      "Group by category E in df6:\n",
      "\n",
      "Group test:\n",
      "            A          B   C  D     E    F    G    H\n",
      "2024-01-01  1 2024-01-02 NaN  3  test  foo  1.1  NaN\n",
      "2024-01-03  3 2024-01-02 NaN  3  test  foo  3.3  NaN\n",
      "2024-01-05  5 2024-01-02 NaN  3  test  foo  5.5  NaN\n",
      "\n",
      "Group train:\n",
      "            A          B   C  D      E    F    G    H\n",
      "2024-01-02  2 2024-01-02 NaN  3  train  foo  2.2  NaN\n",
      "2024-01-04  4 2024-01-02 NaN  3  train  foo  4.4  NaN\n",
      "2024-01-06  6 2024-01-02 NaN  3  train  foo  6.6  NaN\n",
      "\n",
      "Grouped aggregation on df6:\n",
      "E\n",
      "test      9\n",
      "train    12\n",
      "Name: A, dtype: int64\n"
     ]
    }
   ],
   "source": [
    "# Comprehensive grouping\n",
    "print(\"Group by category E in df6:\")\n",
    "grouped = df6.groupby('E')\n",
    "for name, group in grouped:\n",
    "    print(f\"\\nGroup {name}:\")\n",
    "    print(group)\n",
    "\n",
    "print(\"\\nGrouped aggregation on df6:\")\n",
    "print(df6.groupby('E')['A'].sum())\n"
   ]
  },
  {
   "cell_type": "code",
   "execution_count": 286,
   "id": "649338ef",
   "metadata": {},
   "outputs": [
    {
     "name": "stdout",
     "output_type": "stream",
     "text": [
      "\n",
      "Multiple aggregations by group:\n",
      "        A    G\n",
      "E             \n",
      "test    9  3.3\n",
      "train  12  4.4\n"
     ]
    }
   ],
   "source": [
    "# Multiple aggregations\n",
    "print(\"\\nMultiple aggregations by group:\")\n",
    "print(df6.groupby('E').agg({'A': 'sum', 'G': 'mean'}))\n"
   ]
  },
  {
   "cell_type": "code",
   "execution_count": 287,
   "id": "49b0f82c",
   "metadata": {},
   "outputs": [
    {
     "name": "stdout",
     "output_type": "stream",
     "text": [
      "\n",
      "Multi-column grouping:\n",
      "           C   D\n",
      "A   B           \n",
      "bar one    2  20\n",
      "    three  4  40\n",
      "    two    6  60\n",
      "foo one    1  10\n",
      "    two    8  80\n"
     ]
    }
   ],
   "source": [
    "# GroupBy with multiple columns\n",
    "df_multi_group = pd.DataFrame({\n",
    "    'A': ['foo', 'bar', 'foo', 'bar', 'foo', 'bar'],\n",
    "    'B': ['one', 'one', 'two', 'three', 'two', 'two'],\n",
    "    'C': [1, 2, 3, 4, 5, 6],\n",
    "    'D': [10, 20, 30, 40, 50, 60]\n",
    "})\n",
    "print(\"\\nMulti-column grouping:\")\n",
    "print(df_multi_group.groupby(['A', 'B']).sum())\n"
   ]
  },
  {
   "cell_type": "code",
   "execution_count": 288,
   "id": "6feb2bda",
   "metadata": {},
   "outputs": [
    {
     "name": "stdout",
     "output_type": "stream",
     "text": [
      "\n",
      "Different aggregation functions:\n",
      "          A                  G            \n",
      "      count sum mean  std  min  max median\n",
      "E                                         \n",
      "test      3   9  3.0  2.0  1.1  5.5    3.3\n",
      "train     3  12  4.0  2.0  2.2  6.6    4.4\n",
      "\n",
      "Custom aggregation function:\n",
      "E\n",
      "test     4\n",
      "train    4\n",
      "Name: A, dtype: int64\n",
      "\n",
      "Transform (group-wise standardization):\n",
      "2024-01-01   -1.0\n",
      "2024-01-02   -1.0\n",
      "2024-01-03    0.0\n",
      "2024-01-04    0.0\n",
      "2024-01-05    1.0\n",
      "2024-01-06    1.0\n",
      "Freq: D, Name: A, dtype: float64\n",
      "\n",
      "Filter groups (groups where sum of A > 6):\n",
      "            A          B   C  D      E    F    G    H\n",
      "2024-01-01  1 2024-01-02 NaN  3   test  foo  1.1  NaN\n",
      "2024-01-02  2 2024-01-02 NaN  3  train  foo  2.2  NaN\n",
      "2024-01-03  3 2024-01-02 NaN  3   test  foo  3.3  NaN\n",
      "2024-01-04  4 2024-01-02 NaN  3  train  foo  4.4  NaN\n",
      "2024-01-05  5 2024-01-02 NaN  3   test  foo  5.5  NaN\n",
      "2024-01-06  6 2024-01-02 NaN  3  train  foo  6.6  NaN\n",
      "\n",
      "Apply custom function to groups:\n",
      "E\n",
      "test     2.727273\n",
      "train    2.727273\n",
      "dtype: float64\n"
     ]
    }
   ],
   "source": [
    "# Advanced grouping methods\n",
    "print(\"\\nDifferent aggregation functions:\")\n",
    "print(df6.groupby('E').agg({\n",
    "    'A': ['count', 'sum', 'mean', 'std'],\n",
    "    'G': ['min', 'max', 'median']\n",
    "}))\n",
    "print(\"\\nCustom aggregation function:\")\n",
    "print(df6.groupby('E')['A'].agg(lambda x: x.max() - x.min()))\n",
    "print(\"\\nTransform (group-wise standardization):\")\n",
    "print(df6.groupby('E')['A'].transform(lambda x: (x - x.mean()) / x.std()))\n",
    "print(\"\\nFilter groups (groups where sum of A > 6):\")\n",
    "print(df6.groupby('E').filter(lambda x: x['A'].sum() > 6))\n",
    "\n",
    "def custom_func(group):\n",
    "    return group['A'].sum() / group['G'].mean()\n",
    "\n",
    "print(\"\\nApply custom function to groups:\")\n",
    "print(df6.groupby('E').apply(custom_func))"
   ]
  },
  {
   "cell_type": "code",
   "execution_count": 289,
   "id": "74522c4f",
   "metadata": {},
   "outputs": [
    {
     "name": "stdout",
     "output_type": "stream",
     "text": [
      "\n",
      "Groupby with multiple functions:\n",
      "        A               G          \n",
      "      sum mean count  min  max  std\n",
      "E                                  \n",
      "test    9  3.0     3  1.1  5.5  2.2\n",
      "train  12  4.0     3  2.2  6.6  2.2\n",
      "\n",
      "Groupby with custom aggregation:\n",
      "       A_sum  G_mean  G_std\n",
      "E                          \n",
      "test       9     3.3    2.2\n",
      "train     12     4.4    2.2\n",
      "\n",
      "Groupby with quantiles:\n",
      "E          \n",
      "test   0.25    2.0\n",
      "       0.50    3.0\n",
      "       0.75    4.0\n",
      "train  0.25    3.0\n",
      "       0.50    4.0\n",
      "       0.75    5.0\n",
      "Name: A, dtype: float64\n",
      "\n",
      "Groupby with multiple statistics:\n",
      "          A                                        B                       \\\n",
      "      count mean  min  25%  50%  75%  max  std count                 mean   \n",
      "E                                                                           \n",
      "test    3.0  3.0  1.0  2.0  3.0  4.0  5.0  2.0     3  2024-01-02 00:00:00   \n",
      "train   3.0  4.0  2.0  3.0  4.0  5.0  6.0  2.0     3  2024-01-02 00:00:00   \n",
      "\n",
      "       ...    D          G                                     \n",
      "       ...  max  std count mean  min  25%  50%  75%  max  std  \n",
      "E      ...                                                     \n",
      "test   ...  3.0  0.0   3.0  3.3  1.1  2.2  3.3  4.4  5.5  2.2  \n",
      "train  ...  3.0  0.0   3.0  4.4  2.2  3.3  4.4  5.5  6.6  2.2  \n",
      "\n",
      "[2 rows x 40 columns]\n"
     ]
    }
   ],
   "source": [
    "# Additional grouping methods\n",
    "print(\"\\nGroupby with multiple functions:\")\n",
    "print(df6.groupby('E').agg({\n",
    "    'A': ['sum', 'mean', 'count'],\n",
    "    'G': ['min', 'max', 'std']\n",
    "}))\n",
    "print(\"\\nGroupby with custom aggregation:\")\n",
    "print(df6.groupby('E').agg(\n",
    "    A_sum=('A', 'sum'),\n",
    "    G_mean=('G', 'mean'),\n",
    "    G_std=('G', 'std')\n",
    "))\n",
    "print(\"\\nGroupby with quantiles:\")\n",
    "print(df6.groupby('E')['A'].quantile([0.25, 0.5, 0.75]))\n",
    "print(\"\\nGroupby with multiple statistics:\")\n",
    "print(df6.groupby('E').describe())\n"
   ]
  },
  {
   "cell_type": "code",
   "execution_count": 290,
   "id": "9d3b1f22",
   "metadata": {},
   "outputs": [
    {
     "name": "stdout",
     "output_type": "stream",
     "text": [
      "\n",
      "Group by month:\n",
      "month\n",
      "1    3.5\n",
      "Name: A, dtype: float64\n",
      "\n",
      "Using Grouper for datetime grouping:\n",
      "2024-01-01     3\n",
      "2024-01-03     7\n",
      "2024-01-05    11\n",
      "Freq: 2D, Name: A, dtype: int64\n"
     ]
    }
   ],
   "source": [
    "# Time-based grouping\n",
    "df_time_group = df6.copy()\n",
    "df_time_group['month'] = df_time_group.index.month\n",
    "print(\"\\nGroup by month:\")\n",
    "print(df_time_group.groupby('month')['A'].mean())\n",
    "print(\"\\nUsing Grouper for datetime grouping:\")\n",
    "print(df6.groupby(pd.Grouper(freq='2D'))['A'].sum())\n"
   ]
  },
  {
   "cell_type": "code",
   "execution_count": 291,
   "id": "26cb3eec",
   "metadata": {},
   "outputs": [
    {
     "name": "stdout",
     "output_type": "stream",
     "text": [
      "\n",
      "Size of each group:\n",
      "E\n",
      "test     3\n",
      "train    3\n",
      "dtype: int64\n",
      "\n",
      "Count of non-null values in each group:\n",
      "       A  B  C  D  F  G  H\n",
      "E                         \n",
      "test   3  3  0  3  3  3  0\n",
      "train  3  3  0  3  3  3  0\n",
      "\n",
      "First element of each group:\n",
      "            A          B   C  D      E    F    G    H\n",
      "2024-01-01  1 2024-01-02 NaN  3   test  foo  1.1  NaN\n",
      "2024-01-02  2 2024-01-02 NaN  3  train  foo  2.2  NaN\n",
      "\n",
      "Second element of each group:\n",
      "            A          B   C  D      E    F    G    H\n",
      "2024-01-03  3 2024-01-02 NaN  3   test  foo  3.3  NaN\n",
      "2024-01-04  4 2024-01-02 NaN  3  train  foo  4.4  NaN\n",
      "\n",
      "First 2 rows of each group:\n",
      "            A          B   C  D      E    F    G    H\n",
      "2024-01-01  1 2024-01-02 NaN  3   test  foo  1.1  NaN\n",
      "2024-01-02  2 2024-01-02 NaN  3  train  foo  2.2  NaN\n",
      "2024-01-03  3 2024-01-02 NaN  3   test  foo  3.3  NaN\n",
      "2024-01-04  4 2024-01-02 NaN  3  train  foo  4.4  NaN\n",
      "\n"
     ]
    }
   ],
   "source": [
    "# Group statistics\n",
    "print(\"\\nSize of each group:\")\n",
    "print(df6.groupby('E').size())\n",
    "print(\"\\nCount of non-null values in each group:\")\n",
    "print(df6.groupby('E').count())\n",
    "print(\"\\nFirst element of each group:\")\n",
    "print(df6.groupby('E').nth(0))\n",
    "print(\"\\nSecond element of each group:\")\n",
    "print(df6.groupby('E').nth(1))\n",
    "print(\"\\nFirst 2 rows of each group:\")\n",
    "print(df6.groupby('E').head(2))\n",
    "print()"
   ]
  },
  {
   "cell_type": "code",
   "execution_count": 292,
   "id": "dae6a5ca",
   "metadata": {},
   "outputs": [
    {
     "name": "stdout",
     "output_type": "stream",
     "text": [
      "Pivot data:\n",
      "     A    B  C   D\n",
      "0  foo  one  1  10\n",
      "1  foo  two  2  20\n",
      "2  bar  one  3  30\n",
      "3  bar  two  4  40\n",
      "4  foo  two  5  50\n",
      "5  bar  one  6  60\n",
      "\n",
      "Pivot table:\n",
      "B    one  two\n",
      "A            \n",
      "bar    9    4\n",
      "foo    1    7\n",
      "\n",
      "Pivot table:\n",
      "B    one  two\n",
      "A            \n",
      "bar    9    4\n",
      "foo    1    7\n"
     ]
    }
   ],
   "source": [
    "\n",
    "\n",
    "# Comprehensive reshaping\n",
    "pivot_data = pd.DataFrame({\n",
    "    'A': ['foo', 'foo', 'bar', 'bar', 'foo', 'bar'],\n",
    "    'B': ['one', 'two', 'one', 'two', 'two', 'one'],\n",
    "    'C': [1, 2, 3, 4, 5, 6],\n",
    "    'D': [10, 20, 30, 40, 50, 60]\n",
    "})\n",
    "\n",
    "print(\"Pivot data:\")\n",
    "print(pivot_data)\n",
    "\n",
    "pivot_table = pivot_data.pivot_table(values='C', index='A', columns='B', aggfunc='sum')\n",
    "print(\"\\nPivot table:\")\n",
    "print(pivot_table)\n",
    "\n",
    "\n",
    "\n",
    "\n"
   ]
  },
  {
   "cell_type": "code",
   "execution_count": 293,
   "id": "021df414",
   "metadata": {},
   "outputs": [
    {
     "name": "stdout",
     "output_type": "stream",
     "text": [
      "\n",
      "Stacked:\n",
      "A    B  \n",
      "bar  one    9\n",
      "     two    4\n",
      "foo  one    1\n",
      "     two    7\n",
      "dtype: int64\n",
      "\n",
      "Unstacked:\n",
      "B    one  two\n",
      "A            \n",
      "bar    9    4\n",
      "foo    1    7\n"
     ]
    }
   ],
   "source": [
    "# Stack and unstack\n",
    "print(\"\\nStacked:\")\n",
    "stacked = pivot_table.stack()\n",
    "print(stacked)\n",
    "print(\"\\nUnstacked:\")\n",
    "print(stacked.unstack())"
   ]
  },
  {
   "cell_type": "code",
   "execution_count": 294,
   "id": "c945face",
   "metadata": {},
   "outputs": [
    {
     "name": "stdout",
     "output_type": "stream",
     "text": [
      "\n",
      "Melted DataFrame:\n",
      "      A variable  value\n",
      "0   foo        C      1\n",
      "1   foo        C      2\n",
      "2   bar        C      3\n",
      "3   bar        C      4\n",
      "4   foo        C      5\n",
      "5   bar        C      6\n",
      "6   foo        D     10\n",
      "7   foo        D     20\n",
      "8   bar        D     30\n",
      "9   bar        D     40\n",
      "10  foo        D     50\n",
      "11  bar        D     60\n"
     ]
    }
   ],
   "source": [
    "# Melt\n",
    "melted = pd.melt(pivot_data, id_vars=['A'], value_vars=['C', 'D'])\n",
    "print(\"\\nMelted DataFrame:\")\n",
    "print(melted)\n"
   ]
  },
  {
   "cell_type": "code",
   "execution_count": 295,
   "id": "2579c2d9",
   "metadata": {},
   "outputs": [
    {
     "name": "stdout",
     "output_type": "stream",
     "text": [
      "\n",
      "Pivot with multiple values:\n",
      "      C       D    \n",
      "B   one two one two\n",
      "A                  \n",
      "bar   9   4  90  40\n",
      "foo   1   7  10  70\n",
      "\n",
      "Pivot with margins:\n",
      "B    one  two  All\n",
      "A                 \n",
      "bar    9    4   13\n",
      "foo    1    7    8\n",
      "All   10   11   21\n"
     ]
    }
   ],
   "source": [
    "# Advanced reshaping\n",
    "print(\"\\nPivot with multiple values:\")\n",
    "print(pivot_data.pivot_table(values=['C', 'D'], index='A', columns='B', aggfunc='sum'))\n",
    "print(\"\\nPivot with margins:\")\n",
    "print(pivot_data.pivot_table(values='C', index='A', columns='B', aggfunc='sum', margins=True))\n",
    "\n"
   ]
  },
  {
   "cell_type": "code",
   "execution_count": 296,
   "id": "8c0ba16b",
   "metadata": {},
   "outputs": [
    {
     "name": "stdout",
     "output_type": "stream",
     "text": [
      "\n",
      "Wide to long format (melt with multiple value columns):\n",
      "      A    B metric  value\n",
      "0   foo  one      C      1\n",
      "1   foo  two      C      2\n",
      "2   bar  one      C      3\n",
      "3   bar  two      C      4\n",
      "4   foo  two      C      5\n",
      "5   bar  one      C      6\n",
      "6   foo  one      D     10\n",
      "7   foo  two      D     20\n",
      "8   bar  one      D     30\n",
      "9   bar  two      D     40\n",
      "10  foo  two      D     50\n",
      "11  bar  one      D     60\n"
     ]
    }
   ],
   "source": [
    "# Wide to long\n",
    "print(\"\\nWide to long format (melt with multiple value columns):\")\n",
    "print(pd.melt(pivot_data, id_vars=['A', 'B'], value_vars=['C', 'D'], var_name='metric', value_name='value'))\n"
   ]
  },
  {
   "cell_type": "code",
   "execution_count": 297,
   "id": "29190d3c",
   "metadata": {},
   "outputs": [
    {
     "name": "stdout",
     "output_type": "stream",
     "text": [
      "\n",
      "Crosstab:\n",
      "B    one  two\n",
      "A            \n",
      "bar    9    4\n",
      "foo    1    7\n",
      "\n"
     ]
    }
   ],
   "source": [
    "# Crosstab\n",
    "print(\"\\nCrosstab:\")\n",
    "print(pd.crosstab(pivot_data['A'], pivot_data['B'], values=pivot_data['C'], aggfunc='sum'))\n",
    "print()"
   ]
  },
  {
   "cell_type": "code",
   "execution_count": 298,
   "id": "b1ff0e5d",
   "metadata": {},
   "outputs": [
    {
     "name": "stdout",
     "output_type": "stream",
     "text": [
      "Time series data (first 5 rows):\n",
      "               value category\n",
      "2024-01-01 -1.594215        B\n",
      "2024-01-02 -1.617355        B\n",
      "2024-01-03 -0.758124        C\n",
      "2024-01-04  0.854812        C\n",
      "2024-01-05 -0.078448        A\n"
     ]
    }
   ],
   "source": [
    "# Comprehensive time series\n",
    "ts_index = pd.date_range('2024-01-01', periods=100, freq='D')\n",
    "ts_data = pd.DataFrame({\n",
    "    'value': np.random.randn(100).cumsum(),\n",
    "    'category': np.random.choice(['A', 'B', 'C'], 100)\n",
    "}, index=ts_index)\n",
    "\n",
    "print(\"Time series data (first 5 rows):\")\n",
    "print(ts_data.head())\n"
   ]
  },
  {
   "cell_type": "code",
   "execution_count": 299,
   "id": "53496339",
   "metadata": {},
   "outputs": [
    {
     "name": "stdout",
     "output_type": "stream",
     "text": [
      "\n",
      "Monthly resampled data:\n",
      "2024-01-31   -1.050756\n",
      "2024-02-29    2.954332\n",
      "2024-03-31    5.247298\n",
      "2024-04-30    8.357132\n",
      "Freq: ME, Name: value, dtype: float64\n",
      "\n",
      "Weekly resampled data:\n",
      "2024-01-07    -6.358179\n",
      "2024-01-14   -10.903426\n",
      "2024-01-21   -14.810924\n",
      "2024-01-28     2.712757\n",
      "2024-02-04    -7.680895\n",
      "2024-02-11     5.540213\n",
      "2024-02-18    37.037502\n",
      "2024-02-25    30.581262\n",
      "2024-03-03    31.926868\n",
      "2024-03-10    38.796564\n",
      "2024-03-17    33.399952\n",
      "2024-03-24    45.124741\n",
      "2024-03-31    30.402010\n",
      "2024-04-07    56.197030\n",
      "2024-04-14    19.017155\n",
      "Freq: W-SUN, Name: value, dtype: float64\n"
     ]
    }
   ],
   "source": [
    "# Resample\n",
    "print(\"\\nMonthly resampled data:\")\n",
    "print(ts_data['value'].resample('M').mean())\n",
    "print(\"\\nWeekly resampled data:\")\n",
    "print(ts_data['value'].resample('W').sum())\n"
   ]
  },
  {
   "cell_type": "code",
   "execution_count": 300,
   "id": "b86ec16d",
   "metadata": {},
   "outputs": [
    {
     "name": "stdout",
     "output_type": "stream",
     "text": [
      "\n",
      "7-day rolling mean (first 10 values):\n",
      "2024-01-01         NaN\n",
      "2024-01-02         NaN\n",
      "2024-01-03         NaN\n",
      "2024-01-04         NaN\n",
      "2024-01-05         NaN\n",
      "2024-01-06         NaN\n",
      "2024-01-07   -0.908311\n",
      "2024-01-08   -0.827810\n",
      "2024-01-09   -0.673045\n",
      "2024-01-10   -0.744133\n",
      "Freq: D, Name: value, dtype: float64\n",
      "\n",
      "7-day rolling std:\n",
      "2024-01-01         NaN\n",
      "2024-01-02         NaN\n",
      "2024-01-03         NaN\n",
      "2024-01-04         NaN\n",
      "2024-01-05         NaN\n",
      "2024-01-06         NaN\n",
      "2024-01-07    1.007963\n",
      "2024-01-08    0.965668\n",
      "2024-01-09    0.902807\n",
      "2024-01-10    0.929810\n",
      "Freq: D, Name: value, dtype: float64\n"
     ]
    }
   ],
   "source": [
    "# Rolling window\n",
    "print(\"\\n7-day rolling mean (first 10 values):\")\n",
    "print(ts_data['value'].rolling(window=7).mean().head(10))\n",
    "print(\"\\n7-day rolling std:\")\n",
    "print(ts_data['value'].rolling(window=7).std().head(10))\n"
   ]
  },
  {
   "cell_type": "code",
   "execution_count": 301,
   "id": "54273fae",
   "metadata": {},
   "outputs": [
    {
     "name": "stdout",
     "output_type": "stream",
     "text": [
      "\n",
      "Expanding mean (first 10 values):\n",
      "2024-01-01   -1.594215\n",
      "2024-01-02   -1.605785\n",
      "2024-01-03   -1.323231\n",
      "2024-01-04   -0.778720\n",
      "2024-01-05   -0.638666\n",
      "2024-01-06   -0.721981\n",
      "2024-01-07   -0.908311\n",
      "2024-01-08   -0.923611\n",
      "2024-01-09   -0.880320\n",
      "2024-01-10   -0.917862\n",
      "Freq: D, Name: value, dtype: float64\n"
     ]
    }
   ],
   "source": [
    "# Expanding window\n",
    "print(\"\\nExpanding mean (first 10 values):\")\n",
    "print(ts_data['value'].expanding().mean().head(10))\n"
   ]
  },
  {
   "cell_type": "code",
   "execution_count": 302,
   "id": "96523870",
   "metadata": {},
   "outputs": [
    {
     "name": "stdout",
     "output_type": "stream",
     "text": [
      "\n",
      "Date components:\n",
      "Year: [2024, 2024, 2024, 2024, 2024]\n",
      "Month: [1, 1, 1, 1, 1]\n",
      "Day: [1, 2, 3, 4, 5]\n",
      "Day of week: [0, 1, 2, 3, 4]\n",
      "Day name: ['Monday', 'Tuesday', 'Wednesday', 'Thursday', 'Friday']\n"
     ]
    }
   ],
   "source": [
    "# Date/time components\n",
    "print(\"\\nDate components:\")\n",
    "print(f\"Year: {ts_data.index.year[:5].tolist()}\")\n",
    "print(f\"Month: {ts_data.index.month[:5].tolist()}\")\n",
    "print(f\"Day: {ts_data.index.day[:5].tolist()}\")\n",
    "print(f\"Day of week: {ts_data.index.dayofweek[:5].tolist()}\")\n",
    "print(f\"Day name: {ts_data.index.day_name()[:5].tolist()}\")\n"
   ]
  },
  {
   "cell_type": "code",
   "execution_count": 303,
   "id": "3ae3f7b1",
   "metadata": {},
   "outputs": [
    {
     "name": "stdout",
     "output_type": "stream",
     "text": [
      "\n",
      "Time zone operations:\n",
      "UTC timezone: UTC\n",
      "EST timezone: US/Eastern\n"
     ]
    }
   ],
   "source": [
    "# Time zone operations\n",
    "print(\"\\nTime zone operations:\")\n",
    "ts_utc = ts_data.tz_localize('UTC')\n",
    "print(f\"UTC timezone: {ts_utc.index.tz}\")\n",
    "ts_est = ts_utc.tz_convert('US/Eastern')\n",
    "print(f\"EST timezone: {ts_est.index.tz}\")"
   ]
  },
  {
   "cell_type": "code",
   "execution_count": 304,
   "id": "c15c935b",
   "metadata": {},
   "outputs": [
    {
     "name": "stdout",
     "output_type": "stream",
     "text": [
      "\n",
      "Lag (shift forward):\n",
      "2024-01-01         NaN\n",
      "2024-01-02   -1.594215\n",
      "2024-01-03   -1.617355\n",
      "2024-01-04   -0.758124\n",
      "2024-01-05    0.854812\n",
      "Freq: D, Name: value, dtype: float64\n",
      "\n",
      "Lead (shift backward):\n",
      "2024-01-01   -1.617355\n",
      "2024-01-02   -0.758124\n",
      "2024-01-03    0.854812\n",
      "2024-01-04   -0.078448\n",
      "2024-01-05   -1.138558\n",
      "Freq: D, Name: value, dtype: float64\n"
     ]
    }
   ],
   "source": [
    "# Lag and lead\n",
    "print(\"\\nLag (shift forward):\")\n",
    "print(ts_data['value'].shift(1).head())\n",
    "print(\"\\nLead (shift backward):\")\n",
    "print(ts_data['value'].shift(-1).head())"
   ]
  },
  {
   "cell_type": "code",
   "execution_count": 305,
   "id": "d4a5ad3e",
   "metadata": {},
   "outputs": [
    {
     "name": "stdout",
     "output_type": "stream",
     "text": [
      "\n",
      "Business day frequency:\n",
      "DatetimeIndex(['2024-01-01', '2024-01-02', '2024-01-03', '2024-01-04',\n",
      "               '2024-01-05', '2024-01-08', '2024-01-09', '2024-01-10',\n",
      "               '2024-01-11', '2024-01-12'],\n",
      "              dtype='datetime64[ns]', freq='B')\n"
     ]
    }
   ],
   "source": [
    "# Business day operations\n",
    "print(\"\\nBusiness day frequency:\")\n",
    "bday_range = pd.bdate_range('2024-01-01', periods=10)\n",
    "print(bday_range)\n"
   ]
  },
  {
   "cell_type": "code",
   "execution_count": 306,
   "id": "93bc1076",
   "metadata": {},
   "outputs": [
    {
     "name": "stdout",
     "output_type": "stream",
     "text": [
      "\n",
      "Period operations:\n",
      "PeriodIndex(['2024-01', '2024-02', '2024-03', '2024-04', '2024-05', '2024-06',\n",
      "             '2024-07', '2024-08', '2024-09', '2024-10', '2024-11', '2024-12'],\n",
      "            dtype='period[M]')\n"
     ]
    }
   ],
   "source": [
    "# Period operations\n",
    "print(\"\\nPeriod operations:\")\n",
    "periods = pd.period_range('2024-01', periods=12, freq='M')\n",
    "print(periods)"
   ]
  },
  {
   "cell_type": "code",
   "execution_count": 307,
   "id": "d1be9a38",
   "metadata": {},
   "outputs": [
    {
     "name": "stdout",
     "output_type": "stream",
     "text": [
      "\n",
      "Offset operations:\n",
      "Business day offset: 2024-01-08 00:00:00\n",
      "Month end offset: 2024-01-31 00:00:00\n",
      "\n"
     ]
    }
   ],
   "source": [
    "# Offset operations\n",
    "print(\"\\nOffset operations:\")\n",
    "from pandas.tseries.offsets import BDay, MonthEnd\n",
    "print(f\"Business day offset: {pd.Timestamp('2024-01-01') + BDay(5)}\")\n",
    "print(f\"Month end offset: {pd.Timestamp('2024-01-15') + MonthEnd(1)}\")\n",
    "print()\n"
   ]
  },
  {
   "cell_type": "code",
   "execution_count": 308,
   "id": "1f438027",
   "metadata": {},
   "outputs": [
    {
     "name": "stdout",
     "output_type": "stream",
     "text": [
      "Categorical DataFrame:\n",
      "  category  value\n",
      "0        a      1\n",
      "1        b      2\n",
      "2        c      3\n",
      "3        a      4\n",
      "4        b      5\n",
      "5        c      6\n",
      "Categories: Index(['a', 'b', 'c'], dtype='object')\n",
      "Codes: [0 1 2 0 1 2]\n"
     ]
    }
   ],
   "source": [
    "# Comprehensive categoricals\n",
    "cat_data = pd.Categorical(['a', 'b', 'c', 'a', 'b', 'c'])\n",
    "cat_df = pd.DataFrame({'category': cat_data, 'value': [1, 2, 3, 4, 5, 6]})\n",
    "\n",
    "print(\"Categorical DataFrame:\")\n",
    "print(cat_df)\n",
    "print(f\"Categories: {cat_data.categories}\")\n",
    "print(f\"Codes: {cat_data.codes}\")\n"
   ]
  },
  {
   "cell_type": "code",
   "execution_count": 309,
   "id": "0502a35a",
   "metadata": {},
   "outputs": [
    {
     "name": "stdout",
     "output_type": "stream",
     "text": [
      "\n",
      "Ordered categorical: ['small', 'medium', 'large', 'small', 'large']\n",
      "Categories (3, object): ['small' < 'medium' < 'large']\n"
     ]
    }
   ],
   "source": [
    "# Ordered categorical\n",
    "ordered_cat = pd.Categorical(['small', 'medium', 'large', 'small', 'large'], \n",
    "                        categories=['small', 'medium', 'large'], \n",
    "                        ordered=True)\n",
    "print(f\"\\nOrdered categorical: {ordered_cat}\")\n"
   ]
  },
  {
   "cell_type": "code",
   "execution_count": 310,
   "id": "eea27004",
   "metadata": {},
   "outputs": [
    {
     "name": "stdout",
     "output_type": "stream",
     "text": [
      "\n",
      "Categorical operations:\n",
      "Add categories: ['a', 'b', 'c', 'a', 'b', 'c']\n",
      "Categories (4, object): ['a', 'b', 'c', 'd']\n",
      "Remove categories: [NaN, 'b', 'c', NaN, 'b', 'c']\n",
      "Categories (2, object): ['b', 'c']\n",
      "Rename categories: ['x', 'y', 'z', 'x', 'y', 'z']\n",
      "Categories (3, object): ['x', 'y', 'z']\n",
      "Reorder categories: ['a', 'b', 'c', 'a', 'b', 'c']\n",
      "Categories (3, object): ['c', 'b', 'a']\n"
     ]
    }
   ],
   "source": [
    "# Categorical operations\n",
    "print(\"\\nCategorical operations:\")\n",
    "print(f\"Add categories: {cat_data.add_categories(['d'])}\")\n",
    "print(f\"Remove categories: {cat_data.remove_categories(['a'])}\")\n",
    "print(f\"Rename categories: {cat_data.rename_categories(['x', 'y', 'z'])}\")\n",
    "print(f\"Reorder categories: {cat_data.reorder_categories(['c', 'b', 'a'])}\")\n"
   ]
  },
  {
   "cell_type": "code",
   "execution_count": 311,
   "id": "e478f616",
   "metadata": {},
   "outputs": [
    {
     "name": "stdout",
     "output_type": "stream",
     "text": [
      "\n",
      "Convert to categorical:\n",
      "Original: object\n",
      "Categorical: category\n",
      "Categories: Index(['blue', 'green', 'red'], dtype='object')\n"
     ]
    }
   ],
   "source": [
    "# Convert to categorical\n",
    "print(\"\\nConvert to categorical:\")\n",
    "regular_series = pd.Series(['red', 'blue', 'red', 'green', 'blue'])\n",
    "cat_series = regular_series.astype('category')\n",
    "print(f\"Original: {regular_series.dtype}\")\n",
    "print(f\"Categorical: {cat_series.dtype}\")\n",
    "print(f\"Categories: {cat_series.cat.categories}\")\n"
   ]
  },
  {
   "cell_type": "code",
   "execution_count": 312,
   "id": "78482066",
   "metadata": {},
   "outputs": [
    {
     "name": "stdout",
     "output_type": "stream",
     "text": [
      "\n",
      "Memory usage comparison:\n",
      "Regular series: 396 bytes\n",
      "Categorical series: 404 bytes\n",
      "\n"
     ]
    }
   ],
   "source": [
    "# Memory usage comparison\n",
    "print(f\"\\nMemory usage comparison:\")\n",
    "print(f\"Regular series: {regular_series.memory_usage(deep=True)} bytes\")\n",
    "print(f\"Categorical series: {cat_series.memory_usage(deep=True)} bytes\")\n",
    "print()\n"
   ]
  },
  {
   "cell_type": "code",
   "execution_count": 313,
   "id": "9b3f78c9",
   "metadata": {},
   "outputs": [
    {
     "name": "stdout",
     "output_type": "stream",
     "text": [
      "String DataFrame:\n",
      "                 text  numbers              emails      mixed\n",
      "0         Hello World  123-456     user@domain.com  ABC123def\n",
      "1     PANDAS is Great  789-012      test@email.org  XYZ789ghi\n",
      "2        data Science  345-678      admin@site.net  MNO456jkl\n",
      "3  Python Programming  901-234  info@company.co.uk  PQR111stu\n"
     ]
    }
   ],
   "source": [
    "# Comprehensive string operations\n",
    "str_df = pd.DataFrame({\n",
    "    'text': ['Hello World', 'PANDAS is Great', 'data Science', 'Python Programming'],\n",
    "    'numbers': ['123-456', '789-012', '345-678', '901-234'],\n",
    "    'emails': ['user@domain.com', 'test@email.org', 'admin@site.net', 'info@company.co.uk'],\n",
    "    'mixed': ['ABC123def', 'XYZ789ghi', 'MNO456jkl', 'PQR111stu']\n",
    "})\n",
    "\n",
    "print(\"String DataFrame:\")\n",
    "print(str_df)"
   ]
  },
  {
   "cell_type": "code",
   "execution_count": 314,
   "id": "7a5a963a",
   "metadata": {},
   "outputs": [
    {
     "name": "stdout",
     "output_type": "stream",
     "text": [
      "\n",
      "Basic string operations:\n",
      "Uppercase: 0           HELLO WORLD\n",
      "1       PANDAS IS GREAT\n",
      "2          DATA SCIENCE\n",
      "3    PYTHON PROGRAMMING\n",
      "Name: text, dtype: object\n",
      "Lowercase: 0           hello world\n",
      "1       pandas is great\n",
      "2          data science\n",
      "3    python programming\n",
      "Name: text, dtype: object\n",
      "Title case: 0           Hello World\n",
      "1       Pandas Is Great\n",
      "2          Data Science\n",
      "3    Python Programming\n",
      "Name: text, dtype: object\n",
      "Capitalize: 0           Hello world\n",
      "1       Pandas is great\n",
      "2          Data science\n",
      "3    Python programming\n",
      "Name: text, dtype: object\n",
      "String length: 0    11\n",
      "1    15\n",
      "2    12\n",
      "3    18\n",
      "Name: text, dtype: int64\n",
      "Split strings: 0           [Hello, World]\n",
      "1      [PANDAS, is, Great]\n",
      "2          [data, Science]\n",
      "3    [Python, Programming]\n",
      "Name: text, dtype: object\n",
      "Contains 'data': 0    False\n",
      "1    False\n",
      "2     True\n",
      "3    False\n",
      "Name: text, dtype: bool\n"
     ]
    }
   ],
   "source": [
    "# Basic string operations\n",
    "print(\"\\nBasic string operations:\")\n",
    "print(\"Uppercase:\", str_df['text'].str.upper())\n",
    "print(\"Lowercase:\", str_df['text'].str.lower())\n",
    "print(\"Title case:\", str_df['text'].str.title())\n",
    "print(\"Capitalize:\", str_df['text'].str.capitalize())\n",
    "print(\"String length:\", str_df['text'].str.len())\n",
    "print(\"Split strings:\", str_df['text'].str.split())\n",
    "print(\"Contains 'data':\", str_df['text'].str.contains('data', case=False))\n"
   ]
  },
  {
   "cell_type": "code",
   "execution_count": 315,
   "id": "eaced9f2",
   "metadata": {},
   "outputs": [
    {
     "name": "stdout",
     "output_type": "stream",
     "text": [
      "\n",
      "Advanced string operations:\n",
      "Replace: 0           Hello_World\n",
      "1       PANDAS_is_Great\n",
      "2          data_Science\n",
      "3    Python_Programming\n",
      "Name: text, dtype: object\n",
      "Slice: 0    Hello\n",
      "1    PANDA\n",
      "2    data \n",
      "3    Pytho\n",
      "Name: text, dtype: object\n",
      "Pad: 0    ----Hello World-----\n",
      "1    --PANDAS is Great---\n",
      "2    ----data Science----\n",
      "3    -Python Programming-\n",
      "Name: text, dtype: object\n",
      "Center: 0    ****Hello World*****\n",
      "1    **PANDAS is Great***\n",
      "2    ****data Science****\n",
      "3    *Python Programming*\n",
      "Name: text, dtype: object\n",
      "Zfill: 0    000000ABC123def\n",
      "1    000000XYZ789ghi\n",
      "2    000000MNO456jkl\n",
      "3    000000PQR111stu\n",
      "Name: mixed, dtype: object\n",
      "Strip whitespace: 0           Hello World\n",
      "1       PANDAS is Great\n",
      "2          data Science\n",
      "3    Python Programming\n",
      "Name: text, dtype: object\n",
      "Startswith: 0    False\n",
      "1     True\n",
      "2    False\n",
      "3     True\n",
      "Name: text, dtype: bool\n",
      "Endswith: 0    False\n",
      "1    False\n",
      "2    False\n",
      "3     True\n",
      "Name: text, dtype: bool\n"
     ]
    }
   ],
   "source": [
    "# Advanced string operations\n",
    "print(\"\\nAdvanced string operations:\")\n",
    "print(\"Replace:\", str_df['text'].str.replace(' ', '_'))\n",
    "print(\"Slice:\", str_df['text'].str[0:5])\n",
    "print(\"Pad:\", str_df['text'].str.pad(20, side='both', fillchar='-'))\n",
    "print(\"Center:\", str_df['text'].str.center(20, fillchar='*'))\n",
    "print(\"Zfill:\", str_df['mixed'].str.zfill(15))\n",
    "print(\"Strip whitespace:\", str_df['text'].str.strip())\n",
    "print(\"Startswith:\", str_df['text'].str.startswith('P'))\n",
    "print(\"Endswith:\", str_df['text'].str.endswith('g'))\n"
   ]
  },
  {
   "cell_type": "code",
   "execution_count": 316,
   "id": "4affd03e",
   "metadata": {},
   "outputs": [
    {
     "name": "stdout",
     "output_type": "stream",
     "text": [
      "\n",
      "Regular expressions:\n",
      "Find all digits: 0    [123]\n",
      "1    [789]\n",
      "2    [456]\n",
      "3    [111]\n",
      "Name: mixed, dtype: object\n",
      "Extract numbers:      0    1\n",
      "0  123  456\n",
      "1  789  012\n",
      "2  345  678\n",
      "3  901  234\n",
      "Extract email parts:        0        1      2\n",
      "0   user   domain    com\n",
      "1   test    email    org\n",
      "2  admin     site    net\n",
      "3   info  company  co.uk\n",
      "Match pattern: 0     True\n",
      "1     True\n",
      "2    False\n",
      "3     True\n",
      "Name: text, dtype: bool\n",
      "Replace with regex: 0    ABCNUMdef\n",
      "1    XYZNUMghi\n",
      "2    MNONUMjkl\n",
      "3    PQRNUMstu\n",
      "Name: mixed, dtype: object\n"
     ]
    }
   ],
   "source": [
    "# Regular expressions\n",
    "print(\"\\nRegular expressions:\")\n",
    "print(\"Find all digits:\", str_df['mixed'].str.findall(r'\\d+'))\n",
    "print(\"Extract numbers:\", str_df['numbers'].str.extract(r'(\\d+)-(\\d+)'))\n",
    "print(\"Extract email parts:\", str_df['emails'].str.extract(r'([^@]+)@([^.]+)\\.(.+)'))\n",
    "print(\"Match pattern:\", str_df['text'].str.match(r'[A-Z]'))\n",
    "print(\"Replace with regex:\", str_df['mixed'].str.replace(r'\\d+', 'NUM', regex=True))\n"
   ]
  },
  {
   "cell_type": "code",
   "execution_count": 317,
   "id": "afe00692",
   "metadata": {},
   "outputs": [
    {
     "name": "stdout",
     "output_type": "stream",
     "text": [
      "\n",
      "String indexing and slicing:\n",
      "Get first character: 0    H\n",
      "1    P\n",
      "2    d\n",
      "3    P\n",
      "Name: text, dtype: object\n",
      "Get last character: 0    d\n",
      "1    t\n",
      "2    e\n",
      "3    g\n",
      "Name: text, dtype: object\n",
      "Slice from position 2 to 5: 0    llo\n",
      "1    NDA\n",
      "2    ta \n",
      "3    tho\n",
      "Name: text, dtype: object\n"
     ]
    }
   ],
   "source": [
    "# String indexing and slicing\n",
    "print(\"\\nString indexing and slicing:\")\n",
    "print(\"Get first character:\", str_df['text'].str[0])\n",
    "print(\"Get last character:\", str_df['text'].str[-1])\n",
    "print(\"Slice from position 2 to 5:\", str_df['text'].str[2:5])\n"
   ]
  },
  {
   "cell_type": "code",
   "execution_count": 318,
   "id": "6a1b98dd",
   "metadata": {},
   "outputs": [
    {
     "name": "stdout",
     "output_type": "stream",
     "text": [
      "\n",
      "String formatting:\n",
      "Count occurrences: 0    0\n",
      "1    1\n",
      "2    2\n",
      "3    1\n",
      "Name: text, dtype: int64\n",
      "Index of substring: 0    -1\n",
      "1    13\n",
      "2     1\n",
      "3    12\n",
      "Name: text, dtype: int64\n",
      "Repeat string: 0                  Hello WorldHello World\n",
      "1          PANDAS is GreatPANDAS is Great\n",
      "2                data Sciencedata Science\n",
      "3    Python ProgrammingPython Programming\n",
      "Name: text, dtype: object\n"
     ]
    }
   ],
   "source": [
    "# String formatting\n",
    "print(\"\\nString formatting:\")\n",
    "print(\"Count occurrences:\", str_df['text'].str.count('a'))\n",
    "print(\"Index of substring:\", str_df['text'].str.find('a'))\n",
    "print(\"Repeat string:\", str_df['text'].str.repeat(2))\n"
   ]
  },
  {
   "cell_type": "code",
   "execution_count": 319,
   "id": "23a1906d",
   "metadata": {},
   "outputs": [
    {
     "name": "stdout",
     "output_type": "stream",
     "text": [
      "\n",
      "Encoding operations:\n",
      "Encode to bytes: 0           b'Hello World'\n",
      "1       b'PANDAS is Great'\n",
      "2          b'data Science'\n",
      "3    b'Python Programming'\n",
      "Name: text, dtype: object\n",
      "Normalize (remove accents):\n",
      "0      cafe\n",
      "1    resume\n",
      "2     naive\n",
      "dtype: object\n",
      "\n"
     ]
    }
   ],
   "source": [
    "# Encoding/decoding\n",
    "print(\"\\nEncoding operations:\")\n",
    "print(\"Encode to bytes:\", str_df['text'].str.encode('utf-8'))\n",
    "print(\"Normalize (remove accents):\")\n",
    "accented = pd.Series(['café', 'résumé', 'naïve'])\n",
    "print(accented.str.normalize('NFD').str.encode('ascii', errors='ignore').str.decode('ascii'))\n",
    "print()\n"
   ]
  },
  {
   "cell_type": "code",
   "execution_count": 320,
   "id": "60a469e2",
   "metadata": {},
   "outputs": [
    {
     "data": {
      "text/html": [
       "<div>\n",
       "<style scoped>\n",
       "    .dataframe tbody tr th:only-of-type {\n",
       "        vertical-align: middle;\n",
       "    }\n",
       "\n",
       "    .dataframe tbody tr th {\n",
       "        vertical-align: top;\n",
       "    }\n",
       "\n",
       "    .dataframe thead th {\n",
       "        text-align: right;\n",
       "    }\n",
       "</style>\n",
       "<table border=\"1\" class=\"dataframe\">\n",
       "  <thead>\n",
       "    <tr style=\"text-align: right;\">\n",
       "      <th></th>\n",
       "      <th>A</th>\n",
       "      <th>B</th>\n",
       "      <th>C</th>\n",
       "      <th>D</th>\n",
       "      <th>E</th>\n",
       "      <th>F</th>\n",
       "      <th>G</th>\n",
       "      <th>H</th>\n",
       "    </tr>\n",
       "  </thead>\n",
       "  <tbody>\n",
       "    <tr>\n",
       "      <th>2024-01-01</th>\n",
       "      <td>1</td>\n",
       "      <td>2024-01-02</td>\n",
       "      <td>NaN</td>\n",
       "      <td>3</td>\n",
       "      <td>test</td>\n",
       "      <td>foo</td>\n",
       "      <td>1.1</td>\n",
       "      <td>NaN</td>\n",
       "    </tr>\n",
       "    <tr>\n",
       "      <th>2024-01-02</th>\n",
       "      <td>2</td>\n",
       "      <td>2024-01-02</td>\n",
       "      <td>NaN</td>\n",
       "      <td>3</td>\n",
       "      <td>train</td>\n",
       "      <td>foo</td>\n",
       "      <td>2.2</td>\n",
       "      <td>NaN</td>\n",
       "    </tr>\n",
       "    <tr>\n",
       "      <th>2024-01-03</th>\n",
       "      <td>3</td>\n",
       "      <td>2024-01-02</td>\n",
       "      <td>NaN</td>\n",
       "      <td>3</td>\n",
       "      <td>test</td>\n",
       "      <td>foo</td>\n",
       "      <td>3.3</td>\n",
       "      <td>NaN</td>\n",
       "    </tr>\n",
       "    <tr>\n",
       "      <th>2024-01-04</th>\n",
       "      <td>4</td>\n",
       "      <td>2024-01-02</td>\n",
       "      <td>NaN</td>\n",
       "      <td>3</td>\n",
       "      <td>train</td>\n",
       "      <td>foo</td>\n",
       "      <td>4.4</td>\n",
       "      <td>NaN</td>\n",
       "    </tr>\n",
       "    <tr>\n",
       "      <th>2024-01-05</th>\n",
       "      <td>5</td>\n",
       "      <td>2024-01-02</td>\n",
       "      <td>NaN</td>\n",
       "      <td>3</td>\n",
       "      <td>test</td>\n",
       "      <td>foo</td>\n",
       "      <td>5.5</td>\n",
       "      <td>NaN</td>\n",
       "    </tr>\n",
       "    <tr>\n",
       "      <th>2024-01-06</th>\n",
       "      <td>6</td>\n",
       "      <td>2024-01-02</td>\n",
       "      <td>NaN</td>\n",
       "      <td>3</td>\n",
       "      <td>train</td>\n",
       "      <td>foo</td>\n",
       "      <td>6.6</td>\n",
       "      <td>NaN</td>\n",
       "    </tr>\n",
       "  </tbody>\n",
       "</table>\n",
       "</div>"
      ],
      "text/plain": [
       "            A          B   C  D      E    F    G    H\n",
       "2024-01-01  1 2024-01-02 NaN  3   test  foo  1.1  NaN\n",
       "2024-01-02  2 2024-01-02 NaN  3  train  foo  2.2  NaN\n",
       "2024-01-03  3 2024-01-02 NaN  3   test  foo  3.3  NaN\n",
       "2024-01-04  4 2024-01-02 NaN  3  train  foo  4.4  NaN\n",
       "2024-01-05  5 2024-01-02 NaN  3   test  foo  5.5  NaN\n",
       "2024-01-06  6 2024-01-02 NaN  3  train  foo  6.6  NaN"
      ]
     },
     "execution_count": 320,
     "metadata": {},
     "output_type": "execute_result"
    }
   ],
   "source": [
    "df6"
   ]
  },
  {
   "cell_type": "code",
   "execution_count": 321,
   "id": "3c6bf453",
   "metadata": {},
   "outputs": [
    {
     "data": {
      "text/html": [
       "<div>\n",
       "<style scoped>\n",
       "    .dataframe tbody tr th:only-of-type {\n",
       "        vertical-align: middle;\n",
       "    }\n",
       "\n",
       "    .dataframe tbody tr th {\n",
       "        vertical-align: top;\n",
       "    }\n",
       "\n",
       "    .dataframe thead th {\n",
       "        text-align: right;\n",
       "    }\n",
       "</style>\n",
       "<table border=\"1\" class=\"dataframe\">\n",
       "  <thead>\n",
       "    <tr style=\"text-align: right;\">\n",
       "      <th></th>\n",
       "      <th>A</th>\n",
       "      <th>B</th>\n",
       "      <th>C</th>\n",
       "      <th>D</th>\n",
       "      <th>E</th>\n",
       "      <th>F</th>\n",
       "      <th>G</th>\n",
       "      <th>H</th>\n",
       "    </tr>\n",
       "  </thead>\n",
       "  <tbody>\n",
       "    <tr>\n",
       "      <th>2024-01-01</th>\n",
       "      <td>1</td>\n",
       "      <td>2024-01-03</td>\n",
       "      <td>NaN</td>\n",
       "      <td>3</td>\n",
       "      <td>test</td>\n",
       "      <td>foo</td>\n",
       "      <td>1.1</td>\n",
       "      <td>NaN</td>\n",
       "    </tr>\n",
       "    <tr>\n",
       "      <th>2024-01-02</th>\n",
       "      <td>2</td>\n",
       "      <td>2024-01-02</td>\n",
       "      <td>NaN</td>\n",
       "      <td>3</td>\n",
       "      <td>train</td>\n",
       "      <td>foo</td>\n",
       "      <td>2.2</td>\n",
       "      <td>NaN</td>\n",
       "    </tr>\n",
       "    <tr>\n",
       "      <th>2024-01-03</th>\n",
       "      <td>3</td>\n",
       "      <td>2024-01-02</td>\n",
       "      <td>NaN</td>\n",
       "      <td>3</td>\n",
       "      <td>test</td>\n",
       "      <td>foo</td>\n",
       "      <td>3.3</td>\n",
       "      <td>NaN</td>\n",
       "    </tr>\n",
       "    <tr>\n",
       "      <th>2024-01-04</th>\n",
       "      <td>4</td>\n",
       "      <td>2024-01-02</td>\n",
       "      <td>NaN</td>\n",
       "      <td>3</td>\n",
       "      <td>train</td>\n",
       "      <td>foo</td>\n",
       "      <td>4.4</td>\n",
       "      <td>NaN</td>\n",
       "    </tr>\n",
       "    <tr>\n",
       "      <th>2024-01-05</th>\n",
       "      <td>5</td>\n",
       "      <td>2024-01-02</td>\n",
       "      <td>NaN</td>\n",
       "      <td>3</td>\n",
       "      <td>test</td>\n",
       "      <td>foo</td>\n",
       "      <td>5.5</td>\n",
       "      <td>NaN</td>\n",
       "    </tr>\n",
       "    <tr>\n",
       "      <th>2024-01-06</th>\n",
       "      <td>6</td>\n",
       "      <td>2024-01-02</td>\n",
       "      <td>NaN</td>\n",
       "      <td>3</td>\n",
       "      <td>train</td>\n",
       "      <td>foo</td>\n",
       "      <td>6.6</td>\n",
       "      <td>NaN</td>\n",
       "    </tr>\n",
       "  </tbody>\n",
       "</table>\n",
       "</div>"
      ],
      "text/plain": [
       "            A          B   C  D      E    F    G    H\n",
       "2024-01-01  1 2024-01-03 NaN  3   test  foo  1.1  NaN\n",
       "2024-01-02  2 2024-01-02 NaN  3  train  foo  2.2  NaN\n",
       "2024-01-03  3 2024-01-02 NaN  3   test  foo  3.3  NaN\n",
       "2024-01-04  4 2024-01-02 NaN  3  train  foo  4.4  NaN\n",
       "2024-01-05  5 2024-01-02 NaN  3   test  foo  5.5  NaN\n",
       "2024-01-06  6 2024-01-02 NaN  3  train  foo  6.6  NaN"
      ]
     },
     "execution_count": 321,
     "metadata": {},
     "output_type": "execute_result"
    }
   ],
   "source": [
    "# df6.at[df6.index[0], 'B']\n",
    "df6.at[df6.index[0], 'B'] = \"2024-01-03 00:00:00\"\n",
    "df6"
   ]
  },
  {
   "cell_type": "code",
   "execution_count": 322,
   "id": "25e9dae0",
   "metadata": {},
   "outputs": [
    {
     "data": {
      "text/html": [
       "<div>\n",
       "<style scoped>\n",
       "    .dataframe tbody tr th:only-of-type {\n",
       "        vertical-align: middle;\n",
       "    }\n",
       "\n",
       "    .dataframe tbody tr th {\n",
       "        vertical-align: top;\n",
       "    }\n",
       "\n",
       "    .dataframe thead th {\n",
       "        text-align: right;\n",
       "    }\n",
       "</style>\n",
       "<table border=\"1\" class=\"dataframe\">\n",
       "  <thead>\n",
       "    <tr style=\"text-align: right;\">\n",
       "      <th></th>\n",
       "      <th>A</th>\n",
       "      <th>B</th>\n",
       "      <th>C</th>\n",
       "      <th>D</th>\n",
       "      <th>E</th>\n",
       "      <th>F</th>\n",
       "      <th>G</th>\n",
       "      <th>H</th>\n",
       "    </tr>\n",
       "  </thead>\n",
       "  <tbody>\n",
       "    <tr>\n",
       "      <th>2024-01-01</th>\n",
       "      <td>1</td>\n",
       "      <td>2024-01-03</td>\n",
       "      <td>NaN</td>\n",
       "      <td>3</td>\n",
       "      <td>test</td>\n",
       "      <td>foo</td>\n",
       "      <td>1.1</td>\n",
       "      <td>NaN</td>\n",
       "    </tr>\n",
       "    <tr>\n",
       "      <th>2024-01-02</th>\n",
       "      <td>2</td>\n",
       "      <td>2025-01-02</td>\n",
       "      <td>NaN</td>\n",
       "      <td>3</td>\n",
       "      <td>train</td>\n",
       "      <td>foo</td>\n",
       "      <td>2.2</td>\n",
       "      <td>NaN</td>\n",
       "    </tr>\n",
       "    <tr>\n",
       "      <th>2024-01-03</th>\n",
       "      <td>3</td>\n",
       "      <td>2024-01-02</td>\n",
       "      <td>NaN</td>\n",
       "      <td>3</td>\n",
       "      <td>test</td>\n",
       "      <td>foo</td>\n",
       "      <td>3.3</td>\n",
       "      <td>NaN</td>\n",
       "    </tr>\n",
       "    <tr>\n",
       "      <th>2024-01-04</th>\n",
       "      <td>4</td>\n",
       "      <td>2024-01-02</td>\n",
       "      <td>NaN</td>\n",
       "      <td>3</td>\n",
       "      <td>train</td>\n",
       "      <td>foo</td>\n",
       "      <td>4.4</td>\n",
       "      <td>NaN</td>\n",
       "    </tr>\n",
       "    <tr>\n",
       "      <th>2024-01-05</th>\n",
       "      <td>5</td>\n",
       "      <td>2024-01-02</td>\n",
       "      <td>NaN</td>\n",
       "      <td>3</td>\n",
       "      <td>test</td>\n",
       "      <td>foo</td>\n",
       "      <td>5.5</td>\n",
       "      <td>NaN</td>\n",
       "    </tr>\n",
       "    <tr>\n",
       "      <th>2024-01-06</th>\n",
       "      <td>6</td>\n",
       "      <td>2024-01-02</td>\n",
       "      <td>NaN</td>\n",
       "      <td>3</td>\n",
       "      <td>train</td>\n",
       "      <td>foo</td>\n",
       "      <td>6.6</td>\n",
       "      <td>NaN</td>\n",
       "    </tr>\n",
       "  </tbody>\n",
       "</table>\n",
       "</div>"
      ],
      "text/plain": [
       "            A          B   C  D      E    F    G    H\n",
       "2024-01-01  1 2024-01-03 NaN  3   test  foo  1.1  NaN\n",
       "2024-01-02  2 2025-01-02 NaN  3  train  foo  2.2  NaN\n",
       "2024-01-03  3 2024-01-02 NaN  3   test  foo  3.3  NaN\n",
       "2024-01-04  4 2024-01-02 NaN  3  train  foo  4.4  NaN\n",
       "2024-01-05  5 2024-01-02 NaN  3   test  foo  5.5  NaN\n",
       "2024-01-06  6 2024-01-02 NaN  3  train  foo  6.6  NaN"
      ]
     },
     "execution_count": 322,
     "metadata": {},
     "output_type": "execute_result"
    }
   ],
   "source": [
    "#at,iat, iterrows,pyarrow usecases example\n",
    "# df6.iat[0,0]\n",
    "# df6.iat[0,1]\n",
    "\n",
    "\n",
    "df6.iat[1,1] = \"2025-01-02 00:00:00\"\n",
    "df6"
   ]
  },
  {
   "cell_type": "code",
   "execution_count": 323,
   "id": "df40eaa2",
   "metadata": {},
   "outputs": [
    {
     "data": {
      "text/plain": [
       "array(['2024-01-03T00:00:00', '2025-01-02T00:00:00',\n",
       "       '2024-01-02T00:00:00', '2024-01-02T00:00:00',\n",
       "       '2024-01-02T00:00:00', '2024-01-02T00:00:00'],\n",
       "      dtype='datetime64[s]')"
      ]
     },
     "execution_count": 323,
     "metadata": {},
     "output_type": "execute_result"
    }
   ],
   "source": [
    "numpy_array = df6['B'].to_numpy()\n",
    "numpy_array"
   ]
  },
  {
   "cell_type": "code",
   "execution_count": null,
   "id": "676f3d96",
   "metadata": {},
   "outputs": [],
   "source": []
  }
 ],
 "metadata": {
  "kernelspec": {
   "display_name": "medibot",
   "language": "python",
   "name": "python3"
  },
  "language_info": {
   "codemirror_mode": {
    "name": "ipython",
    "version": 3
   },
   "file_extension": ".py",
   "mimetype": "text/x-python",
   "name": "python",
   "nbconvert_exporter": "python",
   "pygments_lexer": "ipython3",
   "version": "3.12.11"
  }
 },
 "nbformat": 4,
 "nbformat_minor": 5
}
